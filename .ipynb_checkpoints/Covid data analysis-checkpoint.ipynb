{
 "cells": [
  {
   "cell_type": "markdown",
   "metadata": {},
   "source": [
    "# Analisi dati italiani Covid19"
   ]
  },
  {
   "cell_type": "markdown",
   "metadata": {},
   "source": [
    "Scarico i dati disponibili nella cartella della protezione civile su Github"
   ]
  },
  {
   "cell_type": "code",
   "execution_count": 1,
   "metadata": {},
   "outputs": [
    {
     "name": "stderr",
     "output_type": "stream",
     "text": [
      "Warning message:\n",
      "\"package 'RCurl' was built under R version 3.6.2\"Warning message:\n",
      "\"package 'dplyr' was built under R version 3.6.3\"\n",
      "Attaching package: 'dplyr'\n",
      "\n",
      "The following objects are masked from 'package:stats':\n",
      "\n",
      "    filter, lag\n",
      "\n",
      "The following objects are masked from 'package:base':\n",
      "\n",
      "    intersect, setdiff, setequal, union\n",
      "\n",
      "Warning message:\n",
      "\"package 'magrittr' was built under R version 3.6.3\"Warning message:\n",
      "\"package 'ggplot2' was built under R version 3.6.3\""
     ]
    }
   ],
   "source": [
    "library(RCurl)\n",
    "library(dplyr)\n",
    "library(magrittr)\n",
    "library(ggplot2)\n",
    "x <- getURL(\"https://raw.githubusercontent.com/pcm-dpc/COVID-19/master/dati-regioni/dpc-covid19-ita-regioni.csv\")\n",
    "y <- read.csv(text = x, stringsAsFactors = FALSE)"
   ]
  },
  {
   "cell_type": "code",
   "execution_count": 2,
   "metadata": {},
   "outputs": [
    {
     "data": {
      "text/html": [
       "<table>\n",
       "<thead><tr><th scope=col>data</th><th scope=col>stato</th><th scope=col>codice_regione</th><th scope=col>denominazione_regione</th><th scope=col>lat</th><th scope=col>long</th><th scope=col>ricoverati_con_sintomi</th><th scope=col>terapia_intensiva</th><th scope=col>totale_ospedalizzati</th><th scope=col>isolamento_domiciliare</th><th scope=col>totale_attualmente_positivi</th><th scope=col>nuovi_attualmente_positivi</th><th scope=col>dimessi_guariti</th><th scope=col>deceduti</th><th scope=col>totale_casi</th><th scope=col>tamponi</th><th scope=col>note_it</th><th scope=col>note_en</th></tr></thead>\n",
       "<tbody>\n",
       "\t<tr><td>2020-02-24T18:00:00</td><td>ITA                </td><td>13                 </td><td>Abruzzo            </td><td>42.35122           </td><td>13.39844           </td><td> 0                 </td><td>0                  </td><td> 0                 </td><td>0                  </td><td> 0                 </td><td> 0                 </td><td>0                  </td><td>0                  </td><td> 0                 </td><td>  5                </td><td>                   </td><td>                   </td></tr>\n",
       "\t<tr><td>2020-02-24T18:00:00</td><td>ITA                </td><td>17                 </td><td>Basilicata         </td><td>40.63947           </td><td>15.80515           </td><td> 0                 </td><td>0                  </td><td> 0                 </td><td>0                  </td><td> 0                 </td><td> 0                 </td><td>0                  </td><td>0                  </td><td> 0                 </td><td>  0                </td><td>                   </td><td>                   </td></tr>\n",
       "\t<tr><td>2020-02-24T18:00:00</td><td>ITA                </td><td> 4                 </td><td>P.A. Bolzano       </td><td>46.49933           </td><td>11.35662           </td><td> 0                 </td><td>0                  </td><td> 0                 </td><td>0                  </td><td> 0                 </td><td> 0                 </td><td>0                  </td><td>0                  </td><td> 0                 </td><td>  1                </td><td>                   </td><td>                   </td></tr>\n",
       "\t<tr><td>2020-02-24T18:00:00</td><td>ITA                </td><td>18                 </td><td>Calabria           </td><td>38.90598           </td><td>16.59440           </td><td> 0                 </td><td>0                  </td><td> 0                 </td><td>0                  </td><td> 0                 </td><td> 0                 </td><td>0                  </td><td>0                  </td><td> 0                 </td><td>  1                </td><td>                   </td><td>                   </td></tr>\n",
       "\t<tr><td>2020-02-24T18:00:00</td><td>ITA                </td><td>15                 </td><td>Campania           </td><td>40.83957           </td><td>14.25085           </td><td> 0                 </td><td>0                  </td><td> 0                 </td><td>0                  </td><td> 0                 </td><td> 0                 </td><td>0                  </td><td>0                  </td><td> 0                 </td><td> 10                </td><td>                   </td><td>                   </td></tr>\n",
       "\t<tr><td>2020-02-24T18:00:00</td><td>ITA                </td><td> 8                 </td><td>Emilia Romagna     </td><td>44.49437           </td><td>11.34172           </td><td>10                 </td><td>2                  </td><td>12                 </td><td>6                  </td><td>18                 </td><td>18                 </td><td>0                  </td><td>0                  </td><td>18                 </td><td>148                </td><td>                   </td><td>                   </td></tr>\n",
       "</tbody>\n",
       "</table>\n"
      ],
      "text/latex": [
       "\\begin{tabular}{r|llllllllllllllllll}\n",
       " data & stato & codice\\_regione & denominazione\\_regione & lat & long & ricoverati\\_con\\_sintomi & terapia\\_intensiva & totale\\_ospedalizzati & isolamento\\_domiciliare & totale\\_attualmente\\_positivi & nuovi\\_attualmente\\_positivi & dimessi\\_guariti & deceduti & totale\\_casi & tamponi & note\\_it & note\\_en\\\\\n",
       "\\hline\n",
       "\t 2020-02-24T18:00:00 & ITA                 & 13                  & Abruzzo             & 42.35122            & 13.39844            &  0                  & 0                   &  0                  & 0                   &  0                  &  0                  & 0                   & 0                   &  0                  &   5                 &                     &                    \\\\\n",
       "\t 2020-02-24T18:00:00 & ITA                 & 17                  & Basilicata          & 40.63947            & 15.80515            &  0                  & 0                   &  0                  & 0                   &  0                  &  0                  & 0                   & 0                   &  0                  &   0                 &                     &                    \\\\\n",
       "\t 2020-02-24T18:00:00 & ITA                 &  4                  & P.A. Bolzano        & 46.49933            & 11.35662            &  0                  & 0                   &  0                  & 0                   &  0                  &  0                  & 0                   & 0                   &  0                  &   1                 &                     &                    \\\\\n",
       "\t 2020-02-24T18:00:00 & ITA                 & 18                  & Calabria            & 38.90598            & 16.59440            &  0                  & 0                   &  0                  & 0                   &  0                  &  0                  & 0                   & 0                   &  0                  &   1                 &                     &                    \\\\\n",
       "\t 2020-02-24T18:00:00 & ITA                 & 15                  & Campania            & 40.83957            & 14.25085            &  0                  & 0                   &  0                  & 0                   &  0                  &  0                  & 0                   & 0                   &  0                  &  10                 &                     &                    \\\\\n",
       "\t 2020-02-24T18:00:00 & ITA                 &  8                  & Emilia Romagna      & 44.49437            & 11.34172            & 10                  & 2                   & 12                  & 6                   & 18                  & 18                  & 0                   & 0                   & 18                  & 148                 &                     &                    \\\\\n",
       "\\end{tabular}\n"
      ],
      "text/markdown": [
       "\n",
       "| data | stato | codice_regione | denominazione_regione | lat | long | ricoverati_con_sintomi | terapia_intensiva | totale_ospedalizzati | isolamento_domiciliare | totale_attualmente_positivi | nuovi_attualmente_positivi | dimessi_guariti | deceduti | totale_casi | tamponi | note_it | note_en |\n",
       "|---|---|---|---|---|---|---|---|---|---|---|---|---|---|---|---|---|---|\n",
       "| 2020-02-24T18:00:00 | ITA                 | 13                  | Abruzzo             | 42.35122            | 13.39844            |  0                  | 0                   |  0                  | 0                   |  0                  |  0                  | 0                   | 0                   |  0                  |   5                 |                     |                     |\n",
       "| 2020-02-24T18:00:00 | ITA                 | 17                  | Basilicata          | 40.63947            | 15.80515            |  0                  | 0                   |  0                  | 0                   |  0                  |  0                  | 0                   | 0                   |  0                  |   0                 |                     |                     |\n",
       "| 2020-02-24T18:00:00 | ITA                 |  4                  | P.A. Bolzano        | 46.49933            | 11.35662            |  0                  | 0                   |  0                  | 0                   |  0                  |  0                  | 0                   | 0                   |  0                  |   1                 |                     |                     |\n",
       "| 2020-02-24T18:00:00 | ITA                 | 18                  | Calabria            | 38.90598            | 16.59440            |  0                  | 0                   |  0                  | 0                   |  0                  |  0                  | 0                   | 0                   |  0                  |   1                 |                     |                     |\n",
       "| 2020-02-24T18:00:00 | ITA                 | 15                  | Campania            | 40.83957            | 14.25085            |  0                  | 0                   |  0                  | 0                   |  0                  |  0                  | 0                   | 0                   |  0                  |  10                 |                     |                     |\n",
       "| 2020-02-24T18:00:00 | ITA                 |  8                  | Emilia Romagna      | 44.49437            | 11.34172            | 10                  | 2                   | 12                  | 6                   | 18                  | 18                  | 0                   | 0                   | 18                  | 148                 |                     |                     |\n",
       "\n"
      ],
      "text/plain": [
       "  data                stato codice_regione denominazione_regione lat     \n",
       "1 2020-02-24T18:00:00 ITA   13             Abruzzo               42.35122\n",
       "2 2020-02-24T18:00:00 ITA   17             Basilicata            40.63947\n",
       "3 2020-02-24T18:00:00 ITA    4             P.A. Bolzano          46.49933\n",
       "4 2020-02-24T18:00:00 ITA   18             Calabria              38.90598\n",
       "5 2020-02-24T18:00:00 ITA   15             Campania              40.83957\n",
       "6 2020-02-24T18:00:00 ITA    8             Emilia Romagna        44.49437\n",
       "  long     ricoverati_con_sintomi terapia_intensiva totale_ospedalizzati\n",
       "1 13.39844  0                     0                  0                  \n",
       "2 15.80515  0                     0                  0                  \n",
       "3 11.35662  0                     0                  0                  \n",
       "4 16.59440  0                     0                  0                  \n",
       "5 14.25085  0                     0                  0                  \n",
       "6 11.34172 10                     2                 12                  \n",
       "  isolamento_domiciliare totale_attualmente_positivi nuovi_attualmente_positivi\n",
       "1 0                       0                           0                        \n",
       "2 0                       0                           0                        \n",
       "3 0                       0                           0                        \n",
       "4 0                       0                           0                        \n",
       "5 0                       0                           0                        \n",
       "6 6                      18                          18                        \n",
       "  dimessi_guariti deceduti totale_casi tamponi note_it note_en\n",
       "1 0               0         0            5                    \n",
       "2 0               0         0            0                    \n",
       "3 0               0         0            1                    \n",
       "4 0               0         0            1                    \n",
       "5 0               0         0           10                    \n",
       "6 0               0        18          148                    "
      ]
     },
     "metadata": {},
     "output_type": "display_data"
    }
   ],
   "source": [
    "head(y)"
   ]
  },
  {
   "cell_type": "markdown",
   "metadata": {},
   "source": [
    "Pre-processing dei dati:\n",
    "1) rimuovere colonne che non servono o ridondanti\n",
    "2) missing data non esistenti \n",
    "3) rimuovere orario dalle date"
   ]
  },
  {
   "cell_type": "code",
   "execution_count": 3,
   "metadata": {},
   "outputs": [],
   "source": [
    "y$stato <- NULL\n",
    "y$codice_regione <- NULL\n",
    "y$lat <- NULL\n",
    "y$long <- NULL\n",
    "y$data <- substr(y$data, 1, 10)\n",
    "y <- mutate(y, data= as.Date(data))"
   ]
  },
  {
   "cell_type": "code",
   "execution_count": 4,
   "metadata": {},
   "outputs": [
    {
     "data": {
      "text/html": [
       "<table>\n",
       "<thead><tr><th scope=col>data</th><th scope=col>denominazione_regione</th><th scope=col>ricoverati_con_sintomi</th><th scope=col>terapia_intensiva</th><th scope=col>totale_ospedalizzati</th><th scope=col>isolamento_domiciliare</th><th scope=col>totale_attualmente_positivi</th><th scope=col>nuovi_attualmente_positivi</th><th scope=col>dimessi_guariti</th><th scope=col>deceduti</th><th scope=col>totale_casi</th><th scope=col>tamponi</th><th scope=col>note_it</th><th scope=col>note_en</th></tr></thead>\n",
       "<tbody>\n",
       "\t<tr><td>2020-02-24    </td><td>Abruzzo       </td><td> 0            </td><td>0             </td><td> 0            </td><td>0             </td><td> 0            </td><td> 0            </td><td>0             </td><td>0             </td><td> 0            </td><td>  5           </td><td>              </td><td>              </td></tr>\n",
       "\t<tr><td>2020-02-24    </td><td>Basilicata    </td><td> 0            </td><td>0             </td><td> 0            </td><td>0             </td><td> 0            </td><td> 0            </td><td>0             </td><td>0             </td><td> 0            </td><td>  0           </td><td>              </td><td>              </td></tr>\n",
       "\t<tr><td>2020-02-24    </td><td>P.A. Bolzano  </td><td> 0            </td><td>0             </td><td> 0            </td><td>0             </td><td> 0            </td><td> 0            </td><td>0             </td><td>0             </td><td> 0            </td><td>  1           </td><td>              </td><td>              </td></tr>\n",
       "\t<tr><td>2020-02-24    </td><td>Calabria      </td><td> 0            </td><td>0             </td><td> 0            </td><td>0             </td><td> 0            </td><td> 0            </td><td>0             </td><td>0             </td><td> 0            </td><td>  1           </td><td>              </td><td>              </td></tr>\n",
       "\t<tr><td>2020-02-24    </td><td>Campania      </td><td> 0            </td><td>0             </td><td> 0            </td><td>0             </td><td> 0            </td><td> 0            </td><td>0             </td><td>0             </td><td> 0            </td><td> 10           </td><td>              </td><td>              </td></tr>\n",
       "\t<tr><td>2020-02-24    </td><td>Emilia Romagna</td><td>10            </td><td>2             </td><td>12            </td><td>6             </td><td>18            </td><td>18            </td><td>0             </td><td>0             </td><td>18            </td><td>148           </td><td>              </td><td>              </td></tr>\n",
       "</tbody>\n",
       "</table>\n"
      ],
      "text/latex": [
       "\\begin{tabular}{r|llllllllllllll}\n",
       " data & denominazione\\_regione & ricoverati\\_con\\_sintomi & terapia\\_intensiva & totale\\_ospedalizzati & isolamento\\_domiciliare & totale\\_attualmente\\_positivi & nuovi\\_attualmente\\_positivi & dimessi\\_guariti & deceduti & totale\\_casi & tamponi & note\\_it & note\\_en\\\\\n",
       "\\hline\n",
       "\t 2020-02-24     & Abruzzo        &  0             & 0              &  0             & 0              &  0             &  0             & 0              & 0              &  0             &   5            &                &               \\\\\n",
       "\t 2020-02-24     & Basilicata     &  0             & 0              &  0             & 0              &  0             &  0             & 0              & 0              &  0             &   0            &                &               \\\\\n",
       "\t 2020-02-24     & P.A. Bolzano   &  0             & 0              &  0             & 0              &  0             &  0             & 0              & 0              &  0             &   1            &                &               \\\\\n",
       "\t 2020-02-24     & Calabria       &  0             & 0              &  0             & 0              &  0             &  0             & 0              & 0              &  0             &   1            &                &               \\\\\n",
       "\t 2020-02-24     & Campania       &  0             & 0              &  0             & 0              &  0             &  0             & 0              & 0              &  0             &  10            &                &               \\\\\n",
       "\t 2020-02-24     & Emilia Romagna & 10             & 2              & 12             & 6              & 18             & 18             & 0              & 0              & 18             & 148            &                &               \\\\\n",
       "\\end{tabular}\n"
      ],
      "text/markdown": [
       "\n",
       "| data | denominazione_regione | ricoverati_con_sintomi | terapia_intensiva | totale_ospedalizzati | isolamento_domiciliare | totale_attualmente_positivi | nuovi_attualmente_positivi | dimessi_guariti | deceduti | totale_casi | tamponi | note_it | note_en |\n",
       "|---|---|---|---|---|---|---|---|---|---|---|---|---|---|\n",
       "| 2020-02-24     | Abruzzo        |  0             | 0              |  0             | 0              |  0             |  0             | 0              | 0              |  0             |   5            |                |                |\n",
       "| 2020-02-24     | Basilicata     |  0             | 0              |  0             | 0              |  0             |  0             | 0              | 0              |  0             |   0            |                |                |\n",
       "| 2020-02-24     | P.A. Bolzano   |  0             | 0              |  0             | 0              |  0             |  0             | 0              | 0              |  0             |   1            |                |                |\n",
       "| 2020-02-24     | Calabria       |  0             | 0              |  0             | 0              |  0             |  0             | 0              | 0              |  0             |   1            |                |                |\n",
       "| 2020-02-24     | Campania       |  0             | 0              |  0             | 0              |  0             |  0             | 0              | 0              |  0             |  10            |                |                |\n",
       "| 2020-02-24     | Emilia Romagna | 10             | 2              | 12             | 6              | 18             | 18             | 0              | 0              | 18             | 148            |                |                |\n",
       "\n"
      ],
      "text/plain": [
       "  data       denominazione_regione ricoverati_con_sintomi terapia_intensiva\n",
       "1 2020-02-24 Abruzzo                0                     0                \n",
       "2 2020-02-24 Basilicata             0                     0                \n",
       "3 2020-02-24 P.A. Bolzano           0                     0                \n",
       "4 2020-02-24 Calabria               0                     0                \n",
       "5 2020-02-24 Campania               0                     0                \n",
       "6 2020-02-24 Emilia Romagna        10                     2                \n",
       "  totale_ospedalizzati isolamento_domiciliare totale_attualmente_positivi\n",
       "1  0                   0                       0                         \n",
       "2  0                   0                       0                         \n",
       "3  0                   0                       0                         \n",
       "4  0                   0                       0                         \n",
       "5  0                   0                       0                         \n",
       "6 12                   6                      18                         \n",
       "  nuovi_attualmente_positivi dimessi_guariti deceduti totale_casi tamponi\n",
       "1  0                         0               0         0            5    \n",
       "2  0                         0               0         0            0    \n",
       "3  0                         0               0         0            1    \n",
       "4  0                         0               0         0            1    \n",
       "5  0                         0               0         0           10    \n",
       "6 18                         0               0        18          148    \n",
       "  note_it note_en\n",
       "1                \n",
       "2                \n",
       "3                \n",
       "4                \n",
       "5                \n",
       "6                "
      ]
     },
     "metadata": {},
     "output_type": "display_data"
    }
   ],
   "source": [
    "head(y)"
   ]
  },
  {
   "cell_type": "markdown",
   "metadata": {},
   "source": [
    "Andamento regione Puglia per quanto riguarda i positivi dall'inizio del contagio"
   ]
  },
  {
   "cell_type": "code",
   "execution_count": 5,
   "metadata": {},
   "outputs": [],
   "source": [
    "ypuglia <- y[y$denominazione_regione == 'Puglia', ] "
   ]
  },
  {
   "cell_type": "code",
   "execution_count": 6,
   "metadata": {},
   "outputs": [
    {
     "data": {
      "text/html": [
       "<table>\n",
       "<thead><tr><th></th><th scope=col>data</th><th scope=col>denominazione_regione</th><th scope=col>ricoverati_con_sintomi</th><th scope=col>terapia_intensiva</th><th scope=col>totale_ospedalizzati</th><th scope=col>isolamento_domiciliare</th><th scope=col>totale_attualmente_positivi</th><th scope=col>nuovi_attualmente_positivi</th><th scope=col>dimessi_guariti</th><th scope=col>deceduti</th><th scope=col>totale_casi</th><th scope=col>tamponi</th><th scope=col>note_it</th><th scope=col>note_en</th></tr></thead>\n",
       "<tbody>\n",
       "\t<tr><th scope=row>14</th><td>24/02 </td><td>Puglia</td><td>0     </td><td>0     </td><td>0     </td><td>0     </td><td>0     </td><td>0     </td><td>0     </td><td>0     </td><td>0     </td><td>  0   </td><td>      </td><td>      </td></tr>\n",
       "\t<tr><th scope=row>35</th><td>25/02 </td><td>Puglia</td><td>0     </td><td>0     </td><td>0     </td><td>0     </td><td>0     </td><td>0     </td><td>0     </td><td>0     </td><td>0     </td><td>  0   </td><td>      </td><td>      </td></tr>\n",
       "\t<tr><th scope=row>56</th><td>26/02 </td><td>Puglia</td><td>0     </td><td>0     </td><td>0     </td><td>0     </td><td>0     </td><td>0     </td><td>0     </td><td>0     </td><td>0     </td><td>  0   </td><td>      </td><td>      </td></tr>\n",
       "\t<tr><th scope=row>77</th><td>27/02 </td><td>Puglia</td><td>1     </td><td>0     </td><td>1     </td><td>0     </td><td>1     </td><td>1     </td><td>0     </td><td>0     </td><td>1     </td><td>  0   </td><td>      </td><td>      </td></tr>\n",
       "\t<tr><th scope=row>98</th><td>28/02 </td><td>Puglia</td><td>1     </td><td>0     </td><td>1     </td><td>2     </td><td>3     </td><td>2     </td><td>0     </td><td>0     </td><td>3     </td><td>242   </td><td>      </td><td>      </td></tr>\n",
       "\t<tr><th scope=row>119</th><td>29/02 </td><td>Puglia</td><td>1     </td><td>0     </td><td>1     </td><td>2     </td><td>3     </td><td>0     </td><td>0     </td><td>0     </td><td>3     </td><td>252   </td><td>      </td><td>      </td></tr>\n",
       "</tbody>\n",
       "</table>\n"
      ],
      "text/latex": [
       "\\begin{tabular}{r|llllllllllllll}\n",
       "  & data & denominazione\\_regione & ricoverati\\_con\\_sintomi & terapia\\_intensiva & totale\\_ospedalizzati & isolamento\\_domiciliare & totale\\_attualmente\\_positivi & nuovi\\_attualmente\\_positivi & dimessi\\_guariti & deceduti & totale\\_casi & tamponi & note\\_it & note\\_en\\\\\n",
       "\\hline\n",
       "\t14 & 24/02  & Puglia & 0      & 0      & 0      & 0      & 0      & 0      & 0      & 0      & 0      &   0    &        &       \\\\\n",
       "\t35 & 25/02  & Puglia & 0      & 0      & 0      & 0      & 0      & 0      & 0      & 0      & 0      &   0    &        &       \\\\\n",
       "\t56 & 26/02  & Puglia & 0      & 0      & 0      & 0      & 0      & 0      & 0      & 0      & 0      &   0    &        &       \\\\\n",
       "\t77 & 27/02  & Puglia & 1      & 0      & 1      & 0      & 1      & 1      & 0      & 0      & 1      &   0    &        &       \\\\\n",
       "\t98 & 28/02  & Puglia & 1      & 0      & 1      & 2      & 3      & 2      & 0      & 0      & 3      & 242    &        &       \\\\\n",
       "\t119 & 29/02  & Puglia & 1      & 0      & 1      & 2      & 3      & 0      & 0      & 0      & 3      & 252    &        &       \\\\\n",
       "\\end{tabular}\n"
      ],
      "text/markdown": [
       "\n",
       "| <!--/--> | data | denominazione_regione | ricoverati_con_sintomi | terapia_intensiva | totale_ospedalizzati | isolamento_domiciliare | totale_attualmente_positivi | nuovi_attualmente_positivi | dimessi_guariti | deceduti | totale_casi | tamponi | note_it | note_en |\n",
       "|---|---|---|---|---|---|---|---|---|---|---|---|---|---|---|\n",
       "| 14 | 24/02  | Puglia | 0      | 0      | 0      | 0      | 0      | 0      | 0      | 0      | 0      |   0    |        |        |\n",
       "| 35 | 25/02  | Puglia | 0      | 0      | 0      | 0      | 0      | 0      | 0      | 0      | 0      |   0    |        |        |\n",
       "| 56 | 26/02  | Puglia | 0      | 0      | 0      | 0      | 0      | 0      | 0      | 0      | 0      |   0    |        |        |\n",
       "| 77 | 27/02  | Puglia | 1      | 0      | 1      | 0      | 1      | 1      | 0      | 0      | 1      |   0    |        |        |\n",
       "| 98 | 28/02  | Puglia | 1      | 0      | 1      | 2      | 3      | 2      | 0      | 0      | 3      | 242    |        |        |\n",
       "| 119 | 29/02  | Puglia | 1      | 0      | 1      | 2      | 3      | 0      | 0      | 0      | 3      | 252    |        |        |\n",
       "\n"
      ],
      "text/plain": [
       "    data  denominazione_regione ricoverati_con_sintomi terapia_intensiva\n",
       "14  24/02 Puglia                0                      0                \n",
       "35  25/02 Puglia                0                      0                \n",
       "56  26/02 Puglia                0                      0                \n",
       "77  27/02 Puglia                1                      0                \n",
       "98  28/02 Puglia                1                      0                \n",
       "119 29/02 Puglia                1                      0                \n",
       "    totale_ospedalizzati isolamento_domiciliare totale_attualmente_positivi\n",
       "14  0                    0                      0                          \n",
       "35  0                    0                      0                          \n",
       "56  0                    0                      0                          \n",
       "77  1                    0                      1                          \n",
       "98  1                    2                      3                          \n",
       "119 1                    2                      3                          \n",
       "    nuovi_attualmente_positivi dimessi_guariti deceduti totale_casi tamponi\n",
       "14  0                          0               0        0             0    \n",
       "35  0                          0               0        0             0    \n",
       "56  0                          0               0        0             0    \n",
       "77  1                          0               0        1             0    \n",
       "98  2                          0               0        3           242    \n",
       "119 0                          0               0        3           252    \n",
       "    note_it note_en\n",
       "14                 \n",
       "35                 \n",
       "56                 \n",
       "77                 \n",
       "98                 \n",
       "119                "
      ]
     },
     "metadata": {},
     "output_type": "display_data"
    }
   ],
   "source": [
    "## Sort by date\n",
    "ypuglia = ypuglia[order(as.Date(ypuglia$data)),]\n",
    "ypuglia$data <- format(as.Date(ypuglia$data), \"%d/%m\")\n",
    "head(ypuglia)"
   ]
  },
  {
   "cell_type": "markdown",
   "metadata": {},
   "source": [
    "## Andamento ospedalizzati"
   ]
  },
  {
   "cell_type": "code",
   "execution_count": 7,
   "metadata": {},
   "outputs": [
    {
     "data": {
      "text/html": [
       "<strong>png:</strong> 2"
      ],
      "text/latex": [
       "\\textbf{png:} 2"
      ],
      "text/markdown": [
       "**png:** 2"
      ],
      "text/plain": [
       "png \n",
       "  2 "
      ]
     },
     "metadata": {},
     "output_type": "display_data"
    }
   ],
   "source": [
    "# Stacked Bar Plot with Colors and Legend\n",
    "#data_selected <- t(as.matrix(subset(ypuglia, select=c(\"data\", \"totale_ospedalizzati\", \"isolamento_domiciliare\"))))\n",
    "#barplot(ypuglia$totale_ospedalizzati)\n",
    "\n",
    "# Give the chart file a name\n",
    "png(file = \"ospedalizzati_puglia.png\", width = 1000, height = 800, res = 200)\n",
    "\n",
    "# Plot the bar chart \n",
    "barplot(ypuglia$totale_ospedalizzati,names.arg=ypuglia$data,xlab=\"Data\",ylab=\"Tot ospedalizzati\",col=\"blue\",\n",
    "main=\"Andamento ospedalizzati in Puglia\",border=\"red\",ylim=range(pretty(c(0, ypuglia$totale_ospedalizzati))))\n",
    "\n",
    "# Save the file\n",
    "dev.off()"
   ]
  },
  {
   "cell_type": "markdown",
   "metadata": {},
   "source": [
    "## Andamento con distribuzione tra ospedalizzati e isolamento domiciliare"
   ]
  },
  {
   "cell_type": "code",
   "execution_count": 8,
   "metadata": {},
   "outputs": [
    {
     "data": {
      "text/html": [
       "<strong>png:</strong> 2"
      ],
      "text/latex": [
       "\\textbf{png:} 2"
      ],
      "text/markdown": [
       "**png:** 2"
      ],
      "text/plain": [
       "png \n",
       "  2 "
      ]
     },
     "metadata": {},
     "output_type": "display_data"
    }
   ],
   "source": [
    "# Create the input vectors.\n",
    "colors = c(\"red\",\"blue\")\n",
    "dates <- c(ypuglia$data)\n",
    "regions <- c(\"Tot in ospedale\",\"Isolamento domiciliare\")\n",
    "\n",
    "# Create the matrix of the values.\n",
    "Values <- matrix(c(ypuglia$totale_ospedalizzati,ypuglia$isolamento_domiciliare), nrow = 2, ncol = length(dates), byrow = TRUE)\n",
    "#Values <- t(as.matrix(subset(ypuglia, select=c(\"data\", \"totale_ospedalizzati\", \"isolamento_domiciliare\"))))\n",
    "\n",
    "# Give the chart file a name\n",
    "png(file = \"Distrib_isolamento_ospedale.png\")\n",
    "\n",
    "# Create the bar chart\n",
    "barplot(Values, main = \"Distribuzione tra isolamento e ospedalizzati in Puglia\", names.arg = dates, xlab = \"Data\", ylab = \"Totale positivi\", col = colors, )\n",
    "\n",
    "# Add the legend to the chart\n",
    "legend(\"topleft\", regions, cex = 1.3, fill = colors)\n",
    "\n",
    "# Save the file\n",
    "dev.off()"
   ]
  },
  {
   "cell_type": "markdown",
   "metadata": {},
   "source": [
    "## Andamento con animazione della Nazione"
   ]
  },
  {
   "cell_type": "code",
   "execution_count": 9,
   "metadata": {},
   "outputs": [
    {
     "data": {
      "text/html": [
       "<table>\n",
       "<thead><tr><th scope=col>data</th><th scope=col>denominazione_regione</th><th scope=col>ricoverati_con_sintomi</th><th scope=col>terapia_intensiva</th><th scope=col>totale_ospedalizzati</th><th scope=col>isolamento_domiciliare</th><th scope=col>totale_attualmente_positivi</th><th scope=col>nuovi_attualmente_positivi</th><th scope=col>dimessi_guariti</th><th scope=col>deceduti</th><th scope=col>totale_casi</th><th scope=col>tamponi</th><th scope=col>note_it</th><th scope=col>note_en</th></tr></thead>\n",
       "<tbody>\n",
       "\t<tr><td>2020-02-24    </td><td>Abruzzo       </td><td> 0            </td><td>0             </td><td> 0            </td><td>0             </td><td> 0            </td><td> 0            </td><td>0             </td><td>0             </td><td> 0            </td><td>  5           </td><td>              </td><td>              </td></tr>\n",
       "\t<tr><td>2020-02-24    </td><td>Basilicata    </td><td> 0            </td><td>0             </td><td> 0            </td><td>0             </td><td> 0            </td><td> 0            </td><td>0             </td><td>0             </td><td> 0            </td><td>  0           </td><td>              </td><td>              </td></tr>\n",
       "\t<tr><td>2020-02-24    </td><td>P.A. Bolzano  </td><td> 0            </td><td>0             </td><td> 0            </td><td>0             </td><td> 0            </td><td> 0            </td><td>0             </td><td>0             </td><td> 0            </td><td>  1           </td><td>              </td><td>              </td></tr>\n",
       "\t<tr><td>2020-02-24    </td><td>Calabria      </td><td> 0            </td><td>0             </td><td> 0            </td><td>0             </td><td> 0            </td><td> 0            </td><td>0             </td><td>0             </td><td> 0            </td><td>  1           </td><td>              </td><td>              </td></tr>\n",
       "\t<tr><td>2020-02-24    </td><td>Campania      </td><td> 0            </td><td>0             </td><td> 0            </td><td>0             </td><td> 0            </td><td> 0            </td><td>0             </td><td>0             </td><td> 0            </td><td> 10           </td><td>              </td><td>              </td></tr>\n",
       "\t<tr><td>2020-02-24    </td><td>Emilia Romagna</td><td>10            </td><td>2             </td><td>12            </td><td>6             </td><td>18            </td><td>18            </td><td>0             </td><td>0             </td><td>18            </td><td>148           </td><td>              </td><td>              </td></tr>\n",
       "</tbody>\n",
       "</table>\n"
      ],
      "text/latex": [
       "\\begin{tabular}{r|llllllllllllll}\n",
       " data & denominazione\\_regione & ricoverati\\_con\\_sintomi & terapia\\_intensiva & totale\\_ospedalizzati & isolamento\\_domiciliare & totale\\_attualmente\\_positivi & nuovi\\_attualmente\\_positivi & dimessi\\_guariti & deceduti & totale\\_casi & tamponi & note\\_it & note\\_en\\\\\n",
       "\\hline\n",
       "\t 2020-02-24     & Abruzzo        &  0             & 0              &  0             & 0              &  0             &  0             & 0              & 0              &  0             &   5            &                &               \\\\\n",
       "\t 2020-02-24     & Basilicata     &  0             & 0              &  0             & 0              &  0             &  0             & 0              & 0              &  0             &   0            &                &               \\\\\n",
       "\t 2020-02-24     & P.A. Bolzano   &  0             & 0              &  0             & 0              &  0             &  0             & 0              & 0              &  0             &   1            &                &               \\\\\n",
       "\t 2020-02-24     & Calabria       &  0             & 0              &  0             & 0              &  0             &  0             & 0              & 0              &  0             &   1            &                &               \\\\\n",
       "\t 2020-02-24     & Campania       &  0             & 0              &  0             & 0              &  0             &  0             & 0              & 0              &  0             &  10            &                &               \\\\\n",
       "\t 2020-02-24     & Emilia Romagna & 10             & 2              & 12             & 6              & 18             & 18             & 0              & 0              & 18             & 148            &                &               \\\\\n",
       "\\end{tabular}\n"
      ],
      "text/markdown": [
       "\n",
       "| data | denominazione_regione | ricoverati_con_sintomi | terapia_intensiva | totale_ospedalizzati | isolamento_domiciliare | totale_attualmente_positivi | nuovi_attualmente_positivi | dimessi_guariti | deceduti | totale_casi | tamponi | note_it | note_en |\n",
       "|---|---|---|---|---|---|---|---|---|---|---|---|---|---|\n",
       "| 2020-02-24     | Abruzzo        |  0             | 0              |  0             | 0              |  0             |  0             | 0              | 0              |  0             |   5            |                |                |\n",
       "| 2020-02-24     | Basilicata     |  0             | 0              |  0             | 0              |  0             |  0             | 0              | 0              |  0             |   0            |                |                |\n",
       "| 2020-02-24     | P.A. Bolzano   |  0             | 0              |  0             | 0              |  0             |  0             | 0              | 0              |  0             |   1            |                |                |\n",
       "| 2020-02-24     | Calabria       |  0             | 0              |  0             | 0              |  0             |  0             | 0              | 0              |  0             |   1            |                |                |\n",
       "| 2020-02-24     | Campania       |  0             | 0              |  0             | 0              |  0             |  0             | 0              | 0              |  0             |  10            |                |                |\n",
       "| 2020-02-24     | Emilia Romagna | 10             | 2              | 12             | 6              | 18             | 18             | 0              | 0              | 18             | 148            |                |                |\n",
       "\n"
      ],
      "text/plain": [
       "  data       denominazione_regione ricoverati_con_sintomi terapia_intensiva\n",
       "1 2020-02-24 Abruzzo                0                     0                \n",
       "2 2020-02-24 Basilicata             0                     0                \n",
       "3 2020-02-24 P.A. Bolzano           0                     0                \n",
       "4 2020-02-24 Calabria               0                     0                \n",
       "5 2020-02-24 Campania               0                     0                \n",
       "6 2020-02-24 Emilia Romagna        10                     2                \n",
       "  totale_ospedalizzati isolamento_domiciliare totale_attualmente_positivi\n",
       "1  0                   0                       0                         \n",
       "2  0                   0                       0                         \n",
       "3  0                   0                       0                         \n",
       "4  0                   0                       0                         \n",
       "5  0                   0                       0                         \n",
       "6 12                   6                      18                         \n",
       "  nuovi_attualmente_positivi dimessi_guariti deceduti totale_casi tamponi\n",
       "1  0                         0               0         0            5    \n",
       "2  0                         0               0         0            0    \n",
       "3  0                         0               0         0            1    \n",
       "4  0                         0               0         0            1    \n",
       "5  0                         0               0         0           10    \n",
       "6 18                         0               0        18          148    \n",
       "  note_it note_en\n",
       "1                \n",
       "2                \n",
       "3                \n",
       "4                \n",
       "5                \n",
       "6                "
      ]
     },
     "metadata": {},
     "output_type": "display_data"
    }
   ],
   "source": [
    "## Sort by date\n",
    "y = y[order(as.Date(y$data)),]\n",
    "#y$data <- format(as.Date(y$data), \"%d/%m\")\n",
    "head(y)"
   ]
  },
  {
   "cell_type": "code",
   "execution_count": 10,
   "metadata": {
    "scrolled": true
   },
   "outputs": [
    {
     "name": "stderr",
     "output_type": "stream",
     "text": [
      "Warning message:\n",
      "\"package 'gganimate' was built under R version 3.6.3\"Warning message:\n",
      "\"package 'hrbrthemes' was built under R version 3.6.3\"Warning message:\n",
      "\"package 'viridis' was built under R version 3.6.3\"Loading required package: viridisLite\n",
      "Warning message:\n",
      "\"package 'viridisLite' was built under R version 3.6.3\"Warning message:\n",
      "\"package 'extrafont' was built under R version 3.6.2\"Registering fonts with R\n",
      "Warning message in (nframes - 1) * (v - range[1])/full_length:\n",
      "\"longer object length is not a multiple of shorter object length\"Warning message in (nframes - 1) * (v - range[1])/full_length:\n",
      "\"longer object length is not a multiple of shorter object length\""
     ]
    }
   ],
   "source": [
    "# libraries:\n",
    "library(ggplot2)\n",
    "library(gganimate)\n",
    "library(hrbrthemes)\n",
    "library(viridis)\n",
    "library(extrafont)\n",
    "\n",
    "# Keep only 3 provinces\n",
    "y_filtered <- y %>% \n",
    "  filter(denominazione_regione %in% c(\"Lombardia\", \"Veneto\", \"Puglia\"))\n",
    "\n",
    "# Plot\n",
    "plot <- y_filtered %>%\n",
    "  ggplot( aes(x=data, y=totale_attualmente_positivi, group=denominazione_regione, color=denominazione_regione)) +\n",
    "    geom_line() +\n",
    "    geom_point() +\n",
    "    scale_color_viridis(discrete = TRUE) +\n",
    "    ggtitle(\"Totale attualmente positivi in alcune regioni\") +\n",
    "    theme_bw() +\n",
    "    ylab(\"Totale positivi\") +\n",
    "    transition_reveal(data, range = seq(as.Date(\"2020-02-24\"), by = \"month\", length.out = 30))\n",
    "\n",
    "# Save at gif:\n",
    "animate(plot, height = 400, width =750, nframes = 300, fps = 30)\n",
    "anim_save(\"andamento contagiati.gif\")"
   ]
  },
  {
   "cell_type": "markdown",
   "metadata": {},
   "source": [
    "# Studio su dati province "
   ]
  },
  {
   "cell_type": "code",
   "execution_count": 11,
   "metadata": {
    "scrolled": true
   },
   "outputs": [],
   "source": [
    "library(RCurl)\n",
    "library(dplyr)\n",
    "library(magrittr)\n",
    "xprov <- getURL(\"https://raw.githubusercontent.com/pcm-dpc/COVID-19/master/dati-province/dpc-covid19-ita-province.csv\")\n",
    "yprov <- read.csv(text = xprov, stringsAsFactors = FALSE)"
   ]
  },
  {
   "cell_type": "code",
   "execution_count": 12,
   "metadata": {},
   "outputs": [
    {
     "data": {
      "text/html": [
       "<table>\n",
       "<thead><tr><th scope=col>data</th><th scope=col>stato</th><th scope=col>codice_regione</th><th scope=col>denominazione_regione</th><th scope=col>codice_provincia</th><th scope=col>denominazione_provincia</th><th scope=col>sigla_provincia</th><th scope=col>lat</th><th scope=col>long</th><th scope=col>totale_casi</th><th scope=col>note_it</th><th scope=col>note_en</th></tr></thead>\n",
       "<tbody>\n",
       "\t<tr><td>2020-02-24T18:00:00                 </td><td>ITA                                 </td><td>13                                  </td><td>Abruzzo                             </td><td> 69                                 </td><td>Chieti                              </td><td>CH                                  </td><td>42.35103                            </td><td>14.16755                            </td><td>0                                   </td><td>                                    </td><td>                                    </td></tr>\n",
       "\t<tr><td>2020-02-24T18:00:00                 </td><td>ITA                                 </td><td>13                                  </td><td>Abruzzo                             </td><td> 66                                 </td><td>L'Aquila                            </td><td>AQ                                  </td><td>42.35122                            </td><td>13.39844                            </td><td>0                                   </td><td>                                    </td><td>                                    </td></tr>\n",
       "\t<tr><td>2020-02-24T18:00:00                 </td><td>ITA                                 </td><td>13                                  </td><td>Abruzzo                             </td><td> 68                                 </td><td>Pescara                             </td><td>PE                                  </td><td>42.46458                            </td><td>14.21365                            </td><td>0                                   </td><td>                                    </td><td>                                    </td></tr>\n",
       "\t<tr><td>2020-02-24T18:00:00                 </td><td>ITA                                 </td><td>13                                  </td><td>Abruzzo                             </td><td> 67                                 </td><td>Teramo                              </td><td>TE                                  </td><td>42.65892                            </td><td>13.70440                            </td><td>0                                   </td><td>                                    </td><td>                                    </td></tr>\n",
       "\t<tr><td>2020-02-24T18:00:00                 </td><td>ITA                                 </td><td>13                                  </td><td>Abruzzo                             </td><td>979                                 </td><td>In fase di definizione/aggiornamento</td><td>                                    </td><td> 0.00000                            </td><td> 0.00000                            </td><td>0                                   </td><td>                                    </td><td>                                    </td></tr>\n",
       "\t<tr><td>2020-02-24T18:00:00                 </td><td>ITA                                 </td><td>17                                  </td><td>Basilicata                          </td><td> 77                                 </td><td>Matera                              </td><td>MT                                  </td><td>40.66751                            </td><td>16.59792                            </td><td>0                                   </td><td>                                    </td><td>                                    </td></tr>\n",
       "</tbody>\n",
       "</table>\n"
      ],
      "text/latex": [
       "\\begin{tabular}{r|llllllllllll}\n",
       " data & stato & codice\\_regione & denominazione\\_regione & codice\\_provincia & denominazione\\_provincia & sigla\\_provincia & lat & long & totale\\_casi & note\\_it & note\\_en\\\\\n",
       "\\hline\n",
       "\t 2020-02-24T18:00:00                  & ITA                                  & 13                                   & Abruzzo                              &  69                                  & Chieti                               & CH                                   & 42.35103                             & 14.16755                             & 0                                    &                                      &                                     \\\\\n",
       "\t 2020-02-24T18:00:00                  & ITA                                  & 13                                   & Abruzzo                              &  66                                  & L'Aquila                             & AQ                                   & 42.35122                             & 13.39844                             & 0                                    &                                      &                                     \\\\\n",
       "\t 2020-02-24T18:00:00                  & ITA                                  & 13                                   & Abruzzo                              &  68                                  & Pescara                              & PE                                   & 42.46458                             & 14.21365                             & 0                                    &                                      &                                     \\\\\n",
       "\t 2020-02-24T18:00:00                  & ITA                                  & 13                                   & Abruzzo                              &  67                                  & Teramo                               & TE                                   & 42.65892                             & 13.70440                             & 0                                    &                                      &                                     \\\\\n",
       "\t 2020-02-24T18:00:00                  & ITA                                  & 13                                   & Abruzzo                              & 979                                  & In fase di definizione/aggiornamento &                                      &  0.00000                             &  0.00000                             & 0                                    &                                      &                                     \\\\\n",
       "\t 2020-02-24T18:00:00                  & ITA                                  & 17                                   & Basilicata                           &  77                                  & Matera                               & MT                                   & 40.66751                             & 16.59792                             & 0                                    &                                      &                                     \\\\\n",
       "\\end{tabular}\n"
      ],
      "text/markdown": [
       "\n",
       "| data | stato | codice_regione | denominazione_regione | codice_provincia | denominazione_provincia | sigla_provincia | lat | long | totale_casi | note_it | note_en |\n",
       "|---|---|---|---|---|---|---|---|---|---|---|---|\n",
       "| 2020-02-24T18:00:00                  | ITA                                  | 13                                   | Abruzzo                              |  69                                  | Chieti                               | CH                                   | 42.35103                             | 14.16755                             | 0                                    |                                      |                                      |\n",
       "| 2020-02-24T18:00:00                  | ITA                                  | 13                                   | Abruzzo                              |  66                                  | L'Aquila                             | AQ                                   | 42.35122                             | 13.39844                             | 0                                    |                                      |                                      |\n",
       "| 2020-02-24T18:00:00                  | ITA                                  | 13                                   | Abruzzo                              |  68                                  | Pescara                              | PE                                   | 42.46458                             | 14.21365                             | 0                                    |                                      |                                      |\n",
       "| 2020-02-24T18:00:00                  | ITA                                  | 13                                   | Abruzzo                              |  67                                  | Teramo                               | TE                                   | 42.65892                             | 13.70440                             | 0                                    |                                      |                                      |\n",
       "| 2020-02-24T18:00:00                  | ITA                                  | 13                                   | Abruzzo                              | 979                                  | In fase di definizione/aggiornamento |                                      |  0.00000                             |  0.00000                             | 0                                    |                                      |                                      |\n",
       "| 2020-02-24T18:00:00                  | ITA                                  | 17                                   | Basilicata                           |  77                                  | Matera                               | MT                                   | 40.66751                             | 16.59792                             | 0                                    |                                      |                                      |\n",
       "\n"
      ],
      "text/plain": [
       "  data                stato codice_regione denominazione_regione\n",
       "1 2020-02-24T18:00:00 ITA   13             Abruzzo              \n",
       "2 2020-02-24T18:00:00 ITA   13             Abruzzo              \n",
       "3 2020-02-24T18:00:00 ITA   13             Abruzzo              \n",
       "4 2020-02-24T18:00:00 ITA   13             Abruzzo              \n",
       "5 2020-02-24T18:00:00 ITA   13             Abruzzo              \n",
       "6 2020-02-24T18:00:00 ITA   17             Basilicata           \n",
       "  codice_provincia denominazione_provincia              sigla_provincia\n",
       "1  69              Chieti                               CH             \n",
       "2  66              L'Aquila                             AQ             \n",
       "3  68              Pescara                              PE             \n",
       "4  67              Teramo                               TE             \n",
       "5 979              In fase di definizione/aggiornamento                \n",
       "6  77              Matera                               MT             \n",
       "  lat      long     totale_casi note_it note_en\n",
       "1 42.35103 14.16755 0                          \n",
       "2 42.35122 13.39844 0                          \n",
       "3 42.46458 14.21365 0                          \n",
       "4 42.65892 13.70440 0                          \n",
       "5  0.00000  0.00000 0                          \n",
       "6 40.66751 16.59792 0                          "
      ]
     },
     "metadata": {},
     "output_type": "display_data"
    }
   ],
   "source": [
    "head(yprov)"
   ]
  },
  {
   "cell_type": "markdown",
   "metadata": {},
   "source": [
    "Pre-processing dei dati:\n",
    "1) rimuovere colonne che non servono o ridondanti\n",
    "2) missing data non esistenti \n",
    "3) rimuovere orario dalle date"
   ]
  },
  {
   "cell_type": "code",
   "execution_count": 13,
   "metadata": {},
   "outputs": [],
   "source": [
    "yprov$stato <- NULL\n",
    "yprov$codice_provincia <- NULL\n",
    "yprov$sigla_provincia <- NULL\n",
    "yprov$lat <- NULL\n",
    "yprov$long <- NULL\n",
    "yprov$data <- substr(yprov$data, 1, 10)\n",
    "yprov <- mutate(yprov, data= as.Date(data))"
   ]
  },
  {
   "cell_type": "code",
   "execution_count": 14,
   "metadata": {},
   "outputs": [
    {
     "data": {
      "text/html": [
       "<table>\n",
       "<thead><tr><th scope=col>data</th><th scope=col>codice_regione</th><th scope=col>denominazione_regione</th><th scope=col>denominazione_provincia</th><th scope=col>totale_casi</th><th scope=col>note_it</th><th scope=col>note_en</th></tr></thead>\n",
       "<tbody>\n",
       "\t<tr><td>2020-02-24                          </td><td>13                                  </td><td>Abruzzo                             </td><td>Chieti                              </td><td>0                                   </td><td>                                    </td><td>                                    </td></tr>\n",
       "\t<tr><td>2020-02-24                          </td><td>13                                  </td><td>Abruzzo                             </td><td>L'Aquila                            </td><td>0                                   </td><td>                                    </td><td>                                    </td></tr>\n",
       "\t<tr><td>2020-02-24                          </td><td>13                                  </td><td>Abruzzo                             </td><td>Pescara                             </td><td>0                                   </td><td>                                    </td><td>                                    </td></tr>\n",
       "\t<tr><td>2020-02-24                          </td><td>13                                  </td><td>Abruzzo                             </td><td>Teramo                              </td><td>0                                   </td><td>                                    </td><td>                                    </td></tr>\n",
       "\t<tr><td>2020-02-24                          </td><td>13                                  </td><td>Abruzzo                             </td><td>In fase di definizione/aggiornamento</td><td>0                                   </td><td>                                    </td><td>                                    </td></tr>\n",
       "\t<tr><td>2020-02-24                          </td><td>17                                  </td><td>Basilicata                          </td><td>Matera                              </td><td>0                                   </td><td>                                    </td><td>                                    </td></tr>\n",
       "</tbody>\n",
       "</table>\n"
      ],
      "text/latex": [
       "\\begin{tabular}{r|lllllll}\n",
       " data & codice\\_regione & denominazione\\_regione & denominazione\\_provincia & totale\\_casi & note\\_it & note\\_en\\\\\n",
       "\\hline\n",
       "\t 2020-02-24                           & 13                                   & Abruzzo                              & Chieti                               & 0                                    &                                      &                                     \\\\\n",
       "\t 2020-02-24                           & 13                                   & Abruzzo                              & L'Aquila                             & 0                                    &                                      &                                     \\\\\n",
       "\t 2020-02-24                           & 13                                   & Abruzzo                              & Pescara                              & 0                                    &                                      &                                     \\\\\n",
       "\t 2020-02-24                           & 13                                   & Abruzzo                              & Teramo                               & 0                                    &                                      &                                     \\\\\n",
       "\t 2020-02-24                           & 13                                   & Abruzzo                              & In fase di definizione/aggiornamento & 0                                    &                                      &                                     \\\\\n",
       "\t 2020-02-24                           & 17                                   & Basilicata                           & Matera                               & 0                                    &                                      &                                     \\\\\n",
       "\\end{tabular}\n"
      ],
      "text/markdown": [
       "\n",
       "| data | codice_regione | denominazione_regione | denominazione_provincia | totale_casi | note_it | note_en |\n",
       "|---|---|---|---|---|---|---|\n",
       "| 2020-02-24                           | 13                                   | Abruzzo                              | Chieti                               | 0                                    |                                      |                                      |\n",
       "| 2020-02-24                           | 13                                   | Abruzzo                              | L'Aquila                             | 0                                    |                                      |                                      |\n",
       "| 2020-02-24                           | 13                                   | Abruzzo                              | Pescara                              | 0                                    |                                      |                                      |\n",
       "| 2020-02-24                           | 13                                   | Abruzzo                              | Teramo                               | 0                                    |                                      |                                      |\n",
       "| 2020-02-24                           | 13                                   | Abruzzo                              | In fase di definizione/aggiornamento | 0                                    |                                      |                                      |\n",
       "| 2020-02-24                           | 17                                   | Basilicata                           | Matera                               | 0                                    |                                      |                                      |\n",
       "\n"
      ],
      "text/plain": [
       "  data       codice_regione denominazione_regione\n",
       "1 2020-02-24 13             Abruzzo              \n",
       "2 2020-02-24 13             Abruzzo              \n",
       "3 2020-02-24 13             Abruzzo              \n",
       "4 2020-02-24 13             Abruzzo              \n",
       "5 2020-02-24 13             Abruzzo              \n",
       "6 2020-02-24 17             Basilicata           \n",
       "  denominazione_provincia              totale_casi note_it note_en\n",
       "1 Chieti                               0                          \n",
       "2 L'Aquila                             0                          \n",
       "3 Pescara                              0                          \n",
       "4 Teramo                               0                          \n",
       "5 In fase di definizione/aggiornamento 0                          \n",
       "6 Matera                               0                          "
      ]
     },
     "metadata": {},
     "output_type": "display_data"
    }
   ],
   "source": [
    "head(yprov)"
   ]
  },
  {
   "cell_type": "markdown",
   "metadata": {},
   "source": [
    "Andamento regione a scelta per quanto riguarda i positivi dall'inizio del contagio"
   ]
  },
  {
   "cell_type": "code",
   "execution_count": 15,
   "metadata": {},
   "outputs": [
    {
     "data": {
      "text/html": [
       "<table>\n",
       "<thead><tr><th></th><th scope=col>data</th><th scope=col>codice_regione</th><th scope=col>denominazione_regione</th><th scope=col>denominazione_provincia</th><th scope=col>totale_casi</th><th scope=col>note_it</th><th scope=col>note_en</th></tr></thead>\n",
       "<tbody>\n",
       "\t<tr><th scope=row>80</th><td>24/02                               </td><td>16                                  </td><td>Puglia                              </td><td>Bari                                </td><td>0                                   </td><td>                                    </td><td>                                    </td></tr>\n",
       "\t<tr><th scope=row>81</th><td>24/02                               </td><td>16                                  </td><td>Puglia                              </td><td>Barletta-Andria-Trani               </td><td>0                                   </td><td>                                    </td><td>                                    </td></tr>\n",
       "\t<tr><th scope=row>82</th><td>24/02                               </td><td>16                                  </td><td>Puglia                              </td><td>Brindisi                            </td><td>0                                   </td><td>                                    </td><td>                                    </td></tr>\n",
       "\t<tr><th scope=row>83</th><td>24/02                               </td><td>16                                  </td><td>Puglia                              </td><td>Foggia                              </td><td>0                                   </td><td>                                    </td><td>                                    </td></tr>\n",
       "\t<tr><th scope=row>86</th><td>24/02                               </td><td>16                                  </td><td>Puglia                              </td><td>In fase di definizione/aggiornamento</td><td>0                                   </td><td>                                    </td><td>                                    </td></tr>\n",
       "\t<tr><th scope=row>84</th><td>24/02                               </td><td>16                                  </td><td>Puglia                              </td><td>Lecce                               </td><td>0                                   </td><td>                                    </td><td>                                    </td></tr>\n",
       "</tbody>\n",
       "</table>\n"
      ],
      "text/latex": [
       "\\begin{tabular}{r|lllllll}\n",
       "  & data & codice\\_regione & denominazione\\_regione & denominazione\\_provincia & totale\\_casi & note\\_it & note\\_en\\\\\n",
       "\\hline\n",
       "\t80 & 24/02                                & 16                                   & Puglia                               & Bari                                 & 0                                    &                                      &                                     \\\\\n",
       "\t81 & 24/02                                & 16                                   & Puglia                               & Barletta-Andria-Trani                & 0                                    &                                      &                                     \\\\\n",
       "\t82 & 24/02                                & 16                                   & Puglia                               & Brindisi                             & 0                                    &                                      &                                     \\\\\n",
       "\t83 & 24/02                                & 16                                   & Puglia                               & Foggia                               & 0                                    &                                      &                                     \\\\\n",
       "\t86 & 24/02                                & 16                                   & Puglia                               & In fase di definizione/aggiornamento & 0                                    &                                      &                                     \\\\\n",
       "\t84 & 24/02                                & 16                                   & Puglia                               & Lecce                                & 0                                    &                                      &                                     \\\\\n",
       "\\end{tabular}\n"
      ],
      "text/markdown": [
       "\n",
       "| <!--/--> | data | codice_regione | denominazione_regione | denominazione_provincia | totale_casi | note_it | note_en |\n",
       "|---|---|---|---|---|---|---|---|\n",
       "| 80 | 24/02                                | 16                                   | Puglia                               | Bari                                 | 0                                    |                                      |                                      |\n",
       "| 81 | 24/02                                | 16                                   | Puglia                               | Barletta-Andria-Trani                | 0                                    |                                      |                                      |\n",
       "| 82 | 24/02                                | 16                                   | Puglia                               | Brindisi                             | 0                                    |                                      |                                      |\n",
       "| 83 | 24/02                                | 16                                   | Puglia                               | Foggia                               | 0                                    |                                      |                                      |\n",
       "| 86 | 24/02                                | 16                                   | Puglia                               | In fase di definizione/aggiornamento | 0                                    |                                      |                                      |\n",
       "| 84 | 24/02                                | 16                                   | Puglia                               | Lecce                                | 0                                    |                                      |                                      |\n",
       "\n"
      ],
      "text/plain": [
       "   data  codice_regione denominazione_regione\n",
       "80 24/02 16             Puglia               \n",
       "81 24/02 16             Puglia               \n",
       "82 24/02 16             Puglia               \n",
       "83 24/02 16             Puglia               \n",
       "86 24/02 16             Puglia               \n",
       "84 24/02 16             Puglia               \n",
       "   denominazione_provincia              totale_casi note_it note_en\n",
       "80 Bari                                 0                          \n",
       "81 Barletta-Andria-Trani                0                          \n",
       "82 Brindisi                             0                          \n",
       "83 Foggia                               0                          \n",
       "86 In fase di definizione/aggiornamento 0                          \n",
       "84 Lecce                                0                          "
      ]
     },
     "metadata": {},
     "output_type": "display_data"
    }
   ],
   "source": [
    "regione <- 'Puglia'\n",
    "yprov <- yprov[yprov$denominazione_regione == regione, ] \n",
    "## Sort by date\n",
    "yprov_datashort = yprov[order(as.Date(yprov$data), yprov$denominazione_provincia),]\n",
    "yprov_datashort$data <- format(as.Date(yprov$data), \"%d/%m\")\n",
    "head(yprov_datashort)"
   ]
  },
  {
   "cell_type": "code",
   "execution_count": 16,
   "metadata": {},
   "outputs": [
    {
     "data": {
      "text/html": [
       "<table>\n",
       "<thead><tr><th></th><th scope=col>data</th><th scope=col>codice_regione</th><th scope=col>denominazione_regione</th><th scope=col>denominazione_provincia</th><th scope=col>totale_casi</th><th scope=col>note_it</th><th scope=col>note_en</th></tr></thead>\n",
       "<tbody>\n",
       "\t<tr><th scope=row>83</th><td>24/02 </td><td>16    </td><td>Puglia</td><td>Foggia</td><td>0     </td><td>      </td><td>      </td></tr>\n",
       "\t<tr><th scope=row>211</th><td>25/02 </td><td>16    </td><td>Puglia</td><td>Foggia</td><td>0     </td><td>      </td><td>      </td></tr>\n",
       "\t<tr><th scope=row>339</th><td>26/02 </td><td>16    </td><td>Puglia</td><td>Foggia</td><td>0     </td><td>      </td><td>      </td></tr>\n",
       "\t<tr><th scope=row>467</th><td>27/02 </td><td>16    </td><td>Puglia</td><td>Foggia</td><td>0     </td><td>      </td><td>      </td></tr>\n",
       "\t<tr><th scope=row>595</th><td>28/02 </td><td>16    </td><td>Puglia</td><td>Foggia</td><td>0     </td><td>      </td><td>      </td></tr>\n",
       "\t<tr><th scope=row>723</th><td>29/02 </td><td>16    </td><td>Puglia</td><td>Foggia</td><td>0     </td><td>      </td><td>      </td></tr>\n",
       "</tbody>\n",
       "</table>\n"
      ],
      "text/latex": [
       "\\begin{tabular}{r|lllllll}\n",
       "  & data & codice\\_regione & denominazione\\_regione & denominazione\\_provincia & totale\\_casi & note\\_it & note\\_en\\\\\n",
       "\\hline\n",
       "\t83 & 24/02  & 16     & Puglia & Foggia & 0      &        &       \\\\\n",
       "\t211 & 25/02  & 16     & Puglia & Foggia & 0      &        &       \\\\\n",
       "\t339 & 26/02  & 16     & Puglia & Foggia & 0      &        &       \\\\\n",
       "\t467 & 27/02  & 16     & Puglia & Foggia & 0      &        &       \\\\\n",
       "\t595 & 28/02  & 16     & Puglia & Foggia & 0      &        &       \\\\\n",
       "\t723 & 29/02  & 16     & Puglia & Foggia & 0      &        &       \\\\\n",
       "\\end{tabular}\n"
      ],
      "text/markdown": [
       "\n",
       "| <!--/--> | data | codice_regione | denominazione_regione | denominazione_provincia | totale_casi | note_it | note_en |\n",
       "|---|---|---|---|---|---|---|---|\n",
       "| 83 | 24/02  | 16     | Puglia | Foggia | 0      |        |        |\n",
       "| 211 | 25/02  | 16     | Puglia | Foggia | 0      |        |        |\n",
       "| 339 | 26/02  | 16     | Puglia | Foggia | 0      |        |        |\n",
       "| 467 | 27/02  | 16     | Puglia | Foggia | 0      |        |        |\n",
       "| 595 | 28/02  | 16     | Puglia | Foggia | 0      |        |        |\n",
       "| 723 | 29/02  | 16     | Puglia | Foggia | 0      |        |        |\n",
       "\n"
      ],
      "text/plain": [
       "    data  codice_regione denominazione_regione denominazione_provincia\n",
       "83  24/02 16             Puglia                Foggia                 \n",
       "211 25/02 16             Puglia                Foggia                 \n",
       "339 26/02 16             Puglia                Foggia                 \n",
       "467 27/02 16             Puglia                Foggia                 \n",
       "595 28/02 16             Puglia                Foggia                 \n",
       "723 29/02 16             Puglia                Foggia                 \n",
       "    totale_casi note_it note_en\n",
       "83  0                          \n",
       "211 0                          \n",
       "339 0                          \n",
       "467 0                          \n",
       "595 0                          \n",
       "723 0                          "
      ]
     },
     "metadata": {},
     "output_type": "display_data"
    }
   ],
   "source": [
    "provincia <- 'Foggia'\n",
    "yprov_filtered <- yprov_datashort[yprov_datashort$denominazione_provincia == provincia, ]\n",
    "head(yprov_filtered)"
   ]
  },
  {
   "cell_type": "markdown",
   "metadata": {},
   "source": [
    "## Andamento dei casi in provincia a scelta nella regione di prima"
   ]
  },
  {
   "cell_type": "code",
   "execution_count": 17,
   "metadata": {},
   "outputs": [
    {
     "data": {
      "text/html": [
       "<strong>png:</strong> 2"
      ],
      "text/latex": [
       "\\textbf{png:} 2"
      ],
      "text/markdown": [
       "**png:** 2"
      ],
      "text/plain": [
       "png \n",
       "  2 "
      ]
     },
     "metadata": {},
     "output_type": "display_data"
    }
   ],
   "source": [
    "# Stacked Bar Plot with Colors and Legend\n",
    "#data_selected <- t(as.matrix(subset(ypuglia, select=c(\"data\", \"totale_ospedalizzati\", \"isolamento_domiciliare\"))))\n",
    "#barplot(ypuglia$totale_ospedalizzati)\n",
    "\n",
    "provincia <- 'Foggia'\n",
    "yprov_filtered <- yprov_datashort[yprov_datashort$denominazione_provincia == provincia, ]\n",
    "\n",
    "# Give the chart file a name\n",
    "png(file = \"totcasi_foggia.png\", width = 1500, height = 800, res = 200)\n",
    "\n",
    "# Plot the bar chart \n",
    "barplot(yprov_filtered$totale_casi,names.arg=yprov_filtered$data,xlab=\"Data\",ylab=\"Tot casi\",col=\"blue\",\n",
    "main=\"Andamento casi Covid19 in provincia di Foggia\",border=\"red\",ylim=range(pretty(c(0, yprov_filtered$totale_casi))))\n",
    "\n",
    "# Save the file\n",
    "dev.off()"
   ]
  },
  {
   "cell_type": "markdown",
   "metadata": {},
   "source": [
    "## Distribuzione dei casi nelle varie provincie della regione scelta prima"
   ]
  },
  {
   "cell_type": "code",
   "execution_count": 18,
   "metadata": {
    "scrolled": true
   },
   "outputs": [
    {
     "data": {
      "text/html": [
       "<strong>png:</strong> 2"
      ],
      "text/latex": [
       "\\textbf{png:} 2"
      ],
      "text/markdown": [
       "**png:** 2"
      ],
      "text/plain": [
       "png \n",
       "  2 "
      ]
     },
     "metadata": {},
     "output_type": "display_data"
    }
   ],
   "source": [
    "# Remove rows with in fase di definizione o aggiornamento\n",
    "yprov_datashort = yprov_datashort[!yprov_datashort$denominazione_provincia == \"In fase di definizione/aggiornamento\", ]\n",
    "\n",
    "# Create the input vectors.\n",
    "colors = rainbow(length(unique(yprov_datashort$denominazione_provincia)))\n",
    "dates <- unique(yprov_datashort$data)\n",
    "regions <- unique(yprov_datashort$denominazione_provincia)\n",
    "\n",
    "# Create the matrix of the values.\n",
    "Values <- matrix(c(yprov_datashort$totale_casi), nrow = length(unique(yprov_datashort$denominazione_provincia)), ncol = length(dates), byrow = FALSE)\n",
    "\n",
    "# Give the chart file a name\n",
    "png(file = paste(\"Distrib_casi_\", paste(regione, \".png\", sep=\"\"), sep=\"\"), width = 2500, height = 1600, res = 200)\n",
    "\n",
    "# Create the bar chart\n",
    "barplot(Values, main = paste(\"Distribuzione casi Covid19 in \", regione), names.arg = dates, xlab = \"Data\", ylab = \"Totale casi\", col = colors)\n",
    "\n",
    "# Add the legend to the chart\n",
    "legend(\"topleft\", regions, cex = 1.3, fill = colors)\n",
    "\n",
    "# Save the file\n",
    "dev.off()"
   ]
  },
  {
   "cell_type": "code",
   "execution_count": 19,
   "metadata": {
    "scrolled": true
   },
   "outputs": [
    {
     "data": {
      "text/html": [
       "<table>\n",
       "<thead><tr><th></th><th scope=col>data</th><th scope=col>codice_regione</th><th scope=col>denominazione_regione</th><th scope=col>denominazione_provincia</th><th scope=col>totale_casi</th><th scope=col>note_it</th><th scope=col>note_en</th></tr></thead>\n",
       "<tbody>\n",
       "\t<tr><th scope=row>80</th><td>24/02                </td><td>16                   </td><td>Puglia               </td><td>Bari                 </td><td>0                    </td><td>                     </td><td>                     </td></tr>\n",
       "\t<tr><th scope=row>81</th><td>24/02                </td><td>16                   </td><td>Puglia               </td><td>Barletta-Andria-Trani</td><td>0                    </td><td>                     </td><td>                     </td></tr>\n",
       "\t<tr><th scope=row>82</th><td>24/02                </td><td>16                   </td><td>Puglia               </td><td>Brindisi             </td><td>0                    </td><td>                     </td><td>                     </td></tr>\n",
       "\t<tr><th scope=row>83</th><td>24/02                </td><td>16                   </td><td>Puglia               </td><td>Foggia               </td><td>0                    </td><td>                     </td><td>                     </td></tr>\n",
       "\t<tr><th scope=row>84</th><td>24/02                </td><td>16                   </td><td>Puglia               </td><td>Lecce                </td><td>0                    </td><td>                     </td><td>                     </td></tr>\n",
       "\t<tr><th scope=row>85</th><td>24/02                </td><td>16                   </td><td>Puglia               </td><td>Taranto              </td><td>0                    </td><td>                     </td><td>                     </td></tr>\n",
       "\t<tr><th scope=row>208</th><td>25/02                </td><td>16                   </td><td>Puglia               </td><td>Bari                 </td><td>0                    </td><td>                     </td><td>                     </td></tr>\n",
       "\t<tr><th scope=row>209</th><td>25/02                </td><td>16                   </td><td>Puglia               </td><td>Barletta-Andria-Trani</td><td>0                    </td><td>                     </td><td>                     </td></tr>\n",
       "\t<tr><th scope=row>210</th><td>25/02                </td><td>16                   </td><td>Puglia               </td><td>Brindisi             </td><td>0                    </td><td>                     </td><td>                     </td></tr>\n",
       "\t<tr><th scope=row>211</th><td>25/02                </td><td>16                   </td><td>Puglia               </td><td>Foggia               </td><td>0                    </td><td>                     </td><td>                     </td></tr>\n",
       "\t<tr><th scope=row>212</th><td>25/02                </td><td>16                   </td><td>Puglia               </td><td>Lecce                </td><td>0                    </td><td>                     </td><td>                     </td></tr>\n",
       "\t<tr><th scope=row>213</th><td>25/02                </td><td>16                   </td><td>Puglia               </td><td>Taranto              </td><td>0                    </td><td>                     </td><td>                     </td></tr>\n",
       "\t<tr><th scope=row>336</th><td>26/02                </td><td>16                   </td><td>Puglia               </td><td>Bari                 </td><td>0                    </td><td>                     </td><td>                     </td></tr>\n",
       "\t<tr><th scope=row>337</th><td>26/02                </td><td>16                   </td><td>Puglia               </td><td>Barletta-Andria-Trani</td><td>0                    </td><td>                     </td><td>                     </td></tr>\n",
       "\t<tr><th scope=row>338</th><td>26/02                </td><td>16                   </td><td>Puglia               </td><td>Brindisi             </td><td>0                    </td><td>                     </td><td>                     </td></tr>\n",
       "\t<tr><th scope=row>339</th><td>26/02                </td><td>16                   </td><td>Puglia               </td><td>Foggia               </td><td>0                    </td><td>                     </td><td>                     </td></tr>\n",
       "\t<tr><th scope=row>340</th><td>26/02                </td><td>16                   </td><td>Puglia               </td><td>Lecce                </td><td>0                    </td><td>                     </td><td>                     </td></tr>\n",
       "\t<tr><th scope=row>341</th><td>26/02                </td><td>16                   </td><td>Puglia               </td><td>Taranto              </td><td>0                    </td><td>                     </td><td>                     </td></tr>\n",
       "\t<tr><th scope=row>464</th><td>27/02                </td><td>16                   </td><td>Puglia               </td><td>Bari                 </td><td>1                    </td><td>                     </td><td>                     </td></tr>\n",
       "\t<tr><th scope=row>465</th><td>27/02                </td><td>16                   </td><td>Puglia               </td><td>Barletta-Andria-Trani</td><td>0                    </td><td>                     </td><td>                     </td></tr>\n",
       "\t<tr><th scope=row>466</th><td>27/02                </td><td>16                   </td><td>Puglia               </td><td>Brindisi             </td><td>0                    </td><td>                     </td><td>                     </td></tr>\n",
       "\t<tr><th scope=row>467</th><td>27/02                </td><td>16                   </td><td>Puglia               </td><td>Foggia               </td><td>0                    </td><td>                     </td><td>                     </td></tr>\n",
       "\t<tr><th scope=row>468</th><td>27/02                </td><td>16                   </td><td>Puglia               </td><td>Lecce                </td><td>0                    </td><td>                     </td><td>                     </td></tr>\n",
       "\t<tr><th scope=row>469</th><td>27/02                </td><td>16                   </td><td>Puglia               </td><td>Taranto              </td><td>0                    </td><td>                     </td><td>                     </td></tr>\n",
       "\t<tr><th scope=row>592</th><td>28/02                </td><td>16                   </td><td>Puglia               </td><td>Bari                 </td><td>0                    </td><td>                     </td><td>                     </td></tr>\n",
       "\t<tr><th scope=row>593</th><td>28/02                </td><td>16                   </td><td>Puglia               </td><td>Barletta-Andria-Trani</td><td>0                    </td><td>                     </td><td>                     </td></tr>\n",
       "\t<tr><th scope=row>594</th><td>28/02                </td><td>16                   </td><td>Puglia               </td><td>Brindisi             </td><td>0                    </td><td>                     </td><td>                     </td></tr>\n",
       "\t<tr><th scope=row>595</th><td>28/02                </td><td>16                   </td><td>Puglia               </td><td>Foggia               </td><td>0                    </td><td>                     </td><td>                     </td></tr>\n",
       "\t<tr><th scope=row>596</th><td>28/02                </td><td>16                   </td><td>Puglia               </td><td>Lecce                </td><td>0                    </td><td>                     </td><td>                     </td></tr>\n",
       "\t<tr><th scope=row>597</th><td>28/02                </td><td>16                   </td><td>Puglia               </td><td>Taranto              </td><td>3                    </td><td>                     </td><td>                     </td></tr>\n",
       "\t<tr><th scope=row>...</th><td>...</td><td>...</td><td>...</td><td>...</td><td>...</td><td>...</td><td>...</td></tr>\n",
       "\t<tr><th scope=row>3664</th><td>23/03                </td><td>16                   </td><td>Puglia               </td><td>Bari                 </td><td>268                  </td><td>                     </td><td>                     </td></tr>\n",
       "\t<tr><th scope=row>3665</th><td>23/03                </td><td>16                   </td><td>Puglia               </td><td>Barletta-Andria-Trani</td><td> 59                  </td><td>                     </td><td>                     </td></tr>\n",
       "\t<tr><th scope=row>3666</th><td>23/03                </td><td>16                   </td><td>Puglia               </td><td>Brindisi             </td><td>102                  </td><td>                     </td><td>                     </td></tr>\n",
       "\t<tr><th scope=row>3667</th><td>23/03                </td><td>16                   </td><td>Puglia               </td><td>Foggia               </td><td>226                  </td><td>                     </td><td>                     </td></tr>\n",
       "\t<tr><th scope=row>3668</th><td>23/03                </td><td>16                   </td><td>Puglia               </td><td>Lecce                </td><td>149                  </td><td>                     </td><td>                     </td></tr>\n",
       "\t<tr><th scope=row>3669</th><td>23/03                </td><td>16                   </td><td>Puglia               </td><td>Taranto              </td><td> 46                  </td><td>                     </td><td>                     </td></tr>\n",
       "\t<tr><th scope=row>3792</th><td>24/03                </td><td>16                   </td><td>Puglia               </td><td>Bari                 </td><td>304                  </td><td>                     </td><td>                     </td></tr>\n",
       "\t<tr><th scope=row>3793</th><td>24/03                </td><td>16                   </td><td>Puglia               </td><td>Barletta-Andria-Trani</td><td> 62                  </td><td>                     </td><td>                     </td></tr>\n",
       "\t<tr><th scope=row>3794</th><td>24/03                </td><td>16                   </td><td>Puglia               </td><td>Brindisi             </td><td>103                  </td><td>                     </td><td>                     </td></tr>\n",
       "\t<tr><th scope=row>3795</th><td>24/03                </td><td>16                   </td><td>Puglia               </td><td>Foggia               </td><td>255                  </td><td>                     </td><td>                     </td></tr>\n",
       "\t<tr><th scope=row>3796</th><td>24/03                </td><td>16                   </td><td>Puglia               </td><td>Lecce                </td><td>161                  </td><td>                     </td><td>                     </td></tr>\n",
       "\t<tr><th scope=row>3797</th><td>24/03                </td><td>16                   </td><td>Puglia               </td><td>Taranto              </td><td> 51                  </td><td>                     </td><td>                     </td></tr>\n",
       "\t<tr><th scope=row>3920</th><td>25/03                </td><td>16                   </td><td>Puglia               </td><td>Bari                 </td><td>336                  </td><td>                     </td><td>                     </td></tr>\n",
       "\t<tr><th scope=row>3921</th><td>25/03                </td><td>16                   </td><td>Puglia               </td><td>Barletta-Andria-Trani</td><td> 65                  </td><td>                     </td><td>                     </td></tr>\n",
       "\t<tr><th scope=row>3922</th><td>25/03                </td><td>16                   </td><td>Puglia               </td><td>Brindisi             </td><td>116                  </td><td>                     </td><td>                     </td></tr>\n",
       "\t<tr><th scope=row>3923</th><td>25/03                </td><td>16                   </td><td>Puglia               </td><td>Foggia               </td><td>277                  </td><td>                     </td><td>                     </td></tr>\n",
       "\t<tr><th scope=row>3924</th><td>25/03                </td><td>16                   </td><td>Puglia               </td><td>Lecce                </td><td>164                  </td><td>                     </td><td>                     </td></tr>\n",
       "\t<tr><th scope=row>3925</th><td>25/03                </td><td>16                   </td><td>Puglia               </td><td>Taranto              </td><td> 56                  </td><td>                     </td><td>                     </td></tr>\n",
       "\t<tr><th scope=row>4048</th><td>26/03                </td><td>16                   </td><td>Puglia               </td><td>Bari                 </td><td>387                  </td><td>                     </td><td>                     </td></tr>\n",
       "\t<tr><th scope=row>4049</th><td>26/03                </td><td>16                   </td><td>Puglia               </td><td>Barletta-Andria-Trani</td><td> 85                  </td><td>                     </td><td>                     </td></tr>\n",
       "\t<tr><th scope=row>4050</th><td>26/03                </td><td>16                   </td><td>Puglia               </td><td>Brindisi             </td><td>122                  </td><td>                     </td><td>                     </td></tr>\n",
       "\t<tr><th scope=row>4051</th><td>26/03                </td><td>16                   </td><td>Puglia               </td><td>Foggia               </td><td>305                  </td><td>                     </td><td>                     </td></tr>\n",
       "\t<tr><th scope=row>4052</th><td>26/03                </td><td>16                   </td><td>Puglia               </td><td>Lecce                </td><td>177                  </td><td>                     </td><td>                     </td></tr>\n",
       "\t<tr><th scope=row>4053</th><td>26/03                </td><td>16                   </td><td>Puglia               </td><td>Taranto              </td><td> 74                  </td><td>                     </td><td>                     </td></tr>\n",
       "\t<tr><th scope=row>4176</th><td>27/03                </td><td>16                   </td><td>Puglia               </td><td>Bari                 </td><td>444                  </td><td>                     </td><td>                     </td></tr>\n",
       "\t<tr><th scope=row>4177</th><td>27/03                </td><td>16                   </td><td>Puglia               </td><td>Barletta-Andria-Trani</td><td> 92                  </td><td>                     </td><td>                     </td></tr>\n",
       "\t<tr><th scope=row>4178</th><td>27/03                </td><td>16                   </td><td>Puglia               </td><td>Brindisi             </td><td>125                  </td><td>                     </td><td>                     </td></tr>\n",
       "\t<tr><th scope=row>4179</th><td>27/03                </td><td>16                   </td><td>Puglia               </td><td>Foggia               </td><td>325                  </td><td>                     </td><td>                     </td></tr>\n",
       "\t<tr><th scope=row>4180</th><td>27/03                </td><td>16                   </td><td>Puglia               </td><td>Lecce                </td><td>215                  </td><td>                     </td><td>                     </td></tr>\n",
       "\t<tr><th scope=row>4181</th><td>27/03                </td><td>16                   </td><td>Puglia               </td><td>Taranto              </td><td> 78                  </td><td>                     </td><td>                     </td></tr>\n",
       "</tbody>\n",
       "</table>\n"
      ],
      "text/latex": [
       "\\begin{tabular}{r|lllllll}\n",
       "  & data & codice\\_regione & denominazione\\_regione & denominazione\\_provincia & totale\\_casi & note\\_it & note\\_en\\\\\n",
       "\\hline\n",
       "\t80 & 24/02                 & 16                    & Puglia                & Bari                  & 0                     &                       &                      \\\\\n",
       "\t81 & 24/02                 & 16                    & Puglia                & Barletta-Andria-Trani & 0                     &                       &                      \\\\\n",
       "\t82 & 24/02                 & 16                    & Puglia                & Brindisi              & 0                     &                       &                      \\\\\n",
       "\t83 & 24/02                 & 16                    & Puglia                & Foggia                & 0                     &                       &                      \\\\\n",
       "\t84 & 24/02                 & 16                    & Puglia                & Lecce                 & 0                     &                       &                      \\\\\n",
       "\t85 & 24/02                 & 16                    & Puglia                & Taranto               & 0                     &                       &                      \\\\\n",
       "\t208 & 25/02                 & 16                    & Puglia                & Bari                  & 0                     &                       &                      \\\\\n",
       "\t209 & 25/02                 & 16                    & Puglia                & Barletta-Andria-Trani & 0                     &                       &                      \\\\\n",
       "\t210 & 25/02                 & 16                    & Puglia                & Brindisi              & 0                     &                       &                      \\\\\n",
       "\t211 & 25/02                 & 16                    & Puglia                & Foggia                & 0                     &                       &                      \\\\\n",
       "\t212 & 25/02                 & 16                    & Puglia                & Lecce                 & 0                     &                       &                      \\\\\n",
       "\t213 & 25/02                 & 16                    & Puglia                & Taranto               & 0                     &                       &                      \\\\\n",
       "\t336 & 26/02                 & 16                    & Puglia                & Bari                  & 0                     &                       &                      \\\\\n",
       "\t337 & 26/02                 & 16                    & Puglia                & Barletta-Andria-Trani & 0                     &                       &                      \\\\\n",
       "\t338 & 26/02                 & 16                    & Puglia                & Brindisi              & 0                     &                       &                      \\\\\n",
       "\t339 & 26/02                 & 16                    & Puglia                & Foggia                & 0                     &                       &                      \\\\\n",
       "\t340 & 26/02                 & 16                    & Puglia                & Lecce                 & 0                     &                       &                      \\\\\n",
       "\t341 & 26/02                 & 16                    & Puglia                & Taranto               & 0                     &                       &                      \\\\\n",
       "\t464 & 27/02                 & 16                    & Puglia                & Bari                  & 1                     &                       &                      \\\\\n",
       "\t465 & 27/02                 & 16                    & Puglia                & Barletta-Andria-Trani & 0                     &                       &                      \\\\\n",
       "\t466 & 27/02                 & 16                    & Puglia                & Brindisi              & 0                     &                       &                      \\\\\n",
       "\t467 & 27/02                 & 16                    & Puglia                & Foggia                & 0                     &                       &                      \\\\\n",
       "\t468 & 27/02                 & 16                    & Puglia                & Lecce                 & 0                     &                       &                      \\\\\n",
       "\t469 & 27/02                 & 16                    & Puglia                & Taranto               & 0                     &                       &                      \\\\\n",
       "\t592 & 28/02                 & 16                    & Puglia                & Bari                  & 0                     &                       &                      \\\\\n",
       "\t593 & 28/02                 & 16                    & Puglia                & Barletta-Andria-Trani & 0                     &                       &                      \\\\\n",
       "\t594 & 28/02                 & 16                    & Puglia                & Brindisi              & 0                     &                       &                      \\\\\n",
       "\t595 & 28/02                 & 16                    & Puglia                & Foggia                & 0                     &                       &                      \\\\\n",
       "\t596 & 28/02                 & 16                    & Puglia                & Lecce                 & 0                     &                       &                      \\\\\n",
       "\t597 & 28/02                 & 16                    & Puglia                & Taranto               & 3                     &                       &                      \\\\\n",
       "\t... & ... & ... & ... & ... & ... & ... & ...\\\\\n",
       "\t3664 & 23/03                 & 16                    & Puglia                & Bari                  & 268                   &                       &                      \\\\\n",
       "\t3665 & 23/03                 & 16                    & Puglia                & Barletta-Andria-Trani &  59                   &                       &                      \\\\\n",
       "\t3666 & 23/03                 & 16                    & Puglia                & Brindisi              & 102                   &                       &                      \\\\\n",
       "\t3667 & 23/03                 & 16                    & Puglia                & Foggia                & 226                   &                       &                      \\\\\n",
       "\t3668 & 23/03                 & 16                    & Puglia                & Lecce                 & 149                   &                       &                      \\\\\n",
       "\t3669 & 23/03                 & 16                    & Puglia                & Taranto               &  46                   &                       &                      \\\\\n",
       "\t3792 & 24/03                 & 16                    & Puglia                & Bari                  & 304                   &                       &                      \\\\\n",
       "\t3793 & 24/03                 & 16                    & Puglia                & Barletta-Andria-Trani &  62                   &                       &                      \\\\\n",
       "\t3794 & 24/03                 & 16                    & Puglia                & Brindisi              & 103                   &                       &                      \\\\\n",
       "\t3795 & 24/03                 & 16                    & Puglia                & Foggia                & 255                   &                       &                      \\\\\n",
       "\t3796 & 24/03                 & 16                    & Puglia                & Lecce                 & 161                   &                       &                      \\\\\n",
       "\t3797 & 24/03                 & 16                    & Puglia                & Taranto               &  51                   &                       &                      \\\\\n",
       "\t3920 & 25/03                 & 16                    & Puglia                & Bari                  & 336                   &                       &                      \\\\\n",
       "\t3921 & 25/03                 & 16                    & Puglia                & Barletta-Andria-Trani &  65                   &                       &                      \\\\\n",
       "\t3922 & 25/03                 & 16                    & Puglia                & Brindisi              & 116                   &                       &                      \\\\\n",
       "\t3923 & 25/03                 & 16                    & Puglia                & Foggia                & 277                   &                       &                      \\\\\n",
       "\t3924 & 25/03                 & 16                    & Puglia                & Lecce                 & 164                   &                       &                      \\\\\n",
       "\t3925 & 25/03                 & 16                    & Puglia                & Taranto               &  56                   &                       &                      \\\\\n",
       "\t4048 & 26/03                 & 16                    & Puglia                & Bari                  & 387                   &                       &                      \\\\\n",
       "\t4049 & 26/03                 & 16                    & Puglia                & Barletta-Andria-Trani &  85                   &                       &                      \\\\\n",
       "\t4050 & 26/03                 & 16                    & Puglia                & Brindisi              & 122                   &                       &                      \\\\\n",
       "\t4051 & 26/03                 & 16                    & Puglia                & Foggia                & 305                   &                       &                      \\\\\n",
       "\t4052 & 26/03                 & 16                    & Puglia                & Lecce                 & 177                   &                       &                      \\\\\n",
       "\t4053 & 26/03                 & 16                    & Puglia                & Taranto               &  74                   &                       &                      \\\\\n",
       "\t4176 & 27/03                 & 16                    & Puglia                & Bari                  & 444                   &                       &                      \\\\\n",
       "\t4177 & 27/03                 & 16                    & Puglia                & Barletta-Andria-Trani &  92                   &                       &                      \\\\\n",
       "\t4178 & 27/03                 & 16                    & Puglia                & Brindisi              & 125                   &                       &                      \\\\\n",
       "\t4179 & 27/03                 & 16                    & Puglia                & Foggia                & 325                   &                       &                      \\\\\n",
       "\t4180 & 27/03                 & 16                    & Puglia                & Lecce                 & 215                   &                       &                      \\\\\n",
       "\t4181 & 27/03                 & 16                    & Puglia                & Taranto               &  78                   &                       &                      \\\\\n",
       "\\end{tabular}\n"
      ],
      "text/markdown": [
       "\n",
       "| <!--/--> | data | codice_regione | denominazione_regione | denominazione_provincia | totale_casi | note_it | note_en |\n",
       "|---|---|---|---|---|---|---|---|\n",
       "| 80 | 24/02                 | 16                    | Puglia                | Bari                  | 0                     |                       |                       |\n",
       "| 81 | 24/02                 | 16                    | Puglia                | Barletta-Andria-Trani | 0                     |                       |                       |\n",
       "| 82 | 24/02                 | 16                    | Puglia                | Brindisi              | 0                     |                       |                       |\n",
       "| 83 | 24/02                 | 16                    | Puglia                | Foggia                | 0                     |                       |                       |\n",
       "| 84 | 24/02                 | 16                    | Puglia                | Lecce                 | 0                     |                       |                       |\n",
       "| 85 | 24/02                 | 16                    | Puglia                | Taranto               | 0                     |                       |                       |\n",
       "| 208 | 25/02                 | 16                    | Puglia                | Bari                  | 0                     |                       |                       |\n",
       "| 209 | 25/02                 | 16                    | Puglia                | Barletta-Andria-Trani | 0                     |                       |                       |\n",
       "| 210 | 25/02                 | 16                    | Puglia                | Brindisi              | 0                     |                       |                       |\n",
       "| 211 | 25/02                 | 16                    | Puglia                | Foggia                | 0                     |                       |                       |\n",
       "| 212 | 25/02                 | 16                    | Puglia                | Lecce                 | 0                     |                       |                       |\n",
       "| 213 | 25/02                 | 16                    | Puglia                | Taranto               | 0                     |                       |                       |\n",
       "| 336 | 26/02                 | 16                    | Puglia                | Bari                  | 0                     |                       |                       |\n",
       "| 337 | 26/02                 | 16                    | Puglia                | Barletta-Andria-Trani | 0                     |                       |                       |\n",
       "| 338 | 26/02                 | 16                    | Puglia                | Brindisi              | 0                     |                       |                       |\n",
       "| 339 | 26/02                 | 16                    | Puglia                | Foggia                | 0                     |                       |                       |\n",
       "| 340 | 26/02                 | 16                    | Puglia                | Lecce                 | 0                     |                       |                       |\n",
       "| 341 | 26/02                 | 16                    | Puglia                | Taranto               | 0                     |                       |                       |\n",
       "| 464 | 27/02                 | 16                    | Puglia                | Bari                  | 1                     |                       |                       |\n",
       "| 465 | 27/02                 | 16                    | Puglia                | Barletta-Andria-Trani | 0                     |                       |                       |\n",
       "| 466 | 27/02                 | 16                    | Puglia                | Brindisi              | 0                     |                       |                       |\n",
       "| 467 | 27/02                 | 16                    | Puglia                | Foggia                | 0                     |                       |                       |\n",
       "| 468 | 27/02                 | 16                    | Puglia                | Lecce                 | 0                     |                       |                       |\n",
       "| 469 | 27/02                 | 16                    | Puglia                | Taranto               | 0                     |                       |                       |\n",
       "| 592 | 28/02                 | 16                    | Puglia                | Bari                  | 0                     |                       |                       |\n",
       "| 593 | 28/02                 | 16                    | Puglia                | Barletta-Andria-Trani | 0                     |                       |                       |\n",
       "| 594 | 28/02                 | 16                    | Puglia                | Brindisi              | 0                     |                       |                       |\n",
       "| 595 | 28/02                 | 16                    | Puglia                | Foggia                | 0                     |                       |                       |\n",
       "| 596 | 28/02                 | 16                    | Puglia                | Lecce                 | 0                     |                       |                       |\n",
       "| 597 | 28/02                 | 16                    | Puglia                | Taranto               | 3                     |                       |                       |\n",
       "| ... | ... | ... | ... | ... | ... | ... | ... |\n",
       "| 3664 | 23/03                 | 16                    | Puglia                | Bari                  | 268                   |                       |                       |\n",
       "| 3665 | 23/03                 | 16                    | Puglia                | Barletta-Andria-Trani |  59                   |                       |                       |\n",
       "| 3666 | 23/03                 | 16                    | Puglia                | Brindisi              | 102                   |                       |                       |\n",
       "| 3667 | 23/03                 | 16                    | Puglia                | Foggia                | 226                   |                       |                       |\n",
       "| 3668 | 23/03                 | 16                    | Puglia                | Lecce                 | 149                   |                       |                       |\n",
       "| 3669 | 23/03                 | 16                    | Puglia                | Taranto               |  46                   |                       |                       |\n",
       "| 3792 | 24/03                 | 16                    | Puglia                | Bari                  | 304                   |                       |                       |\n",
       "| 3793 | 24/03                 | 16                    | Puglia                | Barletta-Andria-Trani |  62                   |                       |                       |\n",
       "| 3794 | 24/03                 | 16                    | Puglia                | Brindisi              | 103                   |                       |                       |\n",
       "| 3795 | 24/03                 | 16                    | Puglia                | Foggia                | 255                   |                       |                       |\n",
       "| 3796 | 24/03                 | 16                    | Puglia                | Lecce                 | 161                   |                       |                       |\n",
       "| 3797 | 24/03                 | 16                    | Puglia                | Taranto               |  51                   |                       |                       |\n",
       "| 3920 | 25/03                 | 16                    | Puglia                | Bari                  | 336                   |                       |                       |\n",
       "| 3921 | 25/03                 | 16                    | Puglia                | Barletta-Andria-Trani |  65                   |                       |                       |\n",
       "| 3922 | 25/03                 | 16                    | Puglia                | Brindisi              | 116                   |                       |                       |\n",
       "| 3923 | 25/03                 | 16                    | Puglia                | Foggia                | 277                   |                       |                       |\n",
       "| 3924 | 25/03                 | 16                    | Puglia                | Lecce                 | 164                   |                       |                       |\n",
       "| 3925 | 25/03                 | 16                    | Puglia                | Taranto               |  56                   |                       |                       |\n",
       "| 4048 | 26/03                 | 16                    | Puglia                | Bari                  | 387                   |                       |                       |\n",
       "| 4049 | 26/03                 | 16                    | Puglia                | Barletta-Andria-Trani |  85                   |                       |                       |\n",
       "| 4050 | 26/03                 | 16                    | Puglia                | Brindisi              | 122                   |                       |                       |\n",
       "| 4051 | 26/03                 | 16                    | Puglia                | Foggia                | 305                   |                       |                       |\n",
       "| 4052 | 26/03                 | 16                    | Puglia                | Lecce                 | 177                   |                       |                       |\n",
       "| 4053 | 26/03                 | 16                    | Puglia                | Taranto               |  74                   |                       |                       |\n",
       "| 4176 | 27/03                 | 16                    | Puglia                | Bari                  | 444                   |                       |                       |\n",
       "| 4177 | 27/03                 | 16                    | Puglia                | Barletta-Andria-Trani |  92                   |                       |                       |\n",
       "| 4178 | 27/03                 | 16                    | Puglia                | Brindisi              | 125                   |                       |                       |\n",
       "| 4179 | 27/03                 | 16                    | Puglia                | Foggia                | 325                   |                       |                       |\n",
       "| 4180 | 27/03                 | 16                    | Puglia                | Lecce                 | 215                   |                       |                       |\n",
       "| 4181 | 27/03                 | 16                    | Puglia                | Taranto               |  78                   |                       |                       |\n",
       "\n"
      ],
      "text/plain": [
       "     data  codice_regione denominazione_regione denominazione_provincia\n",
       "80   24/02 16             Puglia                Bari                   \n",
       "81   24/02 16             Puglia                Barletta-Andria-Trani  \n",
       "82   24/02 16             Puglia                Brindisi               \n",
       "83   24/02 16             Puglia                Foggia                 \n",
       "84   24/02 16             Puglia                Lecce                  \n",
       "85   24/02 16             Puglia                Taranto                \n",
       "208  25/02 16             Puglia                Bari                   \n",
       "209  25/02 16             Puglia                Barletta-Andria-Trani  \n",
       "210  25/02 16             Puglia                Brindisi               \n",
       "211  25/02 16             Puglia                Foggia                 \n",
       "212  25/02 16             Puglia                Lecce                  \n",
       "213  25/02 16             Puglia                Taranto                \n",
       "336  26/02 16             Puglia                Bari                   \n",
       "337  26/02 16             Puglia                Barletta-Andria-Trani  \n",
       "338  26/02 16             Puglia                Brindisi               \n",
       "339  26/02 16             Puglia                Foggia                 \n",
       "340  26/02 16             Puglia                Lecce                  \n",
       "341  26/02 16             Puglia                Taranto                \n",
       "464  27/02 16             Puglia                Bari                   \n",
       "465  27/02 16             Puglia                Barletta-Andria-Trani  \n",
       "466  27/02 16             Puglia                Brindisi               \n",
       "467  27/02 16             Puglia                Foggia                 \n",
       "468  27/02 16             Puglia                Lecce                  \n",
       "469  27/02 16             Puglia                Taranto                \n",
       "592  28/02 16             Puglia                Bari                   \n",
       "593  28/02 16             Puglia                Barletta-Andria-Trani  \n",
       "594  28/02 16             Puglia                Brindisi               \n",
       "595  28/02 16             Puglia                Foggia                 \n",
       "596  28/02 16             Puglia                Lecce                  \n",
       "597  28/02 16             Puglia                Taranto                \n",
       "...  ...   ...            ...                   ...                    \n",
       "3664 23/03 16             Puglia                Bari                   \n",
       "3665 23/03 16             Puglia                Barletta-Andria-Trani  \n",
       "3666 23/03 16             Puglia                Brindisi               \n",
       "3667 23/03 16             Puglia                Foggia                 \n",
       "3668 23/03 16             Puglia                Lecce                  \n",
       "3669 23/03 16             Puglia                Taranto                \n",
       "3792 24/03 16             Puglia                Bari                   \n",
       "3793 24/03 16             Puglia                Barletta-Andria-Trani  \n",
       "3794 24/03 16             Puglia                Brindisi               \n",
       "3795 24/03 16             Puglia                Foggia                 \n",
       "3796 24/03 16             Puglia                Lecce                  \n",
       "3797 24/03 16             Puglia                Taranto                \n",
       "3920 25/03 16             Puglia                Bari                   \n",
       "3921 25/03 16             Puglia                Barletta-Andria-Trani  \n",
       "3922 25/03 16             Puglia                Brindisi               \n",
       "3923 25/03 16             Puglia                Foggia                 \n",
       "3924 25/03 16             Puglia                Lecce                  \n",
       "3925 25/03 16             Puglia                Taranto                \n",
       "4048 26/03 16             Puglia                Bari                   \n",
       "4049 26/03 16             Puglia                Barletta-Andria-Trani  \n",
       "4050 26/03 16             Puglia                Brindisi               \n",
       "4051 26/03 16             Puglia                Foggia                 \n",
       "4052 26/03 16             Puglia                Lecce                  \n",
       "4053 26/03 16             Puglia                Taranto                \n",
       "4176 27/03 16             Puglia                Bari                   \n",
       "4177 27/03 16             Puglia                Barletta-Andria-Trani  \n",
       "4178 27/03 16             Puglia                Brindisi               \n",
       "4179 27/03 16             Puglia                Foggia                 \n",
       "4180 27/03 16             Puglia                Lecce                  \n",
       "4181 27/03 16             Puglia                Taranto                \n",
       "     totale_casi note_it note_en\n",
       "80   0                          \n",
       "81   0                          \n",
       "82   0                          \n",
       "83   0                          \n",
       "84   0                          \n",
       "85   0                          \n",
       "208  0                          \n",
       "209  0                          \n",
       "210  0                          \n",
       "211  0                          \n",
       "212  0                          \n",
       "213  0                          \n",
       "336  0                          \n",
       "337  0                          \n",
       "338  0                          \n",
       "339  0                          \n",
       "340  0                          \n",
       "341  0                          \n",
       "464  1                          \n",
       "465  0                          \n",
       "466  0                          \n",
       "467  0                          \n",
       "468  0                          \n",
       "469  0                          \n",
       "592  0                          \n",
       "593  0                          \n",
       "594  0                          \n",
       "595  0                          \n",
       "596  0                          \n",
       "597  3                          \n",
       "...  ...         ...     ...    \n",
       "3664 268                        \n",
       "3665  59                        \n",
       "3666 102                        \n",
       "3667 226                        \n",
       "3668 149                        \n",
       "3669  46                        \n",
       "3792 304                        \n",
       "3793  62                        \n",
       "3794 103                        \n",
       "3795 255                        \n",
       "3796 161                        \n",
       "3797  51                        \n",
       "3920 336                        \n",
       "3921  65                        \n",
       "3922 116                        \n",
       "3923 277                        \n",
       "3924 164                        \n",
       "3925  56                        \n",
       "4048 387                        \n",
       "4049  85                        \n",
       "4050 122                        \n",
       "4051 305                        \n",
       "4052 177                        \n",
       "4053  74                        \n",
       "4176 444                        \n",
       "4177  92                        \n",
       "4178 125                        \n",
       "4179 325                        \n",
       "4180 215                        \n",
       "4181  78                        "
      ]
     },
     "metadata": {},
     "output_type": "display_data"
    }
   ],
   "source": [
    "yprov_datashort"
   ]
  },
  {
   "cell_type": "markdown",
   "metadata": {},
   "source": [
    "## Animazione totale casi in regione scelta"
   ]
  },
  {
   "cell_type": "code",
   "execution_count": 20,
   "metadata": {
    "scrolled": true
   },
   "outputs": [
    {
     "name": "stderr",
     "output_type": "stream",
     "text": [
      "Warning message in (nframes - 1) * (v - range[1])/full_length:\n",
      "\"longer object length is not a multiple of shorter object length\"Warning message in (nframes - 1) * (v - range[1])/full_length:\n",
      "\"longer object length is not a multiple of shorter object length\""
     ]
    }
   ],
   "source": [
    "## Sort by date\n",
    "yprov = yprov[order(as.Date(yprov$data), yprov$denominazione_provincia),]\n",
    "yprov = yprov[!yprov$denominazione_provincia == \"In fase di definizione/aggiornamento\", ]\n",
    "\n",
    "# libraries:\n",
    "library(ggplot2)\n",
    "library(gganimate)\n",
    "library(hrbrthemes)\n",
    "library(viridis)\n",
    "library(extrafont)\n",
    "\n",
    "# Plot\n",
    "plot <- yprov %>%\n",
    "  ggplot( aes(x=data, y=totale_casi, group=denominazione_provincia, color=denominazione_provincia)) +\n",
    "    geom_line() +\n",
    "    geom_point() +\n",
    "    scale_color_viridis(discrete = TRUE) +\n",
    "    ggtitle(paste(\"Totale casi nelle province della regione \", regione, sep = \"\")) +\n",
    "    theme_bw() +\n",
    "    ylab(\"Totale casi\") +\n",
    "    transition_reveal(data, range = seq(as.Date(\"2020-02-24\"), by = \"month\", length.out = 30))\n",
    "\n",
    "# Save at gif:\n",
    "animate(plot, height = 400, width =750, nframes = 300, fps = 30)\n",
    "anim_save(paste(paste(\"andamento contagiati in \", regione, sep = \"\"), \".gif\", sep = \"\"))"
   ]
  },
  {
   "cell_type": "markdown",
   "metadata": {},
   "source": [
    "# Studio nuovi contagiati"
   ]
  },
  {
   "cell_type": "markdown",
   "metadata": {},
   "source": [
    "## Livello nazionale"
   ]
  },
  {
   "cell_type": "code",
   "execution_count": 21,
   "metadata": {},
   "outputs": [
    {
     "data": {
      "text/html": [
       "<strong>png:</strong> 2"
      ],
      "text/latex": [
       "\\textbf{png:} 2"
      ],
      "text/markdown": [
       "**png:** 2"
      ],
      "text/plain": [
       "png \n",
       "  2 "
      ]
     },
     "metadata": {},
     "output_type": "display_data"
    }
   ],
   "source": [
    "# Select only data and nuovi_attualmente_positivi\n",
    "ynuovipos = subset(y, select=c(\"data\", \"nuovi_attualmente_positivi\"))\n",
    "\n",
    "# Group by data and sum on positivi\n",
    "ynuovipos_data = aggregate(nuovi_attualmente_positivi ~ data, ynuovipos, sum)\n",
    "\n",
    "# Plot the trend\n",
    "library(ggplot2)\n",
    "theme_set(theme_dark())\n",
    "\n",
    "png(file = \"nuovi_contagi_nazionale.png\", width = 1900, height = 800, res=250)\n",
    "\n",
    "# Allow Default X Axis Labels\n",
    "ggplot(ynuovipos_data, aes(x=data)) + \n",
    "  geom_line(aes(y=nuovi_attualmente_positivi)) + \n",
    "  labs(title=\"Andamento nuovi positivi in Italia\", \n",
    "       subtitle=\"Giorno per giorno i nuovi positivi\", \n",
    "       caption=\"Source: Protezione civile\", \n",
    "       y=\"Nuovi positivi\",\n",
    "       x=\"\")\n",
    "\n",
    "dev.off()"
   ]
  },
  {
   "cell_type": "markdown",
   "metadata": {},
   "source": [
    "## Livello regionale"
   ]
  },
  {
   "cell_type": "code",
   "execution_count": 22,
   "metadata": {},
   "outputs": [
    {
     "data": {
      "text/html": [
       "<strong>png:</strong> 2"
      ],
      "text/latex": [
       "\\textbf{png:} 2"
      ],
      "text/markdown": [
       "**png:** 2"
      ],
      "text/plain": [
       "png \n",
       "  2 "
      ]
     },
     "metadata": {},
     "output_type": "display_data"
    }
   ],
   "source": [
    "# Select only data and nuovi_attualmente_positivi\n",
    "regione = 'Puglia'\n",
    "ynuovipos_reg = subset(y[y$denominazione_regione == regione,], select=c(\"data\", \"nuovi_attualmente_positivi\"))\n",
    "\n",
    "# Plot the trend\n",
    "library(ggplot2)\n",
    "theme_set(theme_dark())\n",
    "\n",
    "png(file = paste(paste(\"nuovi_contagi_\", regione, sep=\"\"), \".png\", sep=\"\"), width = 1900, height = 800, res=300)\n",
    "\n",
    "# Allow Default X Axis Labels\n",
    "ggplot(ynuovipos_reg, aes(x=data)) + \n",
    "  geom_line(aes(y=nuovi_attualmente_positivi)) + \n",
    "  labs(title=paste(\"Andamento nuovi positivi in \", regione, sep=\"\"), \n",
    "       subtitle=\"Giorno per giorno i nuovi positivi\", \n",
    "       caption=\"Source: Protezione civile\", \n",
    "       y=\"Nuovi positivi\",\n",
    "       x=\"\")\n",
    "\n",
    "dev.off()"
   ]
  }
 ],
 "metadata": {
  "kernelspec": {
   "display_name": "R",
   "language": "R",
   "name": "ir"
  },
  "language_info": {
   "codemirror_mode": "r",
   "file_extension": ".r",
   "mimetype": "text/x-r-source",
   "name": "R",
   "pygments_lexer": "r",
   "version": "3.6.1"
  }
 },
 "nbformat": 4,
 "nbformat_minor": 4
}
