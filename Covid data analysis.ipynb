{
 "cells": [
  {
   "cell_type": "markdown",
   "metadata": {},
   "source": [
    "# Analisi dati italiani Covid19"
   ]
  },
  {
   "cell_type": "markdown",
   "metadata": {},
   "source": [
    "Scarico i dati disponibili nella cartella della protezione civile su Github"
   ]
  },
  {
   "cell_type": "code",
   "execution_count": 1,
   "metadata": {},
   "outputs": [
    {
     "name": "stderr",
     "output_type": "stream",
     "text": [
      "Warning message:\n",
      "\"package 'RCurl' was built under R version 3.6.2\"Warning message:\n",
      "\"package 'dplyr' was built under R version 3.6.3\"\n",
      "Attaching package: 'dplyr'\n",
      "\n",
      "The following objects are masked from 'package:stats':\n",
      "\n",
      "    filter, lag\n",
      "\n",
      "The following objects are masked from 'package:base':\n",
      "\n",
      "    intersect, setdiff, setequal, union\n",
      "\n",
      "Warning message:\n",
      "\"package 'magrittr' was built under R version 3.6.3\"Warning message:\n",
      "\"package 'ggplot2' was built under R version 3.6.3\""
     ]
    }
   ],
   "source": [
    "library(RCurl)\n",
    "library(dplyr)\n",
    "library(magrittr)\n",
    "library(ggplot2)\n",
    "x <- getURL(\"https://raw.githubusercontent.com/pcm-dpc/COVID-19/master/dati-regioni/dpc-covid19-ita-regioni.csv\")\n",
    "y <- read.csv(text = x, stringsAsFactors = FALSE)"
   ]
  },
  {
   "cell_type": "code",
   "execution_count": 2,
   "metadata": {},
   "outputs": [
    {
     "data": {
      "text/html": [
       "<table>\n",
       "<thead><tr><th scope=col>data</th><th scope=col>stato</th><th scope=col>codice_regione</th><th scope=col>denominazione_regione</th><th scope=col>lat</th><th scope=col>long</th><th scope=col>ricoverati_con_sintomi</th><th scope=col>terapia_intensiva</th><th scope=col>totale_ospedalizzati</th><th scope=col>isolamento_domiciliare</th><th scope=col>totale_attualmente_positivi</th><th scope=col>nuovi_attualmente_positivi</th><th scope=col>dimessi_guariti</th><th scope=col>deceduti</th><th scope=col>totale_casi</th><th scope=col>tamponi</th></tr></thead>\n",
       "<tbody>\n",
       "\t<tr><td>2020-02-24 18:00:00</td><td>ITA                </td><td>13                 </td><td>Abruzzo            </td><td>42.35122           </td><td>13.39844           </td><td> 0                 </td><td>0                  </td><td> 0                 </td><td>0                  </td><td> 0                 </td><td> 0                 </td><td>0                  </td><td>0                  </td><td> 0                 </td><td>  5                </td></tr>\n",
       "\t<tr><td>2020-02-24 18:00:00</td><td>ITA                </td><td>17                 </td><td>Basilicata         </td><td>40.63947           </td><td>15.80515           </td><td> 0                 </td><td>0                  </td><td> 0                 </td><td>0                  </td><td> 0                 </td><td> 0                 </td><td>0                  </td><td>0                  </td><td> 0                 </td><td>  0                </td></tr>\n",
       "\t<tr><td>2020-02-24 18:00:00</td><td>ITA                </td><td> 4                 </td><td>P.A. Bolzano       </td><td>46.49933           </td><td>11.35662           </td><td> 0                 </td><td>0                  </td><td> 0                 </td><td>0                  </td><td> 0                 </td><td> 0                 </td><td>0                  </td><td>0                  </td><td> 0                 </td><td>  1                </td></tr>\n",
       "\t<tr><td>2020-02-24 18:00:00</td><td>ITA                </td><td>18                 </td><td>Calabria           </td><td>38.90598           </td><td>16.59440           </td><td> 0                 </td><td>0                  </td><td> 0                 </td><td>0                  </td><td> 0                 </td><td> 0                 </td><td>0                  </td><td>0                  </td><td> 0                 </td><td>  1                </td></tr>\n",
       "\t<tr><td>2020-02-24 18:00:00</td><td>ITA                </td><td>15                 </td><td>Campania           </td><td>40.83957           </td><td>14.25085           </td><td> 0                 </td><td>0                  </td><td> 0                 </td><td>0                  </td><td> 0                 </td><td> 0                 </td><td>0                  </td><td>0                  </td><td> 0                 </td><td> 10                </td></tr>\n",
       "\t<tr><td>2020-02-24 18:00:00</td><td>ITA                </td><td> 8                 </td><td>Emilia Romagna     </td><td>44.49437           </td><td>11.34172           </td><td>10                 </td><td>2                  </td><td>12                 </td><td>6                  </td><td>18                 </td><td>18                 </td><td>0                  </td><td>0                  </td><td>18                 </td><td>148                </td></tr>\n",
       "</tbody>\n",
       "</table>\n"
      ],
      "text/latex": [
       "\\begin{tabular}{r|llllllllllllllll}\n",
       " data & stato & codice\\_regione & denominazione\\_regione & lat & long & ricoverati\\_con\\_sintomi & terapia\\_intensiva & totale\\_ospedalizzati & isolamento\\_domiciliare & totale\\_attualmente\\_positivi & nuovi\\_attualmente\\_positivi & dimessi\\_guariti & deceduti & totale\\_casi & tamponi\\\\\n",
       "\\hline\n",
       "\t 2020-02-24 18:00:00 & ITA                 & 13                  & Abruzzo             & 42.35122            & 13.39844            &  0                  & 0                   &  0                  & 0                   &  0                  &  0                  & 0                   & 0                   &  0                  &   5                \\\\\n",
       "\t 2020-02-24 18:00:00 & ITA                 & 17                  & Basilicata          & 40.63947            & 15.80515            &  0                  & 0                   &  0                  & 0                   &  0                  &  0                  & 0                   & 0                   &  0                  &   0                \\\\\n",
       "\t 2020-02-24 18:00:00 & ITA                 &  4                  & P.A. Bolzano        & 46.49933            & 11.35662            &  0                  & 0                   &  0                  & 0                   &  0                  &  0                  & 0                   & 0                   &  0                  &   1                \\\\\n",
       "\t 2020-02-24 18:00:00 & ITA                 & 18                  & Calabria            & 38.90598            & 16.59440            &  0                  & 0                   &  0                  & 0                   &  0                  &  0                  & 0                   & 0                   &  0                  &   1                \\\\\n",
       "\t 2020-02-24 18:00:00 & ITA                 & 15                  & Campania            & 40.83957            & 14.25085            &  0                  & 0                   &  0                  & 0                   &  0                  &  0                  & 0                   & 0                   &  0                  &  10                \\\\\n",
       "\t 2020-02-24 18:00:00 & ITA                 &  8                  & Emilia Romagna      & 44.49437            & 11.34172            & 10                  & 2                   & 12                  & 6                   & 18                  & 18                  & 0                   & 0                   & 18                  & 148                \\\\\n",
       "\\end{tabular}\n"
      ],
      "text/markdown": [
       "\n",
       "| data | stato | codice_regione | denominazione_regione | lat | long | ricoverati_con_sintomi | terapia_intensiva | totale_ospedalizzati | isolamento_domiciliare | totale_attualmente_positivi | nuovi_attualmente_positivi | dimessi_guariti | deceduti | totale_casi | tamponi |\n",
       "|---|---|---|---|---|---|---|---|---|---|---|---|---|---|---|---|\n",
       "| 2020-02-24 18:00:00 | ITA                 | 13                  | Abruzzo             | 42.35122            | 13.39844            |  0                  | 0                   |  0                  | 0                   |  0                  |  0                  | 0                   | 0                   |  0                  |   5                 |\n",
       "| 2020-02-24 18:00:00 | ITA                 | 17                  | Basilicata          | 40.63947            | 15.80515            |  0                  | 0                   |  0                  | 0                   |  0                  |  0                  | 0                   | 0                   |  0                  |   0                 |\n",
       "| 2020-02-24 18:00:00 | ITA                 |  4                  | P.A. Bolzano        | 46.49933            | 11.35662            |  0                  | 0                   |  0                  | 0                   |  0                  |  0                  | 0                   | 0                   |  0                  |   1                 |\n",
       "| 2020-02-24 18:00:00 | ITA                 | 18                  | Calabria            | 38.90598            | 16.59440            |  0                  | 0                   |  0                  | 0                   |  0                  |  0                  | 0                   | 0                   |  0                  |   1                 |\n",
       "| 2020-02-24 18:00:00 | ITA                 | 15                  | Campania            | 40.83957            | 14.25085            |  0                  | 0                   |  0                  | 0                   |  0                  |  0                  | 0                   | 0                   |  0                  |  10                 |\n",
       "| 2020-02-24 18:00:00 | ITA                 |  8                  | Emilia Romagna      | 44.49437            | 11.34172            | 10                  | 2                   | 12                  | 6                   | 18                  | 18                  | 0                   | 0                   | 18                  | 148                 |\n",
       "\n"
      ],
      "text/plain": [
       "  data                stato codice_regione denominazione_regione lat     \n",
       "1 2020-02-24 18:00:00 ITA   13             Abruzzo               42.35122\n",
       "2 2020-02-24 18:00:00 ITA   17             Basilicata            40.63947\n",
       "3 2020-02-24 18:00:00 ITA    4             P.A. Bolzano          46.49933\n",
       "4 2020-02-24 18:00:00 ITA   18             Calabria              38.90598\n",
       "5 2020-02-24 18:00:00 ITA   15             Campania              40.83957\n",
       "6 2020-02-24 18:00:00 ITA    8             Emilia Romagna        44.49437\n",
       "  long     ricoverati_con_sintomi terapia_intensiva totale_ospedalizzati\n",
       "1 13.39844  0                     0                  0                  \n",
       "2 15.80515  0                     0                  0                  \n",
       "3 11.35662  0                     0                  0                  \n",
       "4 16.59440  0                     0                  0                  \n",
       "5 14.25085  0                     0                  0                  \n",
       "6 11.34172 10                     2                 12                  \n",
       "  isolamento_domiciliare totale_attualmente_positivi nuovi_attualmente_positivi\n",
       "1 0                       0                           0                        \n",
       "2 0                       0                           0                        \n",
       "3 0                       0                           0                        \n",
       "4 0                       0                           0                        \n",
       "5 0                       0                           0                        \n",
       "6 6                      18                          18                        \n",
       "  dimessi_guariti deceduti totale_casi tamponi\n",
       "1 0               0         0            5    \n",
       "2 0               0         0            0    \n",
       "3 0               0         0            1    \n",
       "4 0               0         0            1    \n",
       "5 0               0         0           10    \n",
       "6 0               0        18          148    "
      ]
     },
     "metadata": {},
     "output_type": "display_data"
    }
   ],
   "source": [
    "head(y)"
   ]
  },
  {
   "cell_type": "markdown",
   "metadata": {},
   "source": [
    "Pre-processing dei dati:\n",
    "1) rimuovere colonne che non servono o ridondanti\n",
    "2) missing data non esistenti \n",
    "3) rimuovere orario dalle date"
   ]
  },
  {
   "cell_type": "code",
   "execution_count": 3,
   "metadata": {},
   "outputs": [],
   "source": [
    "y$stato <- NULL\n",
    "y$codice_regione <- NULL\n",
    "y$lat <- NULL\n",
    "y$long <- NULL\n",
    "y$data <- substr(y$data, 1, 10)\n",
    "y <- mutate(y, data= as.Date(data))"
   ]
  },
  {
   "cell_type": "code",
   "execution_count": 4,
   "metadata": {},
   "outputs": [
    {
     "data": {
      "text/html": [
       "<table>\n",
       "<thead><tr><th scope=col>data</th><th scope=col>denominazione_regione</th><th scope=col>ricoverati_con_sintomi</th><th scope=col>terapia_intensiva</th><th scope=col>totale_ospedalizzati</th><th scope=col>isolamento_domiciliare</th><th scope=col>totale_attualmente_positivi</th><th scope=col>nuovi_attualmente_positivi</th><th scope=col>dimessi_guariti</th><th scope=col>deceduti</th><th scope=col>totale_casi</th><th scope=col>tamponi</th></tr></thead>\n",
       "<tbody>\n",
       "\t<tr><td>2020-02-24    </td><td>Abruzzo       </td><td> 0            </td><td>0             </td><td> 0            </td><td>0             </td><td> 0            </td><td> 0            </td><td>0             </td><td>0             </td><td> 0            </td><td>  5           </td></tr>\n",
       "\t<tr><td>2020-02-24    </td><td>Basilicata    </td><td> 0            </td><td>0             </td><td> 0            </td><td>0             </td><td> 0            </td><td> 0            </td><td>0             </td><td>0             </td><td> 0            </td><td>  0           </td></tr>\n",
       "\t<tr><td>2020-02-24    </td><td>P.A. Bolzano  </td><td> 0            </td><td>0             </td><td> 0            </td><td>0             </td><td> 0            </td><td> 0            </td><td>0             </td><td>0             </td><td> 0            </td><td>  1           </td></tr>\n",
       "\t<tr><td>2020-02-24    </td><td>Calabria      </td><td> 0            </td><td>0             </td><td> 0            </td><td>0             </td><td> 0            </td><td> 0            </td><td>0             </td><td>0             </td><td> 0            </td><td>  1           </td></tr>\n",
       "\t<tr><td>2020-02-24    </td><td>Campania      </td><td> 0            </td><td>0             </td><td> 0            </td><td>0             </td><td> 0            </td><td> 0            </td><td>0             </td><td>0             </td><td> 0            </td><td> 10           </td></tr>\n",
       "\t<tr><td>2020-02-24    </td><td>Emilia Romagna</td><td>10            </td><td>2             </td><td>12            </td><td>6             </td><td>18            </td><td>18            </td><td>0             </td><td>0             </td><td>18            </td><td>148           </td></tr>\n",
       "</tbody>\n",
       "</table>\n"
      ],
      "text/latex": [
       "\\begin{tabular}{r|llllllllllll}\n",
       " data & denominazione\\_regione & ricoverati\\_con\\_sintomi & terapia\\_intensiva & totale\\_ospedalizzati & isolamento\\_domiciliare & totale\\_attualmente\\_positivi & nuovi\\_attualmente\\_positivi & dimessi\\_guariti & deceduti & totale\\_casi & tamponi\\\\\n",
       "\\hline\n",
       "\t 2020-02-24     & Abruzzo        &  0             & 0              &  0             & 0              &  0             &  0             & 0              & 0              &  0             &   5           \\\\\n",
       "\t 2020-02-24     & Basilicata     &  0             & 0              &  0             & 0              &  0             &  0             & 0              & 0              &  0             &   0           \\\\\n",
       "\t 2020-02-24     & P.A. Bolzano   &  0             & 0              &  0             & 0              &  0             &  0             & 0              & 0              &  0             &   1           \\\\\n",
       "\t 2020-02-24     & Calabria       &  0             & 0              &  0             & 0              &  0             &  0             & 0              & 0              &  0             &   1           \\\\\n",
       "\t 2020-02-24     & Campania       &  0             & 0              &  0             & 0              &  0             &  0             & 0              & 0              &  0             &  10           \\\\\n",
       "\t 2020-02-24     & Emilia Romagna & 10             & 2              & 12             & 6              & 18             & 18             & 0              & 0              & 18             & 148           \\\\\n",
       "\\end{tabular}\n"
      ],
      "text/markdown": [
       "\n",
       "| data | denominazione_regione | ricoverati_con_sintomi | terapia_intensiva | totale_ospedalizzati | isolamento_domiciliare | totale_attualmente_positivi | nuovi_attualmente_positivi | dimessi_guariti | deceduti | totale_casi | tamponi |\n",
       "|---|---|---|---|---|---|---|---|---|---|---|---|\n",
       "| 2020-02-24     | Abruzzo        |  0             | 0              |  0             | 0              |  0             |  0             | 0              | 0              |  0             |   5            |\n",
       "| 2020-02-24     | Basilicata     |  0             | 0              |  0             | 0              |  0             |  0             | 0              | 0              |  0             |   0            |\n",
       "| 2020-02-24     | P.A. Bolzano   |  0             | 0              |  0             | 0              |  0             |  0             | 0              | 0              |  0             |   1            |\n",
       "| 2020-02-24     | Calabria       |  0             | 0              |  0             | 0              |  0             |  0             | 0              | 0              |  0             |   1            |\n",
       "| 2020-02-24     | Campania       |  0             | 0              |  0             | 0              |  0             |  0             | 0              | 0              |  0             |  10            |\n",
       "| 2020-02-24     | Emilia Romagna | 10             | 2              | 12             | 6              | 18             | 18             | 0              | 0              | 18             | 148            |\n",
       "\n"
      ],
      "text/plain": [
       "  data       denominazione_regione ricoverati_con_sintomi terapia_intensiva\n",
       "1 2020-02-24 Abruzzo                0                     0                \n",
       "2 2020-02-24 Basilicata             0                     0                \n",
       "3 2020-02-24 P.A. Bolzano           0                     0                \n",
       "4 2020-02-24 Calabria               0                     0                \n",
       "5 2020-02-24 Campania               0                     0                \n",
       "6 2020-02-24 Emilia Romagna        10                     2                \n",
       "  totale_ospedalizzati isolamento_domiciliare totale_attualmente_positivi\n",
       "1  0                   0                       0                         \n",
       "2  0                   0                       0                         \n",
       "3  0                   0                       0                         \n",
       "4  0                   0                       0                         \n",
       "5  0                   0                       0                         \n",
       "6 12                   6                      18                         \n",
       "  nuovi_attualmente_positivi dimessi_guariti deceduti totale_casi tamponi\n",
       "1  0                         0               0         0            5    \n",
       "2  0                         0               0         0            0    \n",
       "3  0                         0               0         0            1    \n",
       "4  0                         0               0         0            1    \n",
       "5  0                         0               0         0           10    \n",
       "6 18                         0               0        18          148    "
      ]
     },
     "metadata": {},
     "output_type": "display_data"
    }
   ],
   "source": [
    "head(y)"
   ]
  },
  {
   "cell_type": "markdown",
   "metadata": {},
   "source": [
    "Andamento regione Puglia per quanto riguarda i positivi dall'inizio del contagio"
   ]
  },
  {
   "cell_type": "code",
   "execution_count": 5,
   "metadata": {},
   "outputs": [],
   "source": [
    "ypuglia <- y[y$denominazione_regione == 'Puglia', ] "
   ]
  },
  {
   "cell_type": "code",
   "execution_count": 6,
   "metadata": {},
   "outputs": [
    {
     "data": {
      "text/html": [
       "<table>\n",
       "<thead><tr><th></th><th scope=col>data</th><th scope=col>denominazione_regione</th><th scope=col>ricoverati_con_sintomi</th><th scope=col>terapia_intensiva</th><th scope=col>totale_ospedalizzati</th><th scope=col>isolamento_domiciliare</th><th scope=col>totale_attualmente_positivi</th><th scope=col>nuovi_attualmente_positivi</th><th scope=col>dimessi_guariti</th><th scope=col>deceduti</th><th scope=col>totale_casi</th><th scope=col>tamponi</th></tr></thead>\n",
       "<tbody>\n",
       "\t<tr><th scope=row>14</th><td>24/02 </td><td>Puglia</td><td>0     </td><td>0     </td><td>0     </td><td>0     </td><td>0     </td><td>0     </td><td>0     </td><td>0     </td><td>0     </td><td>  0   </td></tr>\n",
       "\t<tr><th scope=row>35</th><td>25/02 </td><td>Puglia</td><td>0     </td><td>0     </td><td>0     </td><td>0     </td><td>0     </td><td>0     </td><td>0     </td><td>0     </td><td>0     </td><td>  0   </td></tr>\n",
       "\t<tr><th scope=row>56</th><td>26/02 </td><td>Puglia</td><td>0     </td><td>0     </td><td>0     </td><td>0     </td><td>0     </td><td>0     </td><td>0     </td><td>0     </td><td>0     </td><td>  0   </td></tr>\n",
       "\t<tr><th scope=row>77</th><td>27/02 </td><td>Puglia</td><td>1     </td><td>0     </td><td>1     </td><td>0     </td><td>1     </td><td>1     </td><td>0     </td><td>0     </td><td>1     </td><td>  0   </td></tr>\n",
       "\t<tr><th scope=row>98</th><td>28/02 </td><td>Puglia</td><td>1     </td><td>0     </td><td>1     </td><td>2     </td><td>3     </td><td>2     </td><td>0     </td><td>0     </td><td>3     </td><td>242   </td></tr>\n",
       "\t<tr><th scope=row>119</th><td>29/02 </td><td>Puglia</td><td>1     </td><td>0     </td><td>1     </td><td>2     </td><td>3     </td><td>0     </td><td>0     </td><td>0     </td><td>3     </td><td>252   </td></tr>\n",
       "</tbody>\n",
       "</table>\n"
      ],
      "text/latex": [
       "\\begin{tabular}{r|llllllllllll}\n",
       "  & data & denominazione\\_regione & ricoverati\\_con\\_sintomi & terapia\\_intensiva & totale\\_ospedalizzati & isolamento\\_domiciliare & totale\\_attualmente\\_positivi & nuovi\\_attualmente\\_positivi & dimessi\\_guariti & deceduti & totale\\_casi & tamponi\\\\\n",
       "\\hline\n",
       "\t14 & 24/02  & Puglia & 0      & 0      & 0      & 0      & 0      & 0      & 0      & 0      & 0      &   0   \\\\\n",
       "\t35 & 25/02  & Puglia & 0      & 0      & 0      & 0      & 0      & 0      & 0      & 0      & 0      &   0   \\\\\n",
       "\t56 & 26/02  & Puglia & 0      & 0      & 0      & 0      & 0      & 0      & 0      & 0      & 0      &   0   \\\\\n",
       "\t77 & 27/02  & Puglia & 1      & 0      & 1      & 0      & 1      & 1      & 0      & 0      & 1      &   0   \\\\\n",
       "\t98 & 28/02  & Puglia & 1      & 0      & 1      & 2      & 3      & 2      & 0      & 0      & 3      & 242   \\\\\n",
       "\t119 & 29/02  & Puglia & 1      & 0      & 1      & 2      & 3      & 0      & 0      & 0      & 3      & 252   \\\\\n",
       "\\end{tabular}\n"
      ],
      "text/markdown": [
       "\n",
       "| <!--/--> | data | denominazione_regione | ricoverati_con_sintomi | terapia_intensiva | totale_ospedalizzati | isolamento_domiciliare | totale_attualmente_positivi | nuovi_attualmente_positivi | dimessi_guariti | deceduti | totale_casi | tamponi |\n",
       "|---|---|---|---|---|---|---|---|---|---|---|---|---|\n",
       "| 14 | 24/02  | Puglia | 0      | 0      | 0      | 0      | 0      | 0      | 0      | 0      | 0      |   0    |\n",
       "| 35 | 25/02  | Puglia | 0      | 0      | 0      | 0      | 0      | 0      | 0      | 0      | 0      |   0    |\n",
       "| 56 | 26/02  | Puglia | 0      | 0      | 0      | 0      | 0      | 0      | 0      | 0      | 0      |   0    |\n",
       "| 77 | 27/02  | Puglia | 1      | 0      | 1      | 0      | 1      | 1      | 0      | 0      | 1      |   0    |\n",
       "| 98 | 28/02  | Puglia | 1      | 0      | 1      | 2      | 3      | 2      | 0      | 0      | 3      | 242    |\n",
       "| 119 | 29/02  | Puglia | 1      | 0      | 1      | 2      | 3      | 0      | 0      | 0      | 3      | 252    |\n",
       "\n"
      ],
      "text/plain": [
       "    data  denominazione_regione ricoverati_con_sintomi terapia_intensiva\n",
       "14  24/02 Puglia                0                      0                \n",
       "35  25/02 Puglia                0                      0                \n",
       "56  26/02 Puglia                0                      0                \n",
       "77  27/02 Puglia                1                      0                \n",
       "98  28/02 Puglia                1                      0                \n",
       "119 29/02 Puglia                1                      0                \n",
       "    totale_ospedalizzati isolamento_domiciliare totale_attualmente_positivi\n",
       "14  0                    0                      0                          \n",
       "35  0                    0                      0                          \n",
       "56  0                    0                      0                          \n",
       "77  1                    0                      1                          \n",
       "98  1                    2                      3                          \n",
       "119 1                    2                      3                          \n",
       "    nuovi_attualmente_positivi dimessi_guariti deceduti totale_casi tamponi\n",
       "14  0                          0               0        0             0    \n",
       "35  0                          0               0        0             0    \n",
       "56  0                          0               0        0             0    \n",
       "77  1                          0               0        1             0    \n",
       "98  2                          0               0        3           242    \n",
       "119 0                          0               0        3           252    "
      ]
     },
     "metadata": {},
     "output_type": "display_data"
    }
   ],
   "source": [
    "## Sort by date\n",
    "ypuglia = ypuglia[order(as.Date(ypuglia$data)),]\n",
    "ypuglia$data <- format(as.Date(ypuglia$data), \"%d/%m\")\n",
    "head(ypuglia)"
   ]
  },
  {
   "cell_type": "markdown",
   "metadata": {},
   "source": [
    "## Andamento ospedalizzati"
   ]
  },
  {
   "cell_type": "code",
   "execution_count": 7,
   "metadata": {},
   "outputs": [
    {
     "data": {
      "text/html": [
       "<strong>png:</strong> 2"
      ],
      "text/latex": [
       "\\textbf{png:} 2"
      ],
      "text/markdown": [
       "**png:** 2"
      ],
      "text/plain": [
       "png \n",
       "  2 "
      ]
     },
     "metadata": {},
     "output_type": "display_data"
    }
   ],
   "source": [
    "# Stacked Bar Plot with Colors and Legend\n",
    "#data_selected <- t(as.matrix(subset(ypuglia, select=c(\"data\", \"totale_ospedalizzati\", \"isolamento_domiciliare\"))))\n",
    "#barplot(ypuglia$totale_ospedalizzati)\n",
    "\n",
    "# Give the chart file a name\n",
    "png(file = \"ospedalizzati_puglia.png\")\n",
    "\n",
    "# Plot the bar chart \n",
    "barplot(ypuglia$totale_ospedalizzati,names.arg=ypuglia$data,xlab=\"Data\",ylab=\"Tot ospedalizzati\",col=\"blue\",\n",
    "main=\"Andamento ospedalizzati in Puglia\",border=\"red\",ylim=range(pretty(c(0, ypuglia$totale_ospedalizzati))))\n",
    "\n",
    "# Save the file\n",
    "dev.off()"
   ]
  },
  {
   "cell_type": "markdown",
   "metadata": {},
   "source": [
    "## Andamento con distribuzione tra ospedalizzati e isolamento domiciliare"
   ]
  },
  {
   "cell_type": "code",
   "execution_count": 8,
   "metadata": {},
   "outputs": [
    {
     "data": {
      "text/html": [
       "<strong>png:</strong> 2"
      ],
      "text/latex": [
       "\\textbf{png:} 2"
      ],
      "text/markdown": [
       "**png:** 2"
      ],
      "text/plain": [
       "png \n",
       "  2 "
      ]
     },
     "metadata": {},
     "output_type": "display_data"
    }
   ],
   "source": [
    "# Create the input vectors.\n",
    "colors = c(\"red\",\"blue\")\n",
    "dates <- c(ypuglia$data)\n",
    "regions <- c(\"Tot in ospedale\",\"Isolamento domiciliare\")\n",
    "\n",
    "# Create the matrix of the values.\n",
    "Values <- matrix(c(ypuglia$totale_ospedalizzati,ypuglia$isolamento_domiciliare), nrow = 2, ncol = length(dates), byrow = TRUE)\n",
    "#Values <- t(as.matrix(subset(ypuglia, select=c(\"data\", \"totale_ospedalizzati\", \"isolamento_domiciliare\"))))\n",
    "\n",
    "# Give the chart file a name\n",
    "png(file = \"Distrib_isolamento_ospedale.png\")\n",
    "\n",
    "# Create the bar chart\n",
    "barplot(Values, main = \"Distribuzione tra isolamento e ospedalizzati in Puglia\", names.arg = dates, xlab = \"Data\", ylab = \"Totale positivi\", col = colors)\n",
    "\n",
    "# Add the legend to the chart\n",
    "legend(\"topleft\", regions, cex = 1.3, fill = colors)\n",
    "\n",
    "# Save the file\n",
    "dev.off()"
   ]
  },
  {
   "cell_type": "markdown",
   "metadata": {},
   "source": [
    "## Andamento con animazione della Nazione"
   ]
  },
  {
   "cell_type": "code",
   "execution_count": 9,
   "metadata": {},
   "outputs": [
    {
     "data": {
      "text/html": [
       "<table>\n",
       "<thead><tr><th scope=col>data</th><th scope=col>denominazione_regione</th><th scope=col>ricoverati_con_sintomi</th><th scope=col>terapia_intensiva</th><th scope=col>totale_ospedalizzati</th><th scope=col>isolamento_domiciliare</th><th scope=col>totale_attualmente_positivi</th><th scope=col>nuovi_attualmente_positivi</th><th scope=col>dimessi_guariti</th><th scope=col>deceduti</th><th scope=col>totale_casi</th><th scope=col>tamponi</th></tr></thead>\n",
       "<tbody>\n",
       "\t<tr><td>2020-02-24    </td><td>Abruzzo       </td><td> 0            </td><td>0             </td><td> 0            </td><td>0             </td><td> 0            </td><td> 0            </td><td>0             </td><td>0             </td><td> 0            </td><td>  5           </td></tr>\n",
       "\t<tr><td>2020-02-24    </td><td>Basilicata    </td><td> 0            </td><td>0             </td><td> 0            </td><td>0             </td><td> 0            </td><td> 0            </td><td>0             </td><td>0             </td><td> 0            </td><td>  0           </td></tr>\n",
       "\t<tr><td>2020-02-24    </td><td>P.A. Bolzano  </td><td> 0            </td><td>0             </td><td> 0            </td><td>0             </td><td> 0            </td><td> 0            </td><td>0             </td><td>0             </td><td> 0            </td><td>  1           </td></tr>\n",
       "\t<tr><td>2020-02-24    </td><td>Calabria      </td><td> 0            </td><td>0             </td><td> 0            </td><td>0             </td><td> 0            </td><td> 0            </td><td>0             </td><td>0             </td><td> 0            </td><td>  1           </td></tr>\n",
       "\t<tr><td>2020-02-24    </td><td>Campania      </td><td> 0            </td><td>0             </td><td> 0            </td><td>0             </td><td> 0            </td><td> 0            </td><td>0             </td><td>0             </td><td> 0            </td><td> 10           </td></tr>\n",
       "\t<tr><td>2020-02-24    </td><td>Emilia Romagna</td><td>10            </td><td>2             </td><td>12            </td><td>6             </td><td>18            </td><td>18            </td><td>0             </td><td>0             </td><td>18            </td><td>148           </td></tr>\n",
       "</tbody>\n",
       "</table>\n"
      ],
      "text/latex": [
       "\\begin{tabular}{r|llllllllllll}\n",
       " data & denominazione\\_regione & ricoverati\\_con\\_sintomi & terapia\\_intensiva & totale\\_ospedalizzati & isolamento\\_domiciliare & totale\\_attualmente\\_positivi & nuovi\\_attualmente\\_positivi & dimessi\\_guariti & deceduti & totale\\_casi & tamponi\\\\\n",
       "\\hline\n",
       "\t 2020-02-24     & Abruzzo        &  0             & 0              &  0             & 0              &  0             &  0             & 0              & 0              &  0             &   5           \\\\\n",
       "\t 2020-02-24     & Basilicata     &  0             & 0              &  0             & 0              &  0             &  0             & 0              & 0              &  0             &   0           \\\\\n",
       "\t 2020-02-24     & P.A. Bolzano   &  0             & 0              &  0             & 0              &  0             &  0             & 0              & 0              &  0             &   1           \\\\\n",
       "\t 2020-02-24     & Calabria       &  0             & 0              &  0             & 0              &  0             &  0             & 0              & 0              &  0             &   1           \\\\\n",
       "\t 2020-02-24     & Campania       &  0             & 0              &  0             & 0              &  0             &  0             & 0              & 0              &  0             &  10           \\\\\n",
       "\t 2020-02-24     & Emilia Romagna & 10             & 2              & 12             & 6              & 18             & 18             & 0              & 0              & 18             & 148           \\\\\n",
       "\\end{tabular}\n"
      ],
      "text/markdown": [
       "\n",
       "| data | denominazione_regione | ricoverati_con_sintomi | terapia_intensiva | totale_ospedalizzati | isolamento_domiciliare | totale_attualmente_positivi | nuovi_attualmente_positivi | dimessi_guariti | deceduti | totale_casi | tamponi |\n",
       "|---|---|---|---|---|---|---|---|---|---|---|---|\n",
       "| 2020-02-24     | Abruzzo        |  0             | 0              |  0             | 0              |  0             |  0             | 0              | 0              |  0             |   5            |\n",
       "| 2020-02-24     | Basilicata     |  0             | 0              |  0             | 0              |  0             |  0             | 0              | 0              |  0             |   0            |\n",
       "| 2020-02-24     | P.A. Bolzano   |  0             | 0              |  0             | 0              |  0             |  0             | 0              | 0              |  0             |   1            |\n",
       "| 2020-02-24     | Calabria       |  0             | 0              |  0             | 0              |  0             |  0             | 0              | 0              |  0             |   1            |\n",
       "| 2020-02-24     | Campania       |  0             | 0              |  0             | 0              |  0             |  0             | 0              | 0              |  0             |  10            |\n",
       "| 2020-02-24     | Emilia Romagna | 10             | 2              | 12             | 6              | 18             | 18             | 0              | 0              | 18             | 148            |\n",
       "\n"
      ],
      "text/plain": [
       "  data       denominazione_regione ricoverati_con_sintomi terapia_intensiva\n",
       "1 2020-02-24 Abruzzo                0                     0                \n",
       "2 2020-02-24 Basilicata             0                     0                \n",
       "3 2020-02-24 P.A. Bolzano           0                     0                \n",
       "4 2020-02-24 Calabria               0                     0                \n",
       "5 2020-02-24 Campania               0                     0                \n",
       "6 2020-02-24 Emilia Romagna        10                     2                \n",
       "  totale_ospedalizzati isolamento_domiciliare totale_attualmente_positivi\n",
       "1  0                   0                       0                         \n",
       "2  0                   0                       0                         \n",
       "3  0                   0                       0                         \n",
       "4  0                   0                       0                         \n",
       "5  0                   0                       0                         \n",
       "6 12                   6                      18                         \n",
       "  nuovi_attualmente_positivi dimessi_guariti deceduti totale_casi tamponi\n",
       "1  0                         0               0         0            5    \n",
       "2  0                         0               0         0            0    \n",
       "3  0                         0               0         0            1    \n",
       "4  0                         0               0         0            1    \n",
       "5  0                         0               0         0           10    \n",
       "6 18                         0               0        18          148    "
      ]
     },
     "metadata": {},
     "output_type": "display_data"
    }
   ],
   "source": [
    "## Sort by date\n",
    "y = y[order(as.Date(y$data)),]\n",
    "#y$data <- format(as.Date(y$data), \"%d/%m\")\n",
    "head(y)"
   ]
  },
  {
   "cell_type": "code",
   "execution_count": 10,
   "metadata": {
    "scrolled": true
   },
   "outputs": [
    {
     "name": "stderr",
     "output_type": "stream",
     "text": [
      "Warning message:\n",
      "\"package 'gganimate' was built under R version 3.6.3\"Warning message:\n",
      "\"package 'hrbrthemes' was built under R version 3.6.3\"Warning message:\n",
      "\"package 'viridis' was built under R version 3.6.3\"Loading required package: viridisLite\n",
      "Warning message:\n",
      "\"package 'viridisLite' was built under R version 3.6.3\"Warning message:\n",
      "\"package 'extrafont' was built under R version 3.6.2\"Registering fonts with R\n"
     ]
    }
   ],
   "source": [
    "# libraries:\n",
    "library(ggplot2)\n",
    "library(gganimate)\n",
    "library(hrbrthemes)\n",
    "library(viridis)\n",
    "library(extrafont)\n",
    "\n",
    "# Keep only 3 provinces\n",
    "y_filtered <- y %>% \n",
    "  filter(denominazione_regione %in% c(\"Lombardia\", \"Veneto\", \"Puglia\"))\n",
    "\n",
    "# Plot\n",
    "y_filtered %>%\n",
    "  ggplot( aes(x=data, y=totale_attualmente_positivi, group=denominazione_regione, color=denominazione_regione)) +\n",
    "    geom_line() +\n",
    "    geom_point() +\n",
    "    scale_color_viridis(discrete = TRUE) +\n",
    "    ggtitle(\"Totale attualmente positivi in alcune regioni\") +\n",
    "    theme_dark() +\n",
    "    ylab(\"Totale positivi\") +\n",
    "    transition_reveal(data, range = seq(as.Date(\"2020-02-24\"), by = \"month\", length.out = 30))\n",
    "\n",
    "# Save at gif:\n",
    "anim_save(\"andamento contagiati.gif\")"
   ]
  },
  {
   "cell_type": "markdown",
   "metadata": {},
   "source": [
    "# Studio su dati province "
   ]
  },
  {
   "cell_type": "code",
   "execution_count": 11,
   "metadata": {
    "scrolled": true
   },
   "outputs": [],
   "source": [
    "library(RCurl)\n",
    "library(dplyr)\n",
    "library(magrittr)\n",
    "xprov <- getURL(\"https://raw.githubusercontent.com/pcm-dpc/COVID-19/master/dati-province/dpc-covid19-ita-province.csv\")\n",
    "yprov <- read.csv(text = xprov, stringsAsFactors = FALSE)"
   ]
  },
  {
   "cell_type": "code",
   "execution_count": 12,
   "metadata": {},
   "outputs": [
    {
     "data": {
      "text/html": [
       "<table>\n",
       "<thead><tr><th scope=col>data</th><th scope=col>stato</th><th scope=col>codice_regione</th><th scope=col>denominazione_regione</th><th scope=col>codice_provincia</th><th scope=col>denominazione_provincia</th><th scope=col>sigla_provincia</th><th scope=col>lat</th><th scope=col>long</th><th scope=col>totale_casi</th></tr></thead>\n",
       "<tbody>\n",
       "\t<tr><td>2020-02-24 18:00:00                 </td><td>ITA                                 </td><td>13                                  </td><td>Abruzzo                             </td><td> 69                                 </td><td>Chieti                              </td><td>CH                                  </td><td>42.35103                            </td><td>14.16755                            </td><td>0                                   </td></tr>\n",
       "\t<tr><td>2020-02-24 18:00:00                 </td><td>ITA                                 </td><td>13                                  </td><td>Abruzzo                             </td><td> 66                                 </td><td>L'Aquila                            </td><td>AQ                                  </td><td>42.35122                            </td><td>13.39844                            </td><td>0                                   </td></tr>\n",
       "\t<tr><td>2020-02-24 18:00:00                 </td><td>ITA                                 </td><td>13                                  </td><td>Abruzzo                             </td><td> 68                                 </td><td>Pescara                             </td><td>PE                                  </td><td>42.46458                            </td><td>14.21365                            </td><td>0                                   </td></tr>\n",
       "\t<tr><td>2020-02-24 18:00:00                 </td><td>ITA                                 </td><td>13                                  </td><td>Abruzzo                             </td><td> 67                                 </td><td>Teramo                              </td><td>TE                                  </td><td>42.65892                            </td><td>13.70440                            </td><td>0                                   </td></tr>\n",
       "\t<tr><td>2020-02-24 18:00:00                 </td><td>ITA                                 </td><td>13                                  </td><td>Abruzzo                             </td><td>979                                 </td><td>In fase di definizione/aggiornamento</td><td>                                    </td><td> 0.00000                            </td><td> 0.00000                            </td><td>0                                   </td></tr>\n",
       "\t<tr><td>2020-02-24 18:00:00                 </td><td>ITA                                 </td><td>17                                  </td><td>Basilicata                          </td><td> 77                                 </td><td>Matera                              </td><td>MT                                  </td><td>40.66751                            </td><td>16.59792                            </td><td>0                                   </td></tr>\n",
       "</tbody>\n",
       "</table>\n"
      ],
      "text/latex": [
       "\\begin{tabular}{r|llllllllll}\n",
       " data & stato & codice\\_regione & denominazione\\_regione & codice\\_provincia & denominazione\\_provincia & sigla\\_provincia & lat & long & totale\\_casi\\\\\n",
       "\\hline\n",
       "\t 2020-02-24 18:00:00                  & ITA                                  & 13                                   & Abruzzo                              &  69                                  & Chieti                               & CH                                   & 42.35103                             & 14.16755                             & 0                                   \\\\\n",
       "\t 2020-02-24 18:00:00                  & ITA                                  & 13                                   & Abruzzo                              &  66                                  & L'Aquila                             & AQ                                   & 42.35122                             & 13.39844                             & 0                                   \\\\\n",
       "\t 2020-02-24 18:00:00                  & ITA                                  & 13                                   & Abruzzo                              &  68                                  & Pescara                              & PE                                   & 42.46458                             & 14.21365                             & 0                                   \\\\\n",
       "\t 2020-02-24 18:00:00                  & ITA                                  & 13                                   & Abruzzo                              &  67                                  & Teramo                               & TE                                   & 42.65892                             & 13.70440                             & 0                                   \\\\\n",
       "\t 2020-02-24 18:00:00                  & ITA                                  & 13                                   & Abruzzo                              & 979                                  & In fase di definizione/aggiornamento &                                      &  0.00000                             &  0.00000                             & 0                                   \\\\\n",
       "\t 2020-02-24 18:00:00                  & ITA                                  & 17                                   & Basilicata                           &  77                                  & Matera                               & MT                                   & 40.66751                             & 16.59792                             & 0                                   \\\\\n",
       "\\end{tabular}\n"
      ],
      "text/markdown": [
       "\n",
       "| data | stato | codice_regione | denominazione_regione | codice_provincia | denominazione_provincia | sigla_provincia | lat | long | totale_casi |\n",
       "|---|---|---|---|---|---|---|---|---|---|\n",
       "| 2020-02-24 18:00:00                  | ITA                                  | 13                                   | Abruzzo                              |  69                                  | Chieti                               | CH                                   | 42.35103                             | 14.16755                             | 0                                    |\n",
       "| 2020-02-24 18:00:00                  | ITA                                  | 13                                   | Abruzzo                              |  66                                  | L'Aquila                             | AQ                                   | 42.35122                             | 13.39844                             | 0                                    |\n",
       "| 2020-02-24 18:00:00                  | ITA                                  | 13                                   | Abruzzo                              |  68                                  | Pescara                              | PE                                   | 42.46458                             | 14.21365                             | 0                                    |\n",
       "| 2020-02-24 18:00:00                  | ITA                                  | 13                                   | Abruzzo                              |  67                                  | Teramo                               | TE                                   | 42.65892                             | 13.70440                             | 0                                    |\n",
       "| 2020-02-24 18:00:00                  | ITA                                  | 13                                   | Abruzzo                              | 979                                  | In fase di definizione/aggiornamento |                                      |  0.00000                             |  0.00000                             | 0                                    |\n",
       "| 2020-02-24 18:00:00                  | ITA                                  | 17                                   | Basilicata                           |  77                                  | Matera                               | MT                                   | 40.66751                             | 16.59792                             | 0                                    |\n",
       "\n"
      ],
      "text/plain": [
       "  data                stato codice_regione denominazione_regione\n",
       "1 2020-02-24 18:00:00 ITA   13             Abruzzo              \n",
       "2 2020-02-24 18:00:00 ITA   13             Abruzzo              \n",
       "3 2020-02-24 18:00:00 ITA   13             Abruzzo              \n",
       "4 2020-02-24 18:00:00 ITA   13             Abruzzo              \n",
       "5 2020-02-24 18:00:00 ITA   13             Abruzzo              \n",
       "6 2020-02-24 18:00:00 ITA   17             Basilicata           \n",
       "  codice_provincia denominazione_provincia              sigla_provincia\n",
       "1  69              Chieti                               CH             \n",
       "2  66              L'Aquila                             AQ             \n",
       "3  68              Pescara                              PE             \n",
       "4  67              Teramo                               TE             \n",
       "5 979              In fase di definizione/aggiornamento                \n",
       "6  77              Matera                               MT             \n",
       "  lat      long     totale_casi\n",
       "1 42.35103 14.16755 0          \n",
       "2 42.35122 13.39844 0          \n",
       "3 42.46458 14.21365 0          \n",
       "4 42.65892 13.70440 0          \n",
       "5  0.00000  0.00000 0          \n",
       "6 40.66751 16.59792 0          "
      ]
     },
     "metadata": {},
     "output_type": "display_data"
    }
   ],
   "source": [
    "head(yprov)"
   ]
  },
  {
   "cell_type": "markdown",
   "metadata": {},
   "source": [
    "Pre-processing dei dati:\n",
    "1) rimuovere colonne che non servono o ridondanti\n",
    "2) missing data non esistenti \n",
    "3) rimuovere orario dalle date"
   ]
  },
  {
   "cell_type": "code",
   "execution_count": 13,
   "metadata": {},
   "outputs": [],
   "source": [
    "yprov$stato <- NULL\n",
    "yprov$codice_provincia <- NULL\n",
    "yprov$sigla_provincia <- NULL\n",
    "yprov$lat <- NULL\n",
    "yprov$long <- NULL\n",
    "yprov$data <- substr(yprov$data, 1, 10)\n",
    "yprov <- mutate(yprov, data= as.Date(data))"
   ]
  },
  {
   "cell_type": "code",
   "execution_count": 14,
   "metadata": {},
   "outputs": [
    {
     "data": {
      "text/html": [
       "<table>\n",
       "<thead><tr><th scope=col>data</th><th scope=col>codice_regione</th><th scope=col>denominazione_regione</th><th scope=col>denominazione_provincia</th><th scope=col>totale_casi</th></tr></thead>\n",
       "<tbody>\n",
       "\t<tr><td>2020-02-24                          </td><td>13                                  </td><td>Abruzzo                             </td><td>Chieti                              </td><td>0                                   </td></tr>\n",
       "\t<tr><td>2020-02-24                          </td><td>13                                  </td><td>Abruzzo                             </td><td>L'Aquila                            </td><td>0                                   </td></tr>\n",
       "\t<tr><td>2020-02-24                          </td><td>13                                  </td><td>Abruzzo                             </td><td>Pescara                             </td><td>0                                   </td></tr>\n",
       "\t<tr><td>2020-02-24                          </td><td>13                                  </td><td>Abruzzo                             </td><td>Teramo                              </td><td>0                                   </td></tr>\n",
       "\t<tr><td>2020-02-24                          </td><td>13                                  </td><td>Abruzzo                             </td><td>In fase di definizione/aggiornamento</td><td>0                                   </td></tr>\n",
       "\t<tr><td>2020-02-24                          </td><td>17                                  </td><td>Basilicata                          </td><td>Matera                              </td><td>0                                   </td></tr>\n",
       "</tbody>\n",
       "</table>\n"
      ],
      "text/latex": [
       "\\begin{tabular}{r|lllll}\n",
       " data & codice\\_regione & denominazione\\_regione & denominazione\\_provincia & totale\\_casi\\\\\n",
       "\\hline\n",
       "\t 2020-02-24                           & 13                                   & Abruzzo                              & Chieti                               & 0                                   \\\\\n",
       "\t 2020-02-24                           & 13                                   & Abruzzo                              & L'Aquila                             & 0                                   \\\\\n",
       "\t 2020-02-24                           & 13                                   & Abruzzo                              & Pescara                              & 0                                   \\\\\n",
       "\t 2020-02-24                           & 13                                   & Abruzzo                              & Teramo                               & 0                                   \\\\\n",
       "\t 2020-02-24                           & 13                                   & Abruzzo                              & In fase di definizione/aggiornamento & 0                                   \\\\\n",
       "\t 2020-02-24                           & 17                                   & Basilicata                           & Matera                               & 0                                   \\\\\n",
       "\\end{tabular}\n"
      ],
      "text/markdown": [
       "\n",
       "| data | codice_regione | denominazione_regione | denominazione_provincia | totale_casi |\n",
       "|---|---|---|---|---|\n",
       "| 2020-02-24                           | 13                                   | Abruzzo                              | Chieti                               | 0                                    |\n",
       "| 2020-02-24                           | 13                                   | Abruzzo                              | L'Aquila                             | 0                                    |\n",
       "| 2020-02-24                           | 13                                   | Abruzzo                              | Pescara                              | 0                                    |\n",
       "| 2020-02-24                           | 13                                   | Abruzzo                              | Teramo                               | 0                                    |\n",
       "| 2020-02-24                           | 13                                   | Abruzzo                              | In fase di definizione/aggiornamento | 0                                    |\n",
       "| 2020-02-24                           | 17                                   | Basilicata                           | Matera                               | 0                                    |\n",
       "\n"
      ],
      "text/plain": [
       "  data       codice_regione denominazione_regione\n",
       "1 2020-02-24 13             Abruzzo              \n",
       "2 2020-02-24 13             Abruzzo              \n",
       "3 2020-02-24 13             Abruzzo              \n",
       "4 2020-02-24 13             Abruzzo              \n",
       "5 2020-02-24 13             Abruzzo              \n",
       "6 2020-02-24 17             Basilicata           \n",
       "  denominazione_provincia              totale_casi\n",
       "1 Chieti                               0          \n",
       "2 L'Aquila                             0          \n",
       "3 Pescara                              0          \n",
       "4 Teramo                               0          \n",
       "5 In fase di definizione/aggiornamento 0          \n",
       "6 Matera                               0          "
      ]
     },
     "metadata": {},
     "output_type": "display_data"
    }
   ],
   "source": [
    "head(yprov)"
   ]
  },
  {
   "cell_type": "markdown",
   "metadata": {},
   "source": [
    "Andamento regione a scelta per quanto riguarda i positivi dall'inizio del contagio"
   ]
  },
  {
   "cell_type": "code",
   "execution_count": 15,
   "metadata": {},
   "outputs": [
    {
     "data": {
      "text/html": [
       "<table>\n",
       "<thead><tr><th></th><th scope=col>data</th><th scope=col>codice_regione</th><th scope=col>denominazione_regione</th><th scope=col>denominazione_provincia</th><th scope=col>totale_casi</th></tr></thead>\n",
       "<tbody>\n",
       "\t<tr><th scope=row>80</th><td>24/02                               </td><td>16                                  </td><td>Puglia                              </td><td>Bari                                </td><td>0                                   </td></tr>\n",
       "\t<tr><th scope=row>81</th><td>24/02                               </td><td>16                                  </td><td>Puglia                              </td><td>Barletta-Andria-Trani               </td><td>0                                   </td></tr>\n",
       "\t<tr><th scope=row>82</th><td>24/02                               </td><td>16                                  </td><td>Puglia                              </td><td>Brindisi                            </td><td>0                                   </td></tr>\n",
       "\t<tr><th scope=row>83</th><td>24/02                               </td><td>16                                  </td><td>Puglia                              </td><td>Foggia                              </td><td>0                                   </td></tr>\n",
       "\t<tr><th scope=row>86</th><td>24/02                               </td><td>16                                  </td><td>Puglia                              </td><td>In fase di definizione/aggiornamento</td><td>0                                   </td></tr>\n",
       "\t<tr><th scope=row>84</th><td>24/02                               </td><td>16                                  </td><td>Puglia                              </td><td>Lecce                               </td><td>0                                   </td></tr>\n",
       "</tbody>\n",
       "</table>\n"
      ],
      "text/latex": [
       "\\begin{tabular}{r|lllll}\n",
       "  & data & codice\\_regione & denominazione\\_regione & denominazione\\_provincia & totale\\_casi\\\\\n",
       "\\hline\n",
       "\t80 & 24/02                                & 16                                   & Puglia                               & Bari                                 & 0                                   \\\\\n",
       "\t81 & 24/02                                & 16                                   & Puglia                               & Barletta-Andria-Trani                & 0                                   \\\\\n",
       "\t82 & 24/02                                & 16                                   & Puglia                               & Brindisi                             & 0                                   \\\\\n",
       "\t83 & 24/02                                & 16                                   & Puglia                               & Foggia                               & 0                                   \\\\\n",
       "\t86 & 24/02                                & 16                                   & Puglia                               & In fase di definizione/aggiornamento & 0                                   \\\\\n",
       "\t84 & 24/02                                & 16                                   & Puglia                               & Lecce                                & 0                                   \\\\\n",
       "\\end{tabular}\n"
      ],
      "text/markdown": [
       "\n",
       "| <!--/--> | data | codice_regione | denominazione_regione | denominazione_provincia | totale_casi |\n",
       "|---|---|---|---|---|---|\n",
       "| 80 | 24/02                                | 16                                   | Puglia                               | Bari                                 | 0                                    |\n",
       "| 81 | 24/02                                | 16                                   | Puglia                               | Barletta-Andria-Trani                | 0                                    |\n",
       "| 82 | 24/02                                | 16                                   | Puglia                               | Brindisi                             | 0                                    |\n",
       "| 83 | 24/02                                | 16                                   | Puglia                               | Foggia                               | 0                                    |\n",
       "| 86 | 24/02                                | 16                                   | Puglia                               | In fase di definizione/aggiornamento | 0                                    |\n",
       "| 84 | 24/02                                | 16                                   | Puglia                               | Lecce                                | 0                                    |\n",
       "\n"
      ],
      "text/plain": [
       "   data  codice_regione denominazione_regione\n",
       "80 24/02 16             Puglia               \n",
       "81 24/02 16             Puglia               \n",
       "82 24/02 16             Puglia               \n",
       "83 24/02 16             Puglia               \n",
       "86 24/02 16             Puglia               \n",
       "84 24/02 16             Puglia               \n",
       "   denominazione_provincia              totale_casi\n",
       "80 Bari                                 0          \n",
       "81 Barletta-Andria-Trani                0          \n",
       "82 Brindisi                             0          \n",
       "83 Foggia                               0          \n",
       "86 In fase di definizione/aggiornamento 0          \n",
       "84 Lecce                                0          "
      ]
     },
     "metadata": {},
     "output_type": "display_data"
    }
   ],
   "source": [
    "regione <- 'Puglia'\n",
    "yprov <- yprov[yprov$denominazione_regione == regione, ] \n",
    "## Sort by date\n",
    "yprov_datashort = yprov[order(as.Date(yprov$data), yprov$denominazione_provincia),]\n",
    "yprov_datashort$data <- format(as.Date(yprov$data), \"%d/%m\")\n",
    "head(yprov_datashort)"
   ]
  },
  {
   "cell_type": "code",
   "execution_count": 16,
   "metadata": {},
   "outputs": [
    {
     "data": {
      "text/html": [
       "<table>\n",
       "<thead><tr><th></th><th scope=col>data</th><th scope=col>codice_regione</th><th scope=col>denominazione_regione</th><th scope=col>denominazione_provincia</th><th scope=col>totale_casi</th></tr></thead>\n",
       "<tbody>\n",
       "\t<tr><th scope=row>83</th><td>24/02 </td><td>16    </td><td>Puglia</td><td>Foggia</td><td>0     </td></tr>\n",
       "\t<tr><th scope=row>211</th><td>25/02 </td><td>16    </td><td>Puglia</td><td>Foggia</td><td>0     </td></tr>\n",
       "\t<tr><th scope=row>339</th><td>26/02 </td><td>16    </td><td>Puglia</td><td>Foggia</td><td>0     </td></tr>\n",
       "\t<tr><th scope=row>467</th><td>27/02 </td><td>16    </td><td>Puglia</td><td>Foggia</td><td>0     </td></tr>\n",
       "\t<tr><th scope=row>595</th><td>28/02 </td><td>16    </td><td>Puglia</td><td>Foggia</td><td>0     </td></tr>\n",
       "\t<tr><th scope=row>723</th><td>29/02 </td><td>16    </td><td>Puglia</td><td>Foggia</td><td>0     </td></tr>\n",
       "</tbody>\n",
       "</table>\n"
      ],
      "text/latex": [
       "\\begin{tabular}{r|lllll}\n",
       "  & data & codice\\_regione & denominazione\\_regione & denominazione\\_provincia & totale\\_casi\\\\\n",
       "\\hline\n",
       "\t83 & 24/02  & 16     & Puglia & Foggia & 0     \\\\\n",
       "\t211 & 25/02  & 16     & Puglia & Foggia & 0     \\\\\n",
       "\t339 & 26/02  & 16     & Puglia & Foggia & 0     \\\\\n",
       "\t467 & 27/02  & 16     & Puglia & Foggia & 0     \\\\\n",
       "\t595 & 28/02  & 16     & Puglia & Foggia & 0     \\\\\n",
       "\t723 & 29/02  & 16     & Puglia & Foggia & 0     \\\\\n",
       "\\end{tabular}\n"
      ],
      "text/markdown": [
       "\n",
       "| <!--/--> | data | codice_regione | denominazione_regione | denominazione_provincia | totale_casi |\n",
       "|---|---|---|---|---|---|\n",
       "| 83 | 24/02  | 16     | Puglia | Foggia | 0      |\n",
       "| 211 | 25/02  | 16     | Puglia | Foggia | 0      |\n",
       "| 339 | 26/02  | 16     | Puglia | Foggia | 0      |\n",
       "| 467 | 27/02  | 16     | Puglia | Foggia | 0      |\n",
       "| 595 | 28/02  | 16     | Puglia | Foggia | 0      |\n",
       "| 723 | 29/02  | 16     | Puglia | Foggia | 0      |\n",
       "\n"
      ],
      "text/plain": [
       "    data  codice_regione denominazione_regione denominazione_provincia\n",
       "83  24/02 16             Puglia                Foggia                 \n",
       "211 25/02 16             Puglia                Foggia                 \n",
       "339 26/02 16             Puglia                Foggia                 \n",
       "467 27/02 16             Puglia                Foggia                 \n",
       "595 28/02 16             Puglia                Foggia                 \n",
       "723 29/02 16             Puglia                Foggia                 \n",
       "    totale_casi\n",
       "83  0          \n",
       "211 0          \n",
       "339 0          \n",
       "467 0          \n",
       "595 0          \n",
       "723 0          "
      ]
     },
     "metadata": {},
     "output_type": "display_data"
    }
   ],
   "source": [
    "provincia <- 'Foggia'\n",
    "yprov_filtered <- yprov_datashort[yprov_datashort$denominazione_provincia == provincia, ]\n",
    "head(yprov_filtered)"
   ]
  },
  {
   "cell_type": "markdown",
   "metadata": {},
   "source": [
    "## Andamento dei casi in provincia a scelta nella regione di prima"
   ]
  },
  {
   "cell_type": "code",
   "execution_count": 17,
   "metadata": {},
   "outputs": [
    {
     "data": {
      "text/html": [
       "<strong>png:</strong> 2"
      ],
      "text/latex": [
       "\\textbf{png:} 2"
      ],
      "text/markdown": [
       "**png:** 2"
      ],
      "text/plain": [
       "png \n",
       "  2 "
      ]
     },
     "metadata": {},
     "output_type": "display_data"
    }
   ],
   "source": [
    "# Stacked Bar Plot with Colors and Legend\n",
    "#data_selected <- t(as.matrix(subset(ypuglia, select=c(\"data\", \"totale_ospedalizzati\", \"isolamento_domiciliare\"))))\n",
    "#barplot(ypuglia$totale_ospedalizzati)\n",
    "\n",
    "provincia <- 'Foggia'\n",
    "yprov_filtered <- yprov_datashort[yprov_datashort$denominazione_provincia == provincia, ]\n",
    "\n",
    "# Give the chart file a name\n",
    "png(file = \"totcasi_foggia.png\")\n",
    "\n",
    "# Plot the bar chart \n",
    "barplot(yprov_filtered$totale_casi,names.arg=yprov_filtered$data,xlab=\"Data\",ylab=\"Tot casi\",col=\"blue\",\n",
    "main=\"Andamento casi Covid19 in provincia di Foggia\",border=\"red\",ylim=range(pretty(c(0, yprov_filtered$totale_casi))))\n",
    "\n",
    "# Save the file\n",
    "dev.off()"
   ]
  },
  {
   "cell_type": "markdown",
   "metadata": {},
   "source": [
    "## Distribuzione dei casi nelle varie provincie della regione scelta prima"
   ]
  },
  {
   "cell_type": "code",
   "execution_count": 18,
   "metadata": {
    "scrolled": true
   },
   "outputs": [
    {
     "data": {
      "text/html": [
       "<strong>png:</strong> 2"
      ],
      "text/latex": [
       "\\textbf{png:} 2"
      ],
      "text/markdown": [
       "**png:** 2"
      ],
      "text/plain": [
       "png \n",
       "  2 "
      ]
     },
     "metadata": {},
     "output_type": "display_data"
    }
   ],
   "source": [
    "# Remove rows with in fase di definizione o aggiornamento\n",
    "yprov_datashort = yprov_datashort[!yprov$denominazione_provincia == \"In fase di definizione/aggiornamento\", ]\n",
    "\n",
    "# Create the input vectors.\n",
    "colors = rainbow(length(unique(yprov_datashort$denominazione_provincia)))\n",
    "dates <- unique(yprov_datashort$data)\n",
    "regions <- unique(yprov_datashort$denominazione_provincia)\n",
    "\n",
    "# Create the matrix of the values.\n",
    "Values <- matrix(c(yprov_datashort$totale_casi), nrow = length(unique(yprov_datashort$denominazione_provincia)), ncol = length(dates), byrow = FALSE)\n",
    "\n",
    "# Give the chart file a name\n",
    "png(file = paste(\"Distrib_casi_\", paste(regione, \".png\", sep=\"\"), sep=\"\"))\n",
    "\n",
    "# Create the bar chart\n",
    "barplot(Values, main = paste(\"Distribuzione casi Covid19 in \", regione), names.arg = dates, xlab = \"Data\", ylab = \"Totale casi\", col = colors)\n",
    "\n",
    "# Add the legend to the chart\n",
    "legend(\"topleft\", regions, cex = 1.3, fill = colors)\n",
    "\n",
    "# Save the file\n",
    "dev.off()"
   ]
  },
  {
   "cell_type": "code",
   "execution_count": 19,
   "metadata": {},
   "outputs": [
    {
     "data": {
      "text/html": [
       "<table>\n",
       "<thead><tr><th></th><th scope=col>data</th><th scope=col>codice_regione</th><th scope=col>denominazione_regione</th><th scope=col>denominazione_provincia</th><th scope=col>totale_casi</th></tr></thead>\n",
       "<tbody>\n",
       "\t<tr><th scope=row>80</th><td>24/02                               </td><td>16                                  </td><td>Puglia                              </td><td>Bari                                </td><td>0                                   </td></tr>\n",
       "\t<tr><th scope=row>81</th><td>24/02                               </td><td>16                                  </td><td>Puglia                              </td><td>Barletta-Andria-Trani               </td><td>0                                   </td></tr>\n",
       "\t<tr><th scope=row>82</th><td>24/02                               </td><td>16                                  </td><td>Puglia                              </td><td>Brindisi                            </td><td>0                                   </td></tr>\n",
       "\t<tr><th scope=row>83</th><td>24/02                               </td><td>16                                  </td><td>Puglia                              </td><td>Foggia                              </td><td>0                                   </td></tr>\n",
       "\t<tr><th scope=row>86</th><td>24/02                               </td><td>16                                  </td><td>Puglia                              </td><td>In fase di definizione/aggiornamento</td><td>0                                   </td></tr>\n",
       "\t<tr><th scope=row>84</th><td>24/02                               </td><td>16                                  </td><td>Puglia                              </td><td>Lecce                               </td><td>0                                   </td></tr>\n",
       "</tbody>\n",
       "</table>\n"
      ],
      "text/latex": [
       "\\begin{tabular}{r|lllll}\n",
       "  & data & codice\\_regione & denominazione\\_regione & denominazione\\_provincia & totale\\_casi\\\\\n",
       "\\hline\n",
       "\t80 & 24/02                                & 16                                   & Puglia                               & Bari                                 & 0                                   \\\\\n",
       "\t81 & 24/02                                & 16                                   & Puglia                               & Barletta-Andria-Trani                & 0                                   \\\\\n",
       "\t82 & 24/02                                & 16                                   & Puglia                               & Brindisi                             & 0                                   \\\\\n",
       "\t83 & 24/02                                & 16                                   & Puglia                               & Foggia                               & 0                                   \\\\\n",
       "\t86 & 24/02                                & 16                                   & Puglia                               & In fase di definizione/aggiornamento & 0                                   \\\\\n",
       "\t84 & 24/02                                & 16                                   & Puglia                               & Lecce                                & 0                                   \\\\\n",
       "\\end{tabular}\n"
      ],
      "text/markdown": [
       "\n",
       "| <!--/--> | data | codice_regione | denominazione_regione | denominazione_provincia | totale_casi |\n",
       "|---|---|---|---|---|---|\n",
       "| 80 | 24/02                                | 16                                   | Puglia                               | Bari                                 | 0                                    |\n",
       "| 81 | 24/02                                | 16                                   | Puglia                               | Barletta-Andria-Trani                | 0                                    |\n",
       "| 82 | 24/02                                | 16                                   | Puglia                               | Brindisi                             | 0                                    |\n",
       "| 83 | 24/02                                | 16                                   | Puglia                               | Foggia                               | 0                                    |\n",
       "| 86 | 24/02                                | 16                                   | Puglia                               | In fase di definizione/aggiornamento | 0                                    |\n",
       "| 84 | 24/02                                | 16                                   | Puglia                               | Lecce                                | 0                                    |\n",
       "\n"
      ],
      "text/plain": [
       "   data  codice_regione denominazione_regione\n",
       "80 24/02 16             Puglia               \n",
       "81 24/02 16             Puglia               \n",
       "82 24/02 16             Puglia               \n",
       "83 24/02 16             Puglia               \n",
       "86 24/02 16             Puglia               \n",
       "84 24/02 16             Puglia               \n",
       "   denominazione_provincia              totale_casi\n",
       "80 Bari                                 0          \n",
       "81 Barletta-Andria-Trani                0          \n",
       "82 Brindisi                             0          \n",
       "83 Foggia                               0          \n",
       "86 In fase di definizione/aggiornamento 0          \n",
       "84 Lecce                                0          "
      ]
     },
     "metadata": {},
     "output_type": "display_data"
    }
   ],
   "source": [
    "head(yprov_datashort)"
   ]
  },
  {
   "cell_type": "markdown",
   "metadata": {},
   "source": [
    "## Animazione totale casi in regione scelta"
   ]
  },
  {
   "cell_type": "code",
   "execution_count": 20,
   "metadata": {
    "scrolled": true
   },
   "outputs": [],
   "source": [
    "## Sort by date\n",
    "yprov = yprov[order(as.Date(yprov$data), yprov$denominazione_provincia),]\n",
    "yprov = yprov[!yprov$denominazione_provincia == \"In fase di definizione/aggiornamento\", ]\n",
    "\n",
    "# libraries:\n",
    "library(ggplot2)\n",
    "library(gganimate)\n",
    "library(hrbrthemes)\n",
    "library(viridis)\n",
    "library(extrafont)\n",
    "\n",
    "# Resize animation\n",
    "animation::ani.options(ani.width= 1800, ani.height=1800, ani.res = 1800)\n",
    "\n",
    "# Plot\n",
    "yprov %>%\n",
    "  ggplot( aes(x=data, y=totale_casi, group=denominazione_provincia, color=denominazione_provincia)) +\n",
    "    geom_line() +\n",
    "    geom_point() +\n",
    "    scale_color_viridis(discrete = TRUE) +\n",
    "    ggtitle(paste(\"Totale casi nelle province della regione \", regione, sep = \"\")) +\n",
    "    theme_minimal() +\n",
    "    ylab(\"Totale casi\") +\n",
    "    transition_reveal(data, range = seq(as.Date(\"2020-02-24\"), by = \"month\", length.out = 30))\n",
    "\n",
    "# Save at gif:\n",
    "anim_save(paste(paste(\"andamento contagiati in \", regione, sep = \"\"), \".gif\", sep = \"\"))"
   ]
  }
 ],
 "metadata": {
  "kernelspec": {
   "display_name": "R",
   "language": "R",
   "name": "ir"
  },
  "language_info": {
   "codemirror_mode": "r",
   "file_extension": ".r",
   "mimetype": "text/x-r-source",
   "name": "R",
   "pygments_lexer": "r",
   "version": "3.6.1"
  }
 },
 "nbformat": 4,
 "nbformat_minor": 4
}
