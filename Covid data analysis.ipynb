{
 "cells": [
  {
   "cell_type": "markdown",
   "metadata": {},
   "source": [
    "# Analisi dati italiani Covid19"
   ]
  },
  {
   "cell_type": "markdown",
   "metadata": {},
   "source": [
    "Scarico i dati disponibili nella cartella della protezione civile su Github"
   ]
  },
  {
   "cell_type": "code",
   "execution_count": 1,
   "metadata": {},
   "outputs": [
    {
     "name": "stderr",
     "output_type": "stream",
     "text": [
      "Warning message:\n",
      "\"package 'RCurl' was built under R version 3.6.2\"Warning message:\n",
      "\"package 'dplyr' was built under R version 3.6.3\"\n",
      "Attaching package: 'dplyr'\n",
      "\n",
      "The following objects are masked from 'package:stats':\n",
      "\n",
      "    filter, lag\n",
      "\n",
      "The following objects are masked from 'package:base':\n",
      "\n",
      "    intersect, setdiff, setequal, union\n",
      "\n",
      "Warning message:\n",
      "\"package 'magrittr' was built under R version 3.6.3\"Warning message:\n",
      "\"package 'ggplot2' was built under R version 3.6.3\""
     ]
    }
   ],
   "source": [
    "library(RCurl)\n",
    "library(dplyr)\n",
    "library(magrittr)\n",
    "library(ggplot2)\n",
    "x <- getURL(\"https://raw.githubusercontent.com/pcm-dpc/COVID-19/master/dati-regioni/dpc-covid19-ita-regioni.csv\")\n",
    "y <- read.csv(text = x, stringsAsFactors = FALSE)"
   ]
  },
  {
   "cell_type": "code",
   "execution_count": 2,
   "metadata": {},
   "outputs": [
    {
     "data": {
      "text/html": [
       "<table>\n",
       "<thead><tr><th scope=col>data</th><th scope=col>stato</th><th scope=col>codice_regione</th><th scope=col>denominazione_regione</th><th scope=col>lat</th><th scope=col>long</th><th scope=col>ricoverati_con_sintomi</th><th scope=col>terapia_intensiva</th><th scope=col>totale_ospedalizzati</th><th scope=col>isolamento_domiciliare</th><th scope=col>totale_attualmente_positivi</th><th scope=col>nuovi_attualmente_positivi</th><th scope=col>dimessi_guariti</th><th scope=col>deceduti</th><th scope=col>totale_casi</th><th scope=col>tamponi</th><th scope=col>note_it</th><th scope=col>note_en</th></tr></thead>\n",
       "<tbody>\n",
       "\t<tr><td>2020-02-24T18:00:00</td><td>ITA                </td><td>13                 </td><td>Abruzzo            </td><td>42.35122           </td><td>13.39844           </td><td> 0                 </td><td>0                  </td><td> 0                 </td><td>0                  </td><td> 0                 </td><td> 0                 </td><td>0                  </td><td>0                  </td><td> 0                 </td><td>  5                </td><td>NA                 </td><td>NA                 </td></tr>\n",
       "\t<tr><td>2020-02-24T18:00:00</td><td>ITA                </td><td>17                 </td><td>Basilicata         </td><td>40.63947           </td><td>15.80515           </td><td> 0                 </td><td>0                  </td><td> 0                 </td><td>0                  </td><td> 0                 </td><td> 0                 </td><td>0                  </td><td>0                  </td><td> 0                 </td><td>  0                </td><td>NA                 </td><td>NA                 </td></tr>\n",
       "\t<tr><td>2020-02-24T18:00:00</td><td>ITA                </td><td> 4                 </td><td>P.A. Bolzano       </td><td>46.49933           </td><td>11.35662           </td><td> 0                 </td><td>0                  </td><td> 0                 </td><td>0                  </td><td> 0                 </td><td> 0                 </td><td>0                  </td><td>0                  </td><td> 0                 </td><td>  1                </td><td>NA                 </td><td>NA                 </td></tr>\n",
       "\t<tr><td>2020-02-24T18:00:00</td><td>ITA                </td><td>18                 </td><td>Calabria           </td><td>38.90598           </td><td>16.59440           </td><td> 0                 </td><td>0                  </td><td> 0                 </td><td>0                  </td><td> 0                 </td><td> 0                 </td><td>0                  </td><td>0                  </td><td> 0                 </td><td>  1                </td><td>NA                 </td><td>NA                 </td></tr>\n",
       "\t<tr><td>2020-02-24T18:00:00</td><td>ITA                </td><td>15                 </td><td>Campania           </td><td>40.83957           </td><td>14.25085           </td><td> 0                 </td><td>0                  </td><td> 0                 </td><td>0                  </td><td> 0                 </td><td> 0                 </td><td>0                  </td><td>0                  </td><td> 0                 </td><td> 10                </td><td>NA                 </td><td>NA                 </td></tr>\n",
       "\t<tr><td>2020-02-24T18:00:00</td><td>ITA                </td><td> 8                 </td><td>Emilia Romagna     </td><td>44.49437           </td><td>11.34172           </td><td>10                 </td><td>2                  </td><td>12                 </td><td>6                  </td><td>18                 </td><td>18                 </td><td>0                  </td><td>0                  </td><td>18                 </td><td>148                </td><td>NA                 </td><td>NA                 </td></tr>\n",
       "</tbody>\n",
       "</table>\n"
      ],
      "text/latex": [
       "\\begin{tabular}{r|llllllllllllllllll}\n",
       " data & stato & codice\\_regione & denominazione\\_regione & lat & long & ricoverati\\_con\\_sintomi & terapia\\_intensiva & totale\\_ospedalizzati & isolamento\\_domiciliare & totale\\_attualmente\\_positivi & nuovi\\_attualmente\\_positivi & dimessi\\_guariti & deceduti & totale\\_casi & tamponi & note\\_it & note\\_en\\\\\n",
       "\\hline\n",
       "\t 2020-02-24T18:00:00 & ITA                 & 13                  & Abruzzo             & 42.35122            & 13.39844            &  0                  & 0                   &  0                  & 0                   &  0                  &  0                  & 0                   & 0                   &  0                  &   5                 & NA                  & NA                 \\\\\n",
       "\t 2020-02-24T18:00:00 & ITA                 & 17                  & Basilicata          & 40.63947            & 15.80515            &  0                  & 0                   &  0                  & 0                   &  0                  &  0                  & 0                   & 0                   &  0                  &   0                 & NA                  & NA                 \\\\\n",
       "\t 2020-02-24T18:00:00 & ITA                 &  4                  & P.A. Bolzano        & 46.49933            & 11.35662            &  0                  & 0                   &  0                  & 0                   &  0                  &  0                  & 0                   & 0                   &  0                  &   1                 & NA                  & NA                 \\\\\n",
       "\t 2020-02-24T18:00:00 & ITA                 & 18                  & Calabria            & 38.90598            & 16.59440            &  0                  & 0                   &  0                  & 0                   &  0                  &  0                  & 0                   & 0                   &  0                  &   1                 & NA                  & NA                 \\\\\n",
       "\t 2020-02-24T18:00:00 & ITA                 & 15                  & Campania            & 40.83957            & 14.25085            &  0                  & 0                   &  0                  & 0                   &  0                  &  0                  & 0                   & 0                   &  0                  &  10                 & NA                  & NA                 \\\\\n",
       "\t 2020-02-24T18:00:00 & ITA                 &  8                  & Emilia Romagna      & 44.49437            & 11.34172            & 10                  & 2                   & 12                  & 6                   & 18                  & 18                  & 0                   & 0                   & 18                  & 148                 & NA                  & NA                 \\\\\n",
       "\\end{tabular}\n"
      ],
      "text/markdown": [
       "\n",
       "| data | stato | codice_regione | denominazione_regione | lat | long | ricoverati_con_sintomi | terapia_intensiva | totale_ospedalizzati | isolamento_domiciliare | totale_attualmente_positivi | nuovi_attualmente_positivi | dimessi_guariti | deceduti | totale_casi | tamponi | note_it | note_en |\n",
       "|---|---|---|---|---|---|---|---|---|---|---|---|---|---|---|---|---|---|\n",
       "| 2020-02-24T18:00:00 | ITA                 | 13                  | Abruzzo             | 42.35122            | 13.39844            |  0                  | 0                   |  0                  | 0                   |  0                  |  0                  | 0                   | 0                   |  0                  |   5                 | NA                  | NA                  |\n",
       "| 2020-02-24T18:00:00 | ITA                 | 17                  | Basilicata          | 40.63947            | 15.80515            |  0                  | 0                   |  0                  | 0                   |  0                  |  0                  | 0                   | 0                   |  0                  |   0                 | NA                  | NA                  |\n",
       "| 2020-02-24T18:00:00 | ITA                 |  4                  | P.A. Bolzano        | 46.49933            | 11.35662            |  0                  | 0                   |  0                  | 0                   |  0                  |  0                  | 0                   | 0                   |  0                  |   1                 | NA                  | NA                  |\n",
       "| 2020-02-24T18:00:00 | ITA                 | 18                  | Calabria            | 38.90598            | 16.59440            |  0                  | 0                   |  0                  | 0                   |  0                  |  0                  | 0                   | 0                   |  0                  |   1                 | NA                  | NA                  |\n",
       "| 2020-02-24T18:00:00 | ITA                 | 15                  | Campania            | 40.83957            | 14.25085            |  0                  | 0                   |  0                  | 0                   |  0                  |  0                  | 0                   | 0                   |  0                  |  10                 | NA                  | NA                  |\n",
       "| 2020-02-24T18:00:00 | ITA                 |  8                  | Emilia Romagna      | 44.49437            | 11.34172            | 10                  | 2                   | 12                  | 6                   | 18                  | 18                  | 0                   | 0                   | 18                  | 148                 | NA                  | NA                  |\n",
       "\n"
      ],
      "text/plain": [
       "  data                stato codice_regione denominazione_regione lat     \n",
       "1 2020-02-24T18:00:00 ITA   13             Abruzzo               42.35122\n",
       "2 2020-02-24T18:00:00 ITA   17             Basilicata            40.63947\n",
       "3 2020-02-24T18:00:00 ITA    4             P.A. Bolzano          46.49933\n",
       "4 2020-02-24T18:00:00 ITA   18             Calabria              38.90598\n",
       "5 2020-02-24T18:00:00 ITA   15             Campania              40.83957\n",
       "6 2020-02-24T18:00:00 ITA    8             Emilia Romagna        44.49437\n",
       "  long     ricoverati_con_sintomi terapia_intensiva totale_ospedalizzati\n",
       "1 13.39844  0                     0                  0                  \n",
       "2 15.80515  0                     0                  0                  \n",
       "3 11.35662  0                     0                  0                  \n",
       "4 16.59440  0                     0                  0                  \n",
       "5 14.25085  0                     0                  0                  \n",
       "6 11.34172 10                     2                 12                  \n",
       "  isolamento_domiciliare totale_attualmente_positivi nuovi_attualmente_positivi\n",
       "1 0                       0                           0                        \n",
       "2 0                       0                           0                        \n",
       "3 0                       0                           0                        \n",
       "4 0                       0                           0                        \n",
       "5 0                       0                           0                        \n",
       "6 6                      18                          18                        \n",
       "  dimessi_guariti deceduti totale_casi tamponi note_it note_en\n",
       "1 0               0         0            5     NA      NA     \n",
       "2 0               0         0            0     NA      NA     \n",
       "3 0               0         0            1     NA      NA     \n",
       "4 0               0         0            1     NA      NA     \n",
       "5 0               0         0           10     NA      NA     \n",
       "6 0               0        18          148     NA      NA     "
      ]
     },
     "metadata": {},
     "output_type": "display_data"
    }
   ],
   "source": [
    "head(y)"
   ]
  },
  {
   "cell_type": "markdown",
   "metadata": {},
   "source": [
    "Pre-processing dei dati:\n",
    "1) rimuovere colonne che non servono o ridondanti\n",
    "2) missing data non esistenti \n",
    "3) rimuovere orario dalle date"
   ]
  },
  {
   "cell_type": "code",
   "execution_count": 3,
   "metadata": {},
   "outputs": [],
   "source": [
    "y$stato <- NULL\n",
    "y$codice_regione <- NULL\n",
    "y$lat <- NULL\n",
    "y$long <- NULL\n",
    "y$data <- substr(y$data, 1, 10)\n",
    "y <- mutate(y, data= as.Date(data))"
   ]
  },
  {
   "cell_type": "code",
   "execution_count": 4,
   "metadata": {},
   "outputs": [
    {
     "data": {
      "text/html": [
       "<table>\n",
       "<thead><tr><th scope=col>data</th><th scope=col>denominazione_regione</th><th scope=col>ricoverati_con_sintomi</th><th scope=col>terapia_intensiva</th><th scope=col>totale_ospedalizzati</th><th scope=col>isolamento_domiciliare</th><th scope=col>totale_attualmente_positivi</th><th scope=col>nuovi_attualmente_positivi</th><th scope=col>dimessi_guariti</th><th scope=col>deceduti</th><th scope=col>totale_casi</th><th scope=col>tamponi</th><th scope=col>note_it</th><th scope=col>note_en</th></tr></thead>\n",
       "<tbody>\n",
       "\t<tr><td>2020-02-24    </td><td>Abruzzo       </td><td> 0            </td><td>0             </td><td> 0            </td><td>0             </td><td> 0            </td><td> 0            </td><td>0             </td><td>0             </td><td> 0            </td><td>  5           </td><td>NA            </td><td>NA            </td></tr>\n",
       "\t<tr><td>2020-02-24    </td><td>Basilicata    </td><td> 0            </td><td>0             </td><td> 0            </td><td>0             </td><td> 0            </td><td> 0            </td><td>0             </td><td>0             </td><td> 0            </td><td>  0           </td><td>NA            </td><td>NA            </td></tr>\n",
       "\t<tr><td>2020-02-24    </td><td>P.A. Bolzano  </td><td> 0            </td><td>0             </td><td> 0            </td><td>0             </td><td> 0            </td><td> 0            </td><td>0             </td><td>0             </td><td> 0            </td><td>  1           </td><td>NA            </td><td>NA            </td></tr>\n",
       "\t<tr><td>2020-02-24    </td><td>Calabria      </td><td> 0            </td><td>0             </td><td> 0            </td><td>0             </td><td> 0            </td><td> 0            </td><td>0             </td><td>0             </td><td> 0            </td><td>  1           </td><td>NA            </td><td>NA            </td></tr>\n",
       "\t<tr><td>2020-02-24    </td><td>Campania      </td><td> 0            </td><td>0             </td><td> 0            </td><td>0             </td><td> 0            </td><td> 0            </td><td>0             </td><td>0             </td><td> 0            </td><td> 10           </td><td>NA            </td><td>NA            </td></tr>\n",
       "\t<tr><td>2020-02-24    </td><td>Emilia Romagna</td><td>10            </td><td>2             </td><td>12            </td><td>6             </td><td>18            </td><td>18            </td><td>0             </td><td>0             </td><td>18            </td><td>148           </td><td>NA            </td><td>NA            </td></tr>\n",
       "</tbody>\n",
       "</table>\n"
      ],
      "text/latex": [
       "\\begin{tabular}{r|llllllllllllll}\n",
       " data & denominazione\\_regione & ricoverati\\_con\\_sintomi & terapia\\_intensiva & totale\\_ospedalizzati & isolamento\\_domiciliare & totale\\_attualmente\\_positivi & nuovi\\_attualmente\\_positivi & dimessi\\_guariti & deceduti & totale\\_casi & tamponi & note\\_it & note\\_en\\\\\n",
       "\\hline\n",
       "\t 2020-02-24     & Abruzzo        &  0             & 0              &  0             & 0              &  0             &  0             & 0              & 0              &  0             &   5            & NA             & NA            \\\\\n",
       "\t 2020-02-24     & Basilicata     &  0             & 0              &  0             & 0              &  0             &  0             & 0              & 0              &  0             &   0            & NA             & NA            \\\\\n",
       "\t 2020-02-24     & P.A. Bolzano   &  0             & 0              &  0             & 0              &  0             &  0             & 0              & 0              &  0             &   1            & NA             & NA            \\\\\n",
       "\t 2020-02-24     & Calabria       &  0             & 0              &  0             & 0              &  0             &  0             & 0              & 0              &  0             &   1            & NA             & NA            \\\\\n",
       "\t 2020-02-24     & Campania       &  0             & 0              &  0             & 0              &  0             &  0             & 0              & 0              &  0             &  10            & NA             & NA            \\\\\n",
       "\t 2020-02-24     & Emilia Romagna & 10             & 2              & 12             & 6              & 18             & 18             & 0              & 0              & 18             & 148            & NA             & NA            \\\\\n",
       "\\end{tabular}\n"
      ],
      "text/markdown": [
       "\n",
       "| data | denominazione_regione | ricoverati_con_sintomi | terapia_intensiva | totale_ospedalizzati | isolamento_domiciliare | totale_attualmente_positivi | nuovi_attualmente_positivi | dimessi_guariti | deceduti | totale_casi | tamponi | note_it | note_en |\n",
       "|---|---|---|---|---|---|---|---|---|---|---|---|---|---|\n",
       "| 2020-02-24     | Abruzzo        |  0             | 0              |  0             | 0              |  0             |  0             | 0              | 0              |  0             |   5            | NA             | NA             |\n",
       "| 2020-02-24     | Basilicata     |  0             | 0              |  0             | 0              |  0             |  0             | 0              | 0              |  0             |   0            | NA             | NA             |\n",
       "| 2020-02-24     | P.A. Bolzano   |  0             | 0              |  0             | 0              |  0             |  0             | 0              | 0              |  0             |   1            | NA             | NA             |\n",
       "| 2020-02-24     | Calabria       |  0             | 0              |  0             | 0              |  0             |  0             | 0              | 0              |  0             |   1            | NA             | NA             |\n",
       "| 2020-02-24     | Campania       |  0             | 0              |  0             | 0              |  0             |  0             | 0              | 0              |  0             |  10            | NA             | NA             |\n",
       "| 2020-02-24     | Emilia Romagna | 10             | 2              | 12             | 6              | 18             | 18             | 0              | 0              | 18             | 148            | NA             | NA             |\n",
       "\n"
      ],
      "text/plain": [
       "  data       denominazione_regione ricoverati_con_sintomi terapia_intensiva\n",
       "1 2020-02-24 Abruzzo                0                     0                \n",
       "2 2020-02-24 Basilicata             0                     0                \n",
       "3 2020-02-24 P.A. Bolzano           0                     0                \n",
       "4 2020-02-24 Calabria               0                     0                \n",
       "5 2020-02-24 Campania               0                     0                \n",
       "6 2020-02-24 Emilia Romagna        10                     2                \n",
       "  totale_ospedalizzati isolamento_domiciliare totale_attualmente_positivi\n",
       "1  0                   0                       0                         \n",
       "2  0                   0                       0                         \n",
       "3  0                   0                       0                         \n",
       "4  0                   0                       0                         \n",
       "5  0                   0                       0                         \n",
       "6 12                   6                      18                         \n",
       "  nuovi_attualmente_positivi dimessi_guariti deceduti totale_casi tamponi\n",
       "1  0                         0               0         0            5    \n",
       "2  0                         0               0         0            0    \n",
       "3  0                         0               0         0            1    \n",
       "4  0                         0               0         0            1    \n",
       "5  0                         0               0         0           10    \n",
       "6 18                         0               0        18          148    \n",
       "  note_it note_en\n",
       "1 NA      NA     \n",
       "2 NA      NA     \n",
       "3 NA      NA     \n",
       "4 NA      NA     \n",
       "5 NA      NA     \n",
       "6 NA      NA     "
      ]
     },
     "metadata": {},
     "output_type": "display_data"
    }
   ],
   "source": [
    "head(y)"
   ]
  },
  {
   "cell_type": "markdown",
   "metadata": {},
   "source": [
    "Andamento regione Puglia per quanto riguarda i positivi dall'inizio del contagio"
   ]
  },
  {
   "cell_type": "code",
   "execution_count": 5,
   "metadata": {},
   "outputs": [],
   "source": [
    "ypuglia <- y[y$denominazione_regione == 'Puglia', ] "
   ]
  },
  {
   "cell_type": "code",
   "execution_count": 6,
   "metadata": {},
   "outputs": [
    {
     "data": {
      "text/html": [
       "<table>\n",
       "<thead><tr><th></th><th scope=col>data</th><th scope=col>denominazione_regione</th><th scope=col>ricoverati_con_sintomi</th><th scope=col>terapia_intensiva</th><th scope=col>totale_ospedalizzati</th><th scope=col>isolamento_domiciliare</th><th scope=col>totale_attualmente_positivi</th><th scope=col>nuovi_attualmente_positivi</th><th scope=col>dimessi_guariti</th><th scope=col>deceduti</th><th scope=col>totale_casi</th><th scope=col>tamponi</th><th scope=col>note_it</th><th scope=col>note_en</th></tr></thead>\n",
       "<tbody>\n",
       "\t<tr><th scope=row>14</th><td>24/02 </td><td>Puglia</td><td>0     </td><td>0     </td><td>0     </td><td>0     </td><td>0     </td><td>0     </td><td>0     </td><td>0     </td><td>0     </td><td>  0   </td><td>NA    </td><td>NA    </td></tr>\n",
       "\t<tr><th scope=row>35</th><td>25/02 </td><td>Puglia</td><td>0     </td><td>0     </td><td>0     </td><td>0     </td><td>0     </td><td>0     </td><td>0     </td><td>0     </td><td>0     </td><td>  0   </td><td>NA    </td><td>NA    </td></tr>\n",
       "\t<tr><th scope=row>56</th><td>26/02 </td><td>Puglia</td><td>0     </td><td>0     </td><td>0     </td><td>0     </td><td>0     </td><td>0     </td><td>0     </td><td>0     </td><td>0     </td><td>  0   </td><td>NA    </td><td>NA    </td></tr>\n",
       "\t<tr><th scope=row>77</th><td>27/02 </td><td>Puglia</td><td>1     </td><td>0     </td><td>1     </td><td>0     </td><td>1     </td><td>1     </td><td>0     </td><td>0     </td><td>1     </td><td>  0   </td><td>NA    </td><td>NA    </td></tr>\n",
       "\t<tr><th scope=row>98</th><td>28/02 </td><td>Puglia</td><td>1     </td><td>0     </td><td>1     </td><td>2     </td><td>3     </td><td>2     </td><td>0     </td><td>0     </td><td>3     </td><td>242   </td><td>NA    </td><td>NA    </td></tr>\n",
       "\t<tr><th scope=row>119</th><td>29/02 </td><td>Puglia</td><td>1     </td><td>0     </td><td>1     </td><td>2     </td><td>3     </td><td>0     </td><td>0     </td><td>0     </td><td>3     </td><td>252   </td><td>NA    </td><td>NA    </td></tr>\n",
       "</tbody>\n",
       "</table>\n"
      ],
      "text/latex": [
       "\\begin{tabular}{r|llllllllllllll}\n",
       "  & data & denominazione\\_regione & ricoverati\\_con\\_sintomi & terapia\\_intensiva & totale\\_ospedalizzati & isolamento\\_domiciliare & totale\\_attualmente\\_positivi & nuovi\\_attualmente\\_positivi & dimessi\\_guariti & deceduti & totale\\_casi & tamponi & note\\_it & note\\_en\\\\\n",
       "\\hline\n",
       "\t14 & 24/02  & Puglia & 0      & 0      & 0      & 0      & 0      & 0      & 0      & 0      & 0      &   0    & NA     & NA    \\\\\n",
       "\t35 & 25/02  & Puglia & 0      & 0      & 0      & 0      & 0      & 0      & 0      & 0      & 0      &   0    & NA     & NA    \\\\\n",
       "\t56 & 26/02  & Puglia & 0      & 0      & 0      & 0      & 0      & 0      & 0      & 0      & 0      &   0    & NA     & NA    \\\\\n",
       "\t77 & 27/02  & Puglia & 1      & 0      & 1      & 0      & 1      & 1      & 0      & 0      & 1      &   0    & NA     & NA    \\\\\n",
       "\t98 & 28/02  & Puglia & 1      & 0      & 1      & 2      & 3      & 2      & 0      & 0      & 3      & 242    & NA     & NA    \\\\\n",
       "\t119 & 29/02  & Puglia & 1      & 0      & 1      & 2      & 3      & 0      & 0      & 0      & 3      & 252    & NA     & NA    \\\\\n",
       "\\end{tabular}\n"
      ],
      "text/markdown": [
       "\n",
       "| <!--/--> | data | denominazione_regione | ricoverati_con_sintomi | terapia_intensiva | totale_ospedalizzati | isolamento_domiciliare | totale_attualmente_positivi | nuovi_attualmente_positivi | dimessi_guariti | deceduti | totale_casi | tamponi | note_it | note_en |\n",
       "|---|---|---|---|---|---|---|---|---|---|---|---|---|---|---|\n",
       "| 14 | 24/02  | Puglia | 0      | 0      | 0      | 0      | 0      | 0      | 0      | 0      | 0      |   0    | NA     | NA     |\n",
       "| 35 | 25/02  | Puglia | 0      | 0      | 0      | 0      | 0      | 0      | 0      | 0      | 0      |   0    | NA     | NA     |\n",
       "| 56 | 26/02  | Puglia | 0      | 0      | 0      | 0      | 0      | 0      | 0      | 0      | 0      |   0    | NA     | NA     |\n",
       "| 77 | 27/02  | Puglia | 1      | 0      | 1      | 0      | 1      | 1      | 0      | 0      | 1      |   0    | NA     | NA     |\n",
       "| 98 | 28/02  | Puglia | 1      | 0      | 1      | 2      | 3      | 2      | 0      | 0      | 3      | 242    | NA     | NA     |\n",
       "| 119 | 29/02  | Puglia | 1      | 0      | 1      | 2      | 3      | 0      | 0      | 0      | 3      | 252    | NA     | NA     |\n",
       "\n"
      ],
      "text/plain": [
       "    data  denominazione_regione ricoverati_con_sintomi terapia_intensiva\n",
       "14  24/02 Puglia                0                      0                \n",
       "35  25/02 Puglia                0                      0                \n",
       "56  26/02 Puglia                0                      0                \n",
       "77  27/02 Puglia                1                      0                \n",
       "98  28/02 Puglia                1                      0                \n",
       "119 29/02 Puglia                1                      0                \n",
       "    totale_ospedalizzati isolamento_domiciliare totale_attualmente_positivi\n",
       "14  0                    0                      0                          \n",
       "35  0                    0                      0                          \n",
       "56  0                    0                      0                          \n",
       "77  1                    0                      1                          \n",
       "98  1                    2                      3                          \n",
       "119 1                    2                      3                          \n",
       "    nuovi_attualmente_positivi dimessi_guariti deceduti totale_casi tamponi\n",
       "14  0                          0               0        0             0    \n",
       "35  0                          0               0        0             0    \n",
       "56  0                          0               0        0             0    \n",
       "77  1                          0               0        1             0    \n",
       "98  2                          0               0        3           242    \n",
       "119 0                          0               0        3           252    \n",
       "    note_it note_en\n",
       "14  NA      NA     \n",
       "35  NA      NA     \n",
       "56  NA      NA     \n",
       "77  NA      NA     \n",
       "98  NA      NA     \n",
       "119 NA      NA     "
      ]
     },
     "metadata": {},
     "output_type": "display_data"
    }
   ],
   "source": [
    "## Sort by date\n",
    "ypuglia = ypuglia[order(as.Date(ypuglia$data)),]\n",
    "ypuglia$data <- format(as.Date(ypuglia$data), \"%d/%m\")\n",
    "head(ypuglia)"
   ]
  },
  {
   "cell_type": "markdown",
   "metadata": {},
   "source": [
    "## Andamento ospedalizzati"
   ]
  },
  {
   "cell_type": "code",
   "execution_count": 7,
   "metadata": {},
   "outputs": [
    {
     "data": {
      "text/html": [
       "<strong>png:</strong> 2"
      ],
      "text/latex": [
       "\\textbf{png:} 2"
      ],
      "text/markdown": [
       "**png:** 2"
      ],
      "text/plain": [
       "png \n",
       "  2 "
      ]
     },
     "metadata": {},
     "output_type": "display_data"
    }
   ],
   "source": [
    "# Stacked Bar Plot with Colors and Legend\n",
    "#data_selected <- t(as.matrix(subset(ypuglia, select=c(\"data\", \"totale_ospedalizzati\", \"isolamento_domiciliare\"))))\n",
    "#barplot(ypuglia$totale_ospedalizzati)\n",
    "\n",
    "# Give the chart file a name\n",
    "png(file = \"ospedalizzati_puglia.png\", width = 1000, height = 800, res = 200)\n",
    "\n",
    "# Plot the bar chart \n",
    "barplot(ypuglia$totale_ospedalizzati,names.arg=ypuglia$data,xlab=\"Data\",ylab=\"Tot ospedalizzati\",col=\"blue\",\n",
    "main=\"Andamento ospedalizzati in Puglia\",border=\"red\",ylim=range(pretty(c(0, ypuglia$totale_ospedalizzati))))\n",
    "\n",
    "# Save the file\n",
    "dev.off()"
   ]
  },
  {
   "cell_type": "markdown",
   "metadata": {},
   "source": [
    "## Andamento con distribuzione tra ospedalizzati e isolamento domiciliare"
   ]
  },
  {
   "cell_type": "code",
   "execution_count": 8,
   "metadata": {},
   "outputs": [
    {
     "data": {
      "text/html": [
       "<strong>png:</strong> 2"
      ],
      "text/latex": [
       "\\textbf{png:} 2"
      ],
      "text/markdown": [
       "**png:** 2"
      ],
      "text/plain": [
       "png \n",
       "  2 "
      ]
     },
     "metadata": {},
     "output_type": "display_data"
    }
   ],
   "source": [
    "# Create the input vectors.\n",
    "colors = c(\"red\",\"blue\")\n",
    "dates <- c(ypuglia$data)\n",
    "regions <- c(\"Tot in ospedale\",\"Isolamento domiciliare\")\n",
    "\n",
    "# Create the matrix of the values.\n",
    "Values <- matrix(c(ypuglia$totale_ospedalizzati,ypuglia$isolamento_domiciliare), nrow = 2, ncol = length(dates), byrow = TRUE)\n",
    "#Values <- t(as.matrix(subset(ypuglia, select=c(\"data\", \"totale_ospedalizzati\", \"isolamento_domiciliare\"))))\n",
    "\n",
    "# Give the chart file a name\n",
    "png(file = \"Distrib_isolamento_ospedale.png\")\n",
    "\n",
    "# Create the bar chart\n",
    "barplot(Values, main = \"Distribuzione tra isolamento e ospedalizzati in Puglia\", names.arg = dates, xlab = \"Data\", ylab = \"Totale positivi\", col = colors, )\n",
    "\n",
    "# Add the legend to the chart\n",
    "legend(\"topleft\", regions, cex = 1.3, fill = colors)\n",
    "\n",
    "# Save the file\n",
    "dev.off()"
   ]
  },
  {
   "cell_type": "markdown",
   "metadata": {},
   "source": [
    "## Andamento con animazione della Nazione"
   ]
  },
  {
   "cell_type": "code",
   "execution_count": 9,
   "metadata": {},
   "outputs": [
    {
     "data": {
      "text/html": [
       "<table>\n",
       "<thead><tr><th scope=col>data</th><th scope=col>denominazione_regione</th><th scope=col>ricoverati_con_sintomi</th><th scope=col>terapia_intensiva</th><th scope=col>totale_ospedalizzati</th><th scope=col>isolamento_domiciliare</th><th scope=col>totale_attualmente_positivi</th><th scope=col>nuovi_attualmente_positivi</th><th scope=col>dimessi_guariti</th><th scope=col>deceduti</th><th scope=col>totale_casi</th><th scope=col>tamponi</th><th scope=col>note_it</th><th scope=col>note_en</th></tr></thead>\n",
       "<tbody>\n",
       "\t<tr><td>2020-02-24    </td><td>Abruzzo       </td><td> 0            </td><td>0             </td><td> 0            </td><td>0             </td><td> 0            </td><td> 0            </td><td>0             </td><td>0             </td><td> 0            </td><td>  5           </td><td>NA            </td><td>NA            </td></tr>\n",
       "\t<tr><td>2020-02-24    </td><td>Basilicata    </td><td> 0            </td><td>0             </td><td> 0            </td><td>0             </td><td> 0            </td><td> 0            </td><td>0             </td><td>0             </td><td> 0            </td><td>  0           </td><td>NA            </td><td>NA            </td></tr>\n",
       "\t<tr><td>2020-02-24    </td><td>P.A. Bolzano  </td><td> 0            </td><td>0             </td><td> 0            </td><td>0             </td><td> 0            </td><td> 0            </td><td>0             </td><td>0             </td><td> 0            </td><td>  1           </td><td>NA            </td><td>NA            </td></tr>\n",
       "\t<tr><td>2020-02-24    </td><td>Calabria      </td><td> 0            </td><td>0             </td><td> 0            </td><td>0             </td><td> 0            </td><td> 0            </td><td>0             </td><td>0             </td><td> 0            </td><td>  1           </td><td>NA            </td><td>NA            </td></tr>\n",
       "\t<tr><td>2020-02-24    </td><td>Campania      </td><td> 0            </td><td>0             </td><td> 0            </td><td>0             </td><td> 0            </td><td> 0            </td><td>0             </td><td>0             </td><td> 0            </td><td> 10           </td><td>NA            </td><td>NA            </td></tr>\n",
       "\t<tr><td>2020-02-24    </td><td>Emilia Romagna</td><td>10            </td><td>2             </td><td>12            </td><td>6             </td><td>18            </td><td>18            </td><td>0             </td><td>0             </td><td>18            </td><td>148           </td><td>NA            </td><td>NA            </td></tr>\n",
       "</tbody>\n",
       "</table>\n"
      ],
      "text/latex": [
       "\\begin{tabular}{r|llllllllllllll}\n",
       " data & denominazione\\_regione & ricoverati\\_con\\_sintomi & terapia\\_intensiva & totale\\_ospedalizzati & isolamento\\_domiciliare & totale\\_attualmente\\_positivi & nuovi\\_attualmente\\_positivi & dimessi\\_guariti & deceduti & totale\\_casi & tamponi & note\\_it & note\\_en\\\\\n",
       "\\hline\n",
       "\t 2020-02-24     & Abruzzo        &  0             & 0              &  0             & 0              &  0             &  0             & 0              & 0              &  0             &   5            & NA             & NA            \\\\\n",
       "\t 2020-02-24     & Basilicata     &  0             & 0              &  0             & 0              &  0             &  0             & 0              & 0              &  0             &   0            & NA             & NA            \\\\\n",
       "\t 2020-02-24     & P.A. Bolzano   &  0             & 0              &  0             & 0              &  0             &  0             & 0              & 0              &  0             &   1            & NA             & NA            \\\\\n",
       "\t 2020-02-24     & Calabria       &  0             & 0              &  0             & 0              &  0             &  0             & 0              & 0              &  0             &   1            & NA             & NA            \\\\\n",
       "\t 2020-02-24     & Campania       &  0             & 0              &  0             & 0              &  0             &  0             & 0              & 0              &  0             &  10            & NA             & NA            \\\\\n",
       "\t 2020-02-24     & Emilia Romagna & 10             & 2              & 12             & 6              & 18             & 18             & 0              & 0              & 18             & 148            & NA             & NA            \\\\\n",
       "\\end{tabular}\n"
      ],
      "text/markdown": [
       "\n",
       "| data | denominazione_regione | ricoverati_con_sintomi | terapia_intensiva | totale_ospedalizzati | isolamento_domiciliare | totale_attualmente_positivi | nuovi_attualmente_positivi | dimessi_guariti | deceduti | totale_casi | tamponi | note_it | note_en |\n",
       "|---|---|---|---|---|---|---|---|---|---|---|---|---|---|\n",
       "| 2020-02-24     | Abruzzo        |  0             | 0              |  0             | 0              |  0             |  0             | 0              | 0              |  0             |   5            | NA             | NA             |\n",
       "| 2020-02-24     | Basilicata     |  0             | 0              |  0             | 0              |  0             |  0             | 0              | 0              |  0             |   0            | NA             | NA             |\n",
       "| 2020-02-24     | P.A. Bolzano   |  0             | 0              |  0             | 0              |  0             |  0             | 0              | 0              |  0             |   1            | NA             | NA             |\n",
       "| 2020-02-24     | Calabria       |  0             | 0              |  0             | 0              |  0             |  0             | 0              | 0              |  0             |   1            | NA             | NA             |\n",
       "| 2020-02-24     | Campania       |  0             | 0              |  0             | 0              |  0             |  0             | 0              | 0              |  0             |  10            | NA             | NA             |\n",
       "| 2020-02-24     | Emilia Romagna | 10             | 2              | 12             | 6              | 18             | 18             | 0              | 0              | 18             | 148            | NA             | NA             |\n",
       "\n"
      ],
      "text/plain": [
       "  data       denominazione_regione ricoverati_con_sintomi terapia_intensiva\n",
       "1 2020-02-24 Abruzzo                0                     0                \n",
       "2 2020-02-24 Basilicata             0                     0                \n",
       "3 2020-02-24 P.A. Bolzano           0                     0                \n",
       "4 2020-02-24 Calabria               0                     0                \n",
       "5 2020-02-24 Campania               0                     0                \n",
       "6 2020-02-24 Emilia Romagna        10                     2                \n",
       "  totale_ospedalizzati isolamento_domiciliare totale_attualmente_positivi\n",
       "1  0                   0                       0                         \n",
       "2  0                   0                       0                         \n",
       "3  0                   0                       0                         \n",
       "4  0                   0                       0                         \n",
       "5  0                   0                       0                         \n",
       "6 12                   6                      18                         \n",
       "  nuovi_attualmente_positivi dimessi_guariti deceduti totale_casi tamponi\n",
       "1  0                         0               0         0            5    \n",
       "2  0                         0               0         0            0    \n",
       "3  0                         0               0         0            1    \n",
       "4  0                         0               0         0            1    \n",
       "5  0                         0               0         0           10    \n",
       "6 18                         0               0        18          148    \n",
       "  note_it note_en\n",
       "1 NA      NA     \n",
       "2 NA      NA     \n",
       "3 NA      NA     \n",
       "4 NA      NA     \n",
       "5 NA      NA     \n",
       "6 NA      NA     "
      ]
     },
     "metadata": {},
     "output_type": "display_data"
    }
   ],
   "source": [
    "## Sort by date\n",
    "y = y[order(as.Date(y$data)),]\n",
    "#y$data <- format(as.Date(y$data), \"%d/%m\")\n",
    "head(y)"
   ]
  },
  {
   "cell_type": "code",
   "execution_count": 10,
   "metadata": {
    "scrolled": true
   },
   "outputs": [
    {
     "name": "stderr",
     "output_type": "stream",
     "text": [
      "Warning message:\n",
      "\"package 'gganimate' was built under R version 3.6.3\"Warning message:\n",
      "\"package 'hrbrthemes' was built under R version 3.6.3\"Warning message:\n",
      "\"package 'viridis' was built under R version 3.6.3\"Loading required package: viridisLite\n",
      "Warning message:\n",
      "\"package 'viridisLite' was built under R version 3.6.3\"Warning message:\n",
      "\"package 'extrafont' was built under R version 3.6.2\"Registering fonts with R\n",
      "Warning message in (nframes - 1) * (v - range[1])/full_length:\n",
      "\"longer object length is not a multiple of shorter object length\"Warning message in (nframes - 1) * (v - range[1])/full_length:\n",
      "\"longer object length is not a multiple of shorter object length\""
     ]
    }
   ],
   "source": [
    "# libraries:\n",
    "library(ggplot2)\n",
    "library(gganimate)\n",
    "library(hrbrthemes)\n",
    "library(viridis)\n",
    "library(extrafont)\n",
    "\n",
    "# Keep only 3 provinces\n",
    "y_filtered <- y %>% \n",
    "  filter(denominazione_regione %in% c(\"Lombardia\", \"Veneto\", \"Puglia\"))\n",
    "\n",
    "# Plot\n",
    "plot <- y_filtered %>%\n",
    "  ggplot( aes(x=data, y=totale_attualmente_positivi, group=denominazione_regione, color=denominazione_regione)) +\n",
    "    geom_line() +\n",
    "    geom_point() +\n",
    "    scale_color_viridis(discrete = TRUE) +\n",
    "    ggtitle(\"Totale attualmente positivi in alcune regioni\") +\n",
    "    theme_bw() +\n",
    "    ylab(\"Totale positivi\") +\n",
    "    transition_reveal(data, range = seq(as.Date(\"2020-02-24\"), by = \"month\", length.out = 30))\n",
    "\n",
    "# Save at gif:\n",
    "animate(plot, height = 400, width =750, nframes = 300, fps = 30)\n",
    "anim_save(\"andamento contagiati.gif\")"
   ]
  },
  {
   "cell_type": "markdown",
   "metadata": {},
   "source": [
    "# Studio su dati province "
   ]
  },
  {
   "cell_type": "code",
   "execution_count": 34,
   "metadata": {
    "scrolled": true
   },
   "outputs": [],
   "source": [
    "library(RCurl)\n",
    "library(dplyr)\n",
    "library(magrittr)\n",
    "xprov <- getURL(\"https://raw.githubusercontent.com/pcm-dpc/COVID-19/master/dati-province/dpc-covid19-ita-province.csv\")\n",
    "yprov <- read.csv(text = xprov, stringsAsFactors = FALSE)"
   ]
  },
  {
   "cell_type": "code",
   "execution_count": 35,
   "metadata": {},
   "outputs": [
    {
     "data": {
      "text/html": [
       "<table>\n",
       "<thead><tr><th scope=col>data</th><th scope=col>stato</th><th scope=col>codice_regione</th><th scope=col>denominazione_regione</th><th scope=col>codice_provincia</th><th scope=col>denominazione_provincia</th><th scope=col>sigla_provincia</th><th scope=col>lat</th><th scope=col>long</th><th scope=col>totale_casi</th><th scope=col>note_it</th><th scope=col>note_en</th></tr></thead>\n",
       "<tbody>\n",
       "\t<tr><td>2020-02-24T18:00:00                 </td><td>ITA                                 </td><td>13                                  </td><td>Abruzzo                             </td><td> 69                                 </td><td>Chieti                              </td><td>CH                                  </td><td>42.35103                            </td><td>14.16755                            </td><td>0                                   </td><td>                                    </td><td>                                    </td></tr>\n",
       "\t<tr><td>2020-02-24T18:00:00                 </td><td>ITA                                 </td><td>13                                  </td><td>Abruzzo                             </td><td> 66                                 </td><td>L'Aquila                            </td><td>AQ                                  </td><td>42.35122                            </td><td>13.39844                            </td><td>0                                   </td><td>                                    </td><td>                                    </td></tr>\n",
       "\t<tr><td>2020-02-24T18:00:00                 </td><td>ITA                                 </td><td>13                                  </td><td>Abruzzo                             </td><td> 68                                 </td><td>Pescara                             </td><td>PE                                  </td><td>42.46458                            </td><td>14.21365                            </td><td>0                                   </td><td>                                    </td><td>                                    </td></tr>\n",
       "\t<tr><td>2020-02-24T18:00:00                 </td><td>ITA                                 </td><td>13                                  </td><td>Abruzzo                             </td><td> 67                                 </td><td>Teramo                              </td><td>TE                                  </td><td>42.65892                            </td><td>13.70440                            </td><td>0                                   </td><td>                                    </td><td>                                    </td></tr>\n",
       "\t<tr><td>2020-02-24T18:00:00                 </td><td>ITA                                 </td><td>13                                  </td><td>Abruzzo                             </td><td>979                                 </td><td>In fase di definizione/aggiornamento</td><td>                                    </td><td> 0.00000                            </td><td> 0.00000                            </td><td>0                                   </td><td>                                    </td><td>                                    </td></tr>\n",
       "\t<tr><td>2020-02-24T18:00:00                 </td><td>ITA                                 </td><td>17                                  </td><td>Basilicata                          </td><td> 77                                 </td><td>Matera                              </td><td>MT                                  </td><td>40.66751                            </td><td>16.59792                            </td><td>0                                   </td><td>                                    </td><td>                                    </td></tr>\n",
       "</tbody>\n",
       "</table>\n"
      ],
      "text/latex": [
       "\\begin{tabular}{r|llllllllllll}\n",
       " data & stato & codice\\_regione & denominazione\\_regione & codice\\_provincia & denominazione\\_provincia & sigla\\_provincia & lat & long & totale\\_casi & note\\_it & note\\_en\\\\\n",
       "\\hline\n",
       "\t 2020-02-24T18:00:00                  & ITA                                  & 13                                   & Abruzzo                              &  69                                  & Chieti                               & CH                                   & 42.35103                             & 14.16755                             & 0                                    &                                      &                                     \\\\\n",
       "\t 2020-02-24T18:00:00                  & ITA                                  & 13                                   & Abruzzo                              &  66                                  & L'Aquila                             & AQ                                   & 42.35122                             & 13.39844                             & 0                                    &                                      &                                     \\\\\n",
       "\t 2020-02-24T18:00:00                  & ITA                                  & 13                                   & Abruzzo                              &  68                                  & Pescara                              & PE                                   & 42.46458                             & 14.21365                             & 0                                    &                                      &                                     \\\\\n",
       "\t 2020-02-24T18:00:00                  & ITA                                  & 13                                   & Abruzzo                              &  67                                  & Teramo                               & TE                                   & 42.65892                             & 13.70440                             & 0                                    &                                      &                                     \\\\\n",
       "\t 2020-02-24T18:00:00                  & ITA                                  & 13                                   & Abruzzo                              & 979                                  & In fase di definizione/aggiornamento &                                      &  0.00000                             &  0.00000                             & 0                                    &                                      &                                     \\\\\n",
       "\t 2020-02-24T18:00:00                  & ITA                                  & 17                                   & Basilicata                           &  77                                  & Matera                               & MT                                   & 40.66751                             & 16.59792                             & 0                                    &                                      &                                     \\\\\n",
       "\\end{tabular}\n"
      ],
      "text/markdown": [
       "\n",
       "| data | stato | codice_regione | denominazione_regione | codice_provincia | denominazione_provincia | sigla_provincia | lat | long | totale_casi | note_it | note_en |\n",
       "|---|---|---|---|---|---|---|---|---|---|---|---|\n",
       "| 2020-02-24T18:00:00                  | ITA                                  | 13                                   | Abruzzo                              |  69                                  | Chieti                               | CH                                   | 42.35103                             | 14.16755                             | 0                                    |                                      |                                      |\n",
       "| 2020-02-24T18:00:00                  | ITA                                  | 13                                   | Abruzzo                              |  66                                  | L'Aquila                             | AQ                                   | 42.35122                             | 13.39844                             | 0                                    |                                      |                                      |\n",
       "| 2020-02-24T18:00:00                  | ITA                                  | 13                                   | Abruzzo                              |  68                                  | Pescara                              | PE                                   | 42.46458                             | 14.21365                             | 0                                    |                                      |                                      |\n",
       "| 2020-02-24T18:00:00                  | ITA                                  | 13                                   | Abruzzo                              |  67                                  | Teramo                               | TE                                   | 42.65892                             | 13.70440                             | 0                                    |                                      |                                      |\n",
       "| 2020-02-24T18:00:00                  | ITA                                  | 13                                   | Abruzzo                              | 979                                  | In fase di definizione/aggiornamento |                                      |  0.00000                             |  0.00000                             | 0                                    |                                      |                                      |\n",
       "| 2020-02-24T18:00:00                  | ITA                                  | 17                                   | Basilicata                           |  77                                  | Matera                               | MT                                   | 40.66751                             | 16.59792                             | 0                                    |                                      |                                      |\n",
       "\n"
      ],
      "text/plain": [
       "  data                stato codice_regione denominazione_regione\n",
       "1 2020-02-24T18:00:00 ITA   13             Abruzzo              \n",
       "2 2020-02-24T18:00:00 ITA   13             Abruzzo              \n",
       "3 2020-02-24T18:00:00 ITA   13             Abruzzo              \n",
       "4 2020-02-24T18:00:00 ITA   13             Abruzzo              \n",
       "5 2020-02-24T18:00:00 ITA   13             Abruzzo              \n",
       "6 2020-02-24T18:00:00 ITA   17             Basilicata           \n",
       "  codice_provincia denominazione_provincia              sigla_provincia\n",
       "1  69              Chieti                               CH             \n",
       "2  66              L'Aquila                             AQ             \n",
       "3  68              Pescara                              PE             \n",
       "4  67              Teramo                               TE             \n",
       "5 979              In fase di definizione/aggiornamento                \n",
       "6  77              Matera                               MT             \n",
       "  lat      long     totale_casi note_it note_en\n",
       "1 42.35103 14.16755 0                          \n",
       "2 42.35122 13.39844 0                          \n",
       "3 42.46458 14.21365 0                          \n",
       "4 42.65892 13.70440 0                          \n",
       "5  0.00000  0.00000 0                          \n",
       "6 40.66751 16.59792 0                          "
      ]
     },
     "metadata": {},
     "output_type": "display_data"
    }
   ],
   "source": [
    "head(yprov)"
   ]
  },
  {
   "cell_type": "markdown",
   "metadata": {},
   "source": [
    "Pre-processing dei dati:\n",
    "1) rimuovere colonne che non servono o ridondanti\n",
    "2) missing data non esistenti \n",
    "3) rimuovere orario dalle date"
   ]
  },
  {
   "cell_type": "code",
   "execution_count": 36,
   "metadata": {},
   "outputs": [],
   "source": [
    "yprov$stato <- NULL\n",
    "yprov$codice_provincia <- NULL\n",
    "yprov$sigla_provincia <- NULL\n",
    "yprov$lat <- NULL\n",
    "yprov$long <- NULL\n",
    "yprov$data <- substr(yprov$data, 1, 10)\n",
    "yprov <- mutate(yprov, data= as.Date(data))"
   ]
  },
  {
   "cell_type": "code",
   "execution_count": 37,
   "metadata": {},
   "outputs": [
    {
     "data": {
      "text/html": [
       "<table>\n",
       "<thead><tr><th scope=col>data</th><th scope=col>codice_regione</th><th scope=col>denominazione_regione</th><th scope=col>denominazione_provincia</th><th scope=col>totale_casi</th><th scope=col>note_it</th><th scope=col>note_en</th></tr></thead>\n",
       "<tbody>\n",
       "\t<tr><td>2020-02-24                          </td><td>13                                  </td><td>Abruzzo                             </td><td>Chieti                              </td><td>0                                   </td><td>                                    </td><td>                                    </td></tr>\n",
       "\t<tr><td>2020-02-24                          </td><td>13                                  </td><td>Abruzzo                             </td><td>L'Aquila                            </td><td>0                                   </td><td>                                    </td><td>                                    </td></tr>\n",
       "\t<tr><td>2020-02-24                          </td><td>13                                  </td><td>Abruzzo                             </td><td>Pescara                             </td><td>0                                   </td><td>                                    </td><td>                                    </td></tr>\n",
       "\t<tr><td>2020-02-24                          </td><td>13                                  </td><td>Abruzzo                             </td><td>Teramo                              </td><td>0                                   </td><td>                                    </td><td>                                    </td></tr>\n",
       "\t<tr><td>2020-02-24                          </td><td>13                                  </td><td>Abruzzo                             </td><td>In fase di definizione/aggiornamento</td><td>0                                   </td><td>                                    </td><td>                                    </td></tr>\n",
       "\t<tr><td>2020-02-24                          </td><td>17                                  </td><td>Basilicata                          </td><td>Matera                              </td><td>0                                   </td><td>                                    </td><td>                                    </td></tr>\n",
       "</tbody>\n",
       "</table>\n"
      ],
      "text/latex": [
       "\\begin{tabular}{r|lllllll}\n",
       " data & codice\\_regione & denominazione\\_regione & denominazione\\_provincia & totale\\_casi & note\\_it & note\\_en\\\\\n",
       "\\hline\n",
       "\t 2020-02-24                           & 13                                   & Abruzzo                              & Chieti                               & 0                                    &                                      &                                     \\\\\n",
       "\t 2020-02-24                           & 13                                   & Abruzzo                              & L'Aquila                             & 0                                    &                                      &                                     \\\\\n",
       "\t 2020-02-24                           & 13                                   & Abruzzo                              & Pescara                              & 0                                    &                                      &                                     \\\\\n",
       "\t 2020-02-24                           & 13                                   & Abruzzo                              & Teramo                               & 0                                    &                                      &                                     \\\\\n",
       "\t 2020-02-24                           & 13                                   & Abruzzo                              & In fase di definizione/aggiornamento & 0                                    &                                      &                                     \\\\\n",
       "\t 2020-02-24                           & 17                                   & Basilicata                           & Matera                               & 0                                    &                                      &                                     \\\\\n",
       "\\end{tabular}\n"
      ],
      "text/markdown": [
       "\n",
       "| data | codice_regione | denominazione_regione | denominazione_provincia | totale_casi | note_it | note_en |\n",
       "|---|---|---|---|---|---|---|\n",
       "| 2020-02-24                           | 13                                   | Abruzzo                              | Chieti                               | 0                                    |                                      |                                      |\n",
       "| 2020-02-24                           | 13                                   | Abruzzo                              | L'Aquila                             | 0                                    |                                      |                                      |\n",
       "| 2020-02-24                           | 13                                   | Abruzzo                              | Pescara                              | 0                                    |                                      |                                      |\n",
       "| 2020-02-24                           | 13                                   | Abruzzo                              | Teramo                               | 0                                    |                                      |                                      |\n",
       "| 2020-02-24                           | 13                                   | Abruzzo                              | In fase di definizione/aggiornamento | 0                                    |                                      |                                      |\n",
       "| 2020-02-24                           | 17                                   | Basilicata                           | Matera                               | 0                                    |                                      |                                      |\n",
       "\n"
      ],
      "text/plain": [
       "  data       codice_regione denominazione_regione\n",
       "1 2020-02-24 13             Abruzzo              \n",
       "2 2020-02-24 13             Abruzzo              \n",
       "3 2020-02-24 13             Abruzzo              \n",
       "4 2020-02-24 13             Abruzzo              \n",
       "5 2020-02-24 13             Abruzzo              \n",
       "6 2020-02-24 17             Basilicata           \n",
       "  denominazione_provincia              totale_casi note_it note_en\n",
       "1 Chieti                               0                          \n",
       "2 L'Aquila                             0                          \n",
       "3 Pescara                              0                          \n",
       "4 Teramo                               0                          \n",
       "5 In fase di definizione/aggiornamento 0                          \n",
       "6 Matera                               0                          "
      ]
     },
     "metadata": {},
     "output_type": "display_data"
    }
   ],
   "source": [
    "head(yprov)"
   ]
  },
  {
   "cell_type": "markdown",
   "metadata": {},
   "source": [
    "Andamento regione a scelta per quanto riguarda i positivi dall'inizio del contagio"
   ]
  },
  {
   "cell_type": "code",
   "execution_count": 38,
   "metadata": {},
   "outputs": [
    {
     "data": {
      "text/html": [
       "<table>\n",
       "<thead><tr><th></th><th scope=col>data</th><th scope=col>codice_regione</th><th scope=col>denominazione_regione</th><th scope=col>denominazione_provincia</th><th scope=col>totale_casi</th><th scope=col>note_it</th><th scope=col>note_en</th></tr></thead>\n",
       "<tbody>\n",
       "\t<tr><th scope=row>93</th><td>24/02                               </td><td>19                                  </td><td>Sicilia                             </td><td>Agrigento                           </td><td>0                                   </td><td>                                    </td><td>                                    </td></tr>\n",
       "\t<tr><th scope=row>94</th><td>24/02                               </td><td>19                                  </td><td>Sicilia                             </td><td>Caltanissetta                       </td><td>0                                   </td><td>                                    </td><td>                                    </td></tr>\n",
       "\t<tr><th scope=row>95</th><td>24/02                               </td><td>19                                  </td><td>Sicilia                             </td><td>Catania                             </td><td>0                                   </td><td>                                    </td><td>                                    </td></tr>\n",
       "\t<tr><th scope=row>96</th><td>24/02                               </td><td>19                                  </td><td>Sicilia                             </td><td>Enna                                </td><td>0                                   </td><td>                                    </td><td>                                    </td></tr>\n",
       "\t<tr><th scope=row>102</th><td>24/02                               </td><td>19                                  </td><td>Sicilia                             </td><td>In fase di definizione/aggiornamento</td><td>0                                   </td><td>                                    </td><td>                                    </td></tr>\n",
       "\t<tr><th scope=row>97</th><td>24/02                               </td><td>19                                  </td><td>Sicilia                             </td><td>Messina                             </td><td>0                                   </td><td>                                    </td><td>                                    </td></tr>\n",
       "</tbody>\n",
       "</table>\n"
      ],
      "text/latex": [
       "\\begin{tabular}{r|lllllll}\n",
       "  & data & codice\\_regione & denominazione\\_regione & denominazione\\_provincia & totale\\_casi & note\\_it & note\\_en\\\\\n",
       "\\hline\n",
       "\t93 & 24/02                                & 19                                   & Sicilia                              & Agrigento                            & 0                                    &                                      &                                     \\\\\n",
       "\t94 & 24/02                                & 19                                   & Sicilia                              & Caltanissetta                        & 0                                    &                                      &                                     \\\\\n",
       "\t95 & 24/02                                & 19                                   & Sicilia                              & Catania                              & 0                                    &                                      &                                     \\\\\n",
       "\t96 & 24/02                                & 19                                   & Sicilia                              & Enna                                 & 0                                    &                                      &                                     \\\\\n",
       "\t102 & 24/02                                & 19                                   & Sicilia                              & In fase di definizione/aggiornamento & 0                                    &                                      &                                     \\\\\n",
       "\t97 & 24/02                                & 19                                   & Sicilia                              & Messina                              & 0                                    &                                      &                                     \\\\\n",
       "\\end{tabular}\n"
      ],
      "text/markdown": [
       "\n",
       "| <!--/--> | data | codice_regione | denominazione_regione | denominazione_provincia | totale_casi | note_it | note_en |\n",
       "|---|---|---|---|---|---|---|---|\n",
       "| 93 | 24/02                                | 19                                   | Sicilia                              | Agrigento                            | 0                                    |                                      |                                      |\n",
       "| 94 | 24/02                                | 19                                   | Sicilia                              | Caltanissetta                        | 0                                    |                                      |                                      |\n",
       "| 95 | 24/02                                | 19                                   | Sicilia                              | Catania                              | 0                                    |                                      |                                      |\n",
       "| 96 | 24/02                                | 19                                   | Sicilia                              | Enna                                 | 0                                    |                                      |                                      |\n",
       "| 102 | 24/02                                | 19                                   | Sicilia                              | In fase di definizione/aggiornamento | 0                                    |                                      |                                      |\n",
       "| 97 | 24/02                                | 19                                   | Sicilia                              | Messina                              | 0                                    |                                      |                                      |\n",
       "\n"
      ],
      "text/plain": [
       "    data  codice_regione denominazione_regione\n",
       "93  24/02 19             Sicilia              \n",
       "94  24/02 19             Sicilia              \n",
       "95  24/02 19             Sicilia              \n",
       "96  24/02 19             Sicilia              \n",
       "102 24/02 19             Sicilia              \n",
       "97  24/02 19             Sicilia              \n",
       "    denominazione_provincia              totale_casi note_it note_en\n",
       "93  Agrigento                            0                          \n",
       "94  Caltanissetta                        0                          \n",
       "95  Catania                              0                          \n",
       "96  Enna                                 0                          \n",
       "102 In fase di definizione/aggiornamento 0                          \n",
       "97  Messina                              0                          "
      ]
     },
     "metadata": {},
     "output_type": "display_data"
    }
   ],
   "source": [
    "regione <- 'Puglia'\n",
    "yprov <- yprov[yprov$denominazione_regione == regione, ] \n",
    "## Sort by date\n",
    "yprov_datashort = yprov[order(as.Date(yprov$data), yprov$denominazione_provincia),]\n",
    "yprov_datashort$data <- format(as.Date(yprov$data), \"%d/%m\")\n",
    "head(yprov_datashort)"
   ]
  },
  {
   "cell_type": "code",
   "execution_count": 39,
   "metadata": {},
   "outputs": [
    {
     "data": {
      "text/html": [
       "<table>\n",
       "<thead><tr><th></th><th scope=col>data</th><th scope=col>codice_regione</th><th scope=col>denominazione_regione</th><th scope=col>denominazione_provincia</th><th scope=col>totale_casi</th><th scope=col>note_it</th><th scope=col>note_en</th></tr></thead>\n",
       "<tbody>\n",
       "\t<tr><th scope=row>101</th><td>24/02  </td><td>19     </td><td>Sicilia</td><td>Trapani</td><td>0      </td><td>       </td><td>       </td></tr>\n",
       "\t<tr><th scope=row>229</th><td>25/02  </td><td>19     </td><td>Sicilia</td><td>Trapani</td><td>0      </td><td>       </td><td>       </td></tr>\n",
       "\t<tr><th scope=row>357</th><td>26/02  </td><td>19     </td><td>Sicilia</td><td>Trapani</td><td>0      </td><td>       </td><td>       </td></tr>\n",
       "\t<tr><th scope=row>485</th><td>27/02  </td><td>19     </td><td>Sicilia</td><td>Trapani</td><td>0      </td><td>       </td><td>       </td></tr>\n",
       "\t<tr><th scope=row>613</th><td>28/02  </td><td>19     </td><td>Sicilia</td><td>Trapani</td><td>0      </td><td>       </td><td>       </td></tr>\n",
       "\t<tr><th scope=row>741</th><td>29/02  </td><td>19     </td><td>Sicilia</td><td>Trapani</td><td>0      </td><td>       </td><td>       </td></tr>\n",
       "</tbody>\n",
       "</table>\n"
      ],
      "text/latex": [
       "\\begin{tabular}{r|lllllll}\n",
       "  & data & codice\\_regione & denominazione\\_regione & denominazione\\_provincia & totale\\_casi & note\\_it & note\\_en\\\\\n",
       "\\hline\n",
       "\t101 & 24/02   & 19      & Sicilia & Trapani & 0       &         &        \\\\\n",
       "\t229 & 25/02   & 19      & Sicilia & Trapani & 0       &         &        \\\\\n",
       "\t357 & 26/02   & 19      & Sicilia & Trapani & 0       &         &        \\\\\n",
       "\t485 & 27/02   & 19      & Sicilia & Trapani & 0       &         &        \\\\\n",
       "\t613 & 28/02   & 19      & Sicilia & Trapani & 0       &         &        \\\\\n",
       "\t741 & 29/02   & 19      & Sicilia & Trapani & 0       &         &        \\\\\n",
       "\\end{tabular}\n"
      ],
      "text/markdown": [
       "\n",
       "| <!--/--> | data | codice_regione | denominazione_regione | denominazione_provincia | totale_casi | note_it | note_en |\n",
       "|---|---|---|---|---|---|---|---|\n",
       "| 101 | 24/02   | 19      | Sicilia | Trapani | 0       |         |         |\n",
       "| 229 | 25/02   | 19      | Sicilia | Trapani | 0       |         |         |\n",
       "| 357 | 26/02   | 19      | Sicilia | Trapani | 0       |         |         |\n",
       "| 485 | 27/02   | 19      | Sicilia | Trapani | 0       |         |         |\n",
       "| 613 | 28/02   | 19      | Sicilia | Trapani | 0       |         |         |\n",
       "| 741 | 29/02   | 19      | Sicilia | Trapani | 0       |         |         |\n",
       "\n"
      ],
      "text/plain": [
       "    data  codice_regione denominazione_regione denominazione_provincia\n",
       "101 24/02 19             Sicilia               Trapani                \n",
       "229 25/02 19             Sicilia               Trapani                \n",
       "357 26/02 19             Sicilia               Trapani                \n",
       "485 27/02 19             Sicilia               Trapani                \n",
       "613 28/02 19             Sicilia               Trapani                \n",
       "741 29/02 19             Sicilia               Trapani                \n",
       "    totale_casi note_it note_en\n",
       "101 0                          \n",
       "229 0                          \n",
       "357 0                          \n",
       "485 0                          \n",
       "613 0                          \n",
       "741 0                          "
      ]
     },
     "metadata": {},
     "output_type": "display_data"
    }
   ],
   "source": [
    "provincia <- 'Trapani'\n",
    "yprov_filtered <- yprov_datashort[yprov_datashort$denominazione_provincia == provincia, ]\n",
    "head(yprov_filtered)"
   ]
  },
  {
   "cell_type": "markdown",
   "metadata": {},
   "source": [
    "## Andamento dei casi in provincia a scelta nella regione di prima"
   ]
  },
  {
   "cell_type": "code",
   "execution_count": 40,
   "metadata": {},
   "outputs": [
    {
     "data": {
      "text/html": [
       "<strong>png:</strong> 2"
      ],
      "text/latex": [
       "\\textbf{png:} 2"
      ],
      "text/markdown": [
       "**png:** 2"
      ],
      "text/plain": [
       "png \n",
       "  2 "
      ]
     },
     "metadata": {},
     "output_type": "display_data"
    }
   ],
   "source": [
    "# Stacked Bar Plot with Colors and Legend\n",
    "#data_selected <- t(as.matrix(subset(ypuglia, select=c(\"data\", \"totale_ospedalizzati\", \"isolamento_domiciliare\"))))\n",
    "#barplot(ypuglia$totale_ospedalizzati)\n",
    "\n",
    "provincia <- 'Foggia'\n",
    "yprov_filtered <- yprov_datashort[yprov_datashort$denominazione_provincia == provincia, ]\n",
    "\n",
    "# Give the chart file a name\n",
    "png(file = \"totcasi_foggia.png\", width = 1500, height = 800, res = 200)\n",
    "\n",
    "# Plot the bar chart \n",
    "barplot(yprov_filtered$totale_casi,names.arg=yprov_filtered$data,xlab=\"Data\",ylab=\"Tot casi\",col=\"blue\",\n",
    "main=\"Andamento casi Covid19 in provincia di Trapani\",border=\"red\",ylim=range(pretty(c(0, yprov_filtered$totale_casi))))\n",
    "\n",
    "# Save the file\n",
    "dev.off()"
   ]
  },
  {
   "cell_type": "markdown",
   "metadata": {},
   "source": [
    "## Distribuzione dei casi nelle varie provincie della regione scelta prima"
   ]
  },
  {
   "cell_type": "code",
   "execution_count": 41,
   "metadata": {
    "scrolled": true
   },
   "outputs": [
    {
     "data": {
      "text/html": [
       "<strong>png:</strong> 2"
      ],
      "text/latex": [
       "\\textbf{png:} 2"
      ],
      "text/markdown": [
       "**png:** 2"
      ],
      "text/plain": [
       "png \n",
       "  2 "
      ]
     },
     "metadata": {},
     "output_type": "display_data"
    }
   ],
   "source": [
    "# Remove rows with in fase di definizione o aggiornamento\n",
    "yprov_datashort = yprov_datashort[!yprov_datashort$denominazione_provincia == \"In fase di definizione/aggiornamento\", ]\n",
    "\n",
    "# Create the input vectors.\n",
    "colors = rainbow(length(unique(yprov_datashort$denominazione_provincia)))\n",
    "dates <- unique(yprov_datashort$data)\n",
    "regions <- unique(yprov_datashort$denominazione_provincia)\n",
    "\n",
    "# Create the matrix of the values.\n",
    "Values <- matrix(c(yprov_datashort$totale_casi), nrow = length(unique(yprov_datashort$denominazione_provincia)), ncol = length(dates), byrow = FALSE)\n",
    "\n",
    "# Give the chart file a name\n",
    "png(file = paste(\"Distrib_casi_\", paste(regione, \".png\", sep=\"\"), sep=\"\"), width = 2000, height = 800, res = 200)\n",
    "\n",
    "# Create the bar chart\n",
    "barplot(Values, main = paste(\"Distribuzione casi Covid19 in \", regione), names.arg = dates, xlab = \"Data\", ylab = \"Totale casi\", col = colors)\n",
    "\n",
    "# Add the legend to the chart\n",
    "legend(\"topleft\", regions, cex = 1.3, fill = colors)\n",
    "\n",
    "# Save the file\n",
    "dev.off()"
   ]
  },
  {
   "cell_type": "code",
   "execution_count": 42,
   "metadata": {
    "scrolled": true
   },
   "outputs": [
    {
     "data": {
      "text/html": [
       "<table>\n",
       "<thead><tr><th></th><th scope=col>data</th><th scope=col>codice_regione</th><th scope=col>denominazione_regione</th><th scope=col>denominazione_provincia</th><th scope=col>totale_casi</th><th scope=col>note_it</th><th scope=col>note_en</th></tr></thead>\n",
       "<tbody>\n",
       "\t<tr><th scope=row>93</th><td>24/02        </td><td>19           </td><td>Sicilia      </td><td>Agrigento    </td><td>0            </td><td>             </td><td>             </td></tr>\n",
       "\t<tr><th scope=row>94</th><td>24/02        </td><td>19           </td><td>Sicilia      </td><td>Caltanissetta</td><td>0            </td><td>             </td><td>             </td></tr>\n",
       "\t<tr><th scope=row>95</th><td>24/02        </td><td>19           </td><td>Sicilia      </td><td>Catania      </td><td>0            </td><td>             </td><td>             </td></tr>\n",
       "\t<tr><th scope=row>96</th><td>24/02        </td><td>19           </td><td>Sicilia      </td><td>Enna         </td><td>0            </td><td>             </td><td>             </td></tr>\n",
       "\t<tr><th scope=row>97</th><td>24/02        </td><td>19           </td><td>Sicilia      </td><td>Messina      </td><td>0            </td><td>             </td><td>             </td></tr>\n",
       "\t<tr><th scope=row>98</th><td>24/02        </td><td>19           </td><td>Sicilia      </td><td>Palermo      </td><td>0            </td><td>             </td><td>             </td></tr>\n",
       "\t<tr><th scope=row>99</th><td>24/02        </td><td>19           </td><td>Sicilia      </td><td>Ragusa       </td><td>0            </td><td>             </td><td>             </td></tr>\n",
       "\t<tr><th scope=row>100</th><td>24/02        </td><td>19           </td><td>Sicilia      </td><td>Siracusa     </td><td>0            </td><td>             </td><td>             </td></tr>\n",
       "\t<tr><th scope=row>101</th><td>24/02        </td><td>19           </td><td>Sicilia      </td><td>Trapani      </td><td>0            </td><td>             </td><td>             </td></tr>\n",
       "\t<tr><th scope=row>221</th><td>25/02        </td><td>19           </td><td>Sicilia      </td><td>Agrigento    </td><td>0            </td><td>             </td><td>             </td></tr>\n",
       "\t<tr><th scope=row>222</th><td>25/02        </td><td>19           </td><td>Sicilia      </td><td>Caltanissetta</td><td>0            </td><td>             </td><td>             </td></tr>\n",
       "\t<tr><th scope=row>223</th><td>25/02        </td><td>19           </td><td>Sicilia      </td><td>Catania      </td><td>0            </td><td>             </td><td>             </td></tr>\n",
       "\t<tr><th scope=row>224</th><td>25/02        </td><td>19           </td><td>Sicilia      </td><td>Enna         </td><td>0            </td><td>             </td><td>             </td></tr>\n",
       "\t<tr><th scope=row>225</th><td>25/02        </td><td>19           </td><td>Sicilia      </td><td>Messina      </td><td>0            </td><td>             </td><td>             </td></tr>\n",
       "\t<tr><th scope=row>226</th><td>25/02        </td><td>19           </td><td>Sicilia      </td><td>Palermo      </td><td>3            </td><td>             </td><td>             </td></tr>\n",
       "\t<tr><th scope=row>227</th><td>25/02        </td><td>19           </td><td>Sicilia      </td><td>Ragusa       </td><td>0            </td><td>             </td><td>             </td></tr>\n",
       "\t<tr><th scope=row>228</th><td>25/02        </td><td>19           </td><td>Sicilia      </td><td>Siracusa     </td><td>0            </td><td>             </td><td>             </td></tr>\n",
       "\t<tr><th scope=row>229</th><td>25/02        </td><td>19           </td><td>Sicilia      </td><td>Trapani      </td><td>0            </td><td>             </td><td>             </td></tr>\n",
       "\t<tr><th scope=row>349</th><td>26/02        </td><td>19           </td><td>Sicilia      </td><td>Agrigento    </td><td>0            </td><td>             </td><td>             </td></tr>\n",
       "\t<tr><th scope=row>350</th><td>26/02        </td><td>19           </td><td>Sicilia      </td><td>Caltanissetta</td><td>0            </td><td>             </td><td>             </td></tr>\n",
       "\t<tr><th scope=row>351</th><td>26/02        </td><td>19           </td><td>Sicilia      </td><td>Catania      </td><td>0            </td><td>             </td><td>             </td></tr>\n",
       "\t<tr><th scope=row>352</th><td>26/02        </td><td>19           </td><td>Sicilia      </td><td>Enna         </td><td>0            </td><td>             </td><td>             </td></tr>\n",
       "\t<tr><th scope=row>353</th><td>26/02        </td><td>19           </td><td>Sicilia      </td><td>Messina      </td><td>0            </td><td>             </td><td>             </td></tr>\n",
       "\t<tr><th scope=row>354</th><td>26/02        </td><td>19           </td><td>Sicilia      </td><td>Palermo      </td><td>3            </td><td>             </td><td>             </td></tr>\n",
       "\t<tr><th scope=row>355</th><td>26/02        </td><td>19           </td><td>Sicilia      </td><td>Ragusa       </td><td>0            </td><td>             </td><td>             </td></tr>\n",
       "\t<tr><th scope=row>356</th><td>26/02        </td><td>19           </td><td>Sicilia      </td><td>Siracusa     </td><td>0            </td><td>             </td><td>             </td></tr>\n",
       "\t<tr><th scope=row>357</th><td>26/02        </td><td>19           </td><td>Sicilia      </td><td>Trapani      </td><td>0            </td><td>             </td><td>             </td></tr>\n",
       "\t<tr><th scope=row>477</th><td>27/02        </td><td>19           </td><td>Sicilia      </td><td>Agrigento    </td><td>0            </td><td>             </td><td>             </td></tr>\n",
       "\t<tr><th scope=row>478</th><td>27/02        </td><td>19           </td><td>Sicilia      </td><td>Caltanissetta</td><td>0            </td><td>             </td><td>             </td></tr>\n",
       "\t<tr><th scope=row>479</th><td>27/02        </td><td>19           </td><td>Sicilia      </td><td>Catania      </td><td>1            </td><td>             </td><td>             </td></tr>\n",
       "\t<tr><th scope=row>...</th><td>...</td><td>...</td><td>...</td><td>...</td><td>...</td><td>...</td><td>...</td></tr>\n",
       "\t<tr><th scope=row>3555</th><td>22/03        </td><td>19           </td><td>Sicilia      </td><td>Ragusa       </td><td>  9          </td><td>             </td><td>             </td></tr>\n",
       "\t<tr><th scope=row>3556</th><td>22/03        </td><td>19           </td><td>Sicilia      </td><td>Siracusa     </td><td> 49          </td><td>             </td><td>             </td></tr>\n",
       "\t<tr><th scope=row>3557</th><td>22/03        </td><td>19           </td><td>Sicilia      </td><td>Trapani      </td><td> 32          </td><td>             </td><td>             </td></tr>\n",
       "\t<tr><th scope=row>3677</th><td>23/03        </td><td>19           </td><td>Sicilia      </td><td>Agrigento    </td><td> 45          </td><td>             </td><td>             </td></tr>\n",
       "\t<tr><th scope=row>3678</th><td>23/03        </td><td>19           </td><td>Sicilia      </td><td>Caltanissetta</td><td> 29          </td><td>             </td><td>             </td></tr>\n",
       "\t<tr><th scope=row>3679</th><td>23/03        </td><td>19           </td><td>Sicilia      </td><td>Catania      </td><td>274          </td><td>             </td><td>             </td></tr>\n",
       "\t<tr><th scope=row>3680</th><td>23/03        </td><td>19           </td><td>Sicilia      </td><td>Enna         </td><td> 44          </td><td>             </td><td>             </td></tr>\n",
       "\t<tr><th scope=row>3681</th><td>23/03        </td><td>19           </td><td>Sicilia      </td><td>Messina      </td><td>120          </td><td>             </td><td>             </td></tr>\n",
       "\t<tr><th scope=row>3682</th><td>23/03        </td><td>19           </td><td>Sicilia      </td><td>Palermo      </td><td>109          </td><td>             </td><td>             </td></tr>\n",
       "\t<tr><th scope=row>3683</th><td>23/03        </td><td>19           </td><td>Sicilia      </td><td>Ragusa       </td><td>  9          </td><td>             </td><td>             </td></tr>\n",
       "\t<tr><th scope=row>3684</th><td>23/03        </td><td>19           </td><td>Sicilia      </td><td>Siracusa     </td><td> 49          </td><td>             </td><td>             </td></tr>\n",
       "\t<tr><th scope=row>3685</th><td>23/03        </td><td>19           </td><td>Sicilia      </td><td>Trapani      </td><td> 42          </td><td>             </td><td>             </td></tr>\n",
       "\t<tr><th scope=row>3805</th><td>24/03        </td><td>19           </td><td>Sicilia      </td><td>Agrigento    </td><td> 47          </td><td>             </td><td>             </td></tr>\n",
       "\t<tr><th scope=row>3806</th><td>24/03        </td><td>19           </td><td>Sicilia      </td><td>Caltanissetta</td><td> 40          </td><td>             </td><td>             </td></tr>\n",
       "\t<tr><th scope=row>3807</th><td>24/03        </td><td>19           </td><td>Sicilia      </td><td>Catania      </td><td>286          </td><td>             </td><td>             </td></tr>\n",
       "\t<tr><th scope=row>3808</th><td>24/03        </td><td>19           </td><td>Sicilia      </td><td>Enna         </td><td> 63          </td><td>             </td><td>             </td></tr>\n",
       "\t<tr><th scope=row>3809</th><td>24/03        </td><td>19           </td><td>Sicilia      </td><td>Messina      </td><td>139          </td><td>             </td><td>             </td></tr>\n",
       "\t<tr><th scope=row>3810</th><td>24/03        </td><td>19           </td><td>Sicilia      </td><td>Palermo      </td><td>170          </td><td>             </td><td>             </td></tr>\n",
       "\t<tr><th scope=row>3811</th><td>24/03        </td><td>19           </td><td>Sicilia      </td><td>Ragusa       </td><td>  9          </td><td>             </td><td>             </td></tr>\n",
       "\t<tr><th scope=row>3812</th><td>24/03        </td><td>19           </td><td>Sicilia      </td><td>Siracusa     </td><td> 49          </td><td>             </td><td>             </td></tr>\n",
       "\t<tr><th scope=row>3813</th><td>24/03        </td><td>19           </td><td>Sicilia      </td><td>Trapani      </td><td> 43          </td><td>             </td><td>             </td></tr>\n",
       "\t<tr><th scope=row>3933</th><td>25/03        </td><td>19           </td><td>Sicilia      </td><td>Agrigento    </td><td> 50          </td><td>             </td><td>             </td></tr>\n",
       "\t<tr><th scope=row>3934</th><td>25/03        </td><td>19           </td><td>Sicilia      </td><td>Caltanissetta</td><td> 45          </td><td>             </td><td>             </td></tr>\n",
       "\t<tr><th scope=row>3935</th><td>25/03        </td><td>19           </td><td>Sicilia      </td><td>Catania      </td><td>308          </td><td>             </td><td>             </td></tr>\n",
       "\t<tr><th scope=row>3936</th><td>25/03        </td><td>19           </td><td>Sicilia      </td><td>Enna         </td><td> 90          </td><td>             </td><td>             </td></tr>\n",
       "\t<tr><th scope=row>3937</th><td>25/03        </td><td>19           </td><td>Sicilia      </td><td>Messina      </td><td>174          </td><td>             </td><td>             </td></tr>\n",
       "\t<tr><th scope=row>3938</th><td>25/03        </td><td>19           </td><td>Sicilia      </td><td>Palermo      </td><td>193          </td><td>             </td><td>             </td></tr>\n",
       "\t<tr><th scope=row>3939</th><td>25/03        </td><td>19           </td><td>Sicilia      </td><td>Ragusa       </td><td> 22          </td><td>             </td><td>             </td></tr>\n",
       "\t<tr><th scope=row>3940</th><td>25/03        </td><td>19           </td><td>Sicilia      </td><td>Siracusa     </td><td> 64          </td><td>             </td><td>             </td></tr>\n",
       "\t<tr><th scope=row>3941</th><td>25/03        </td><td>19           </td><td>Sicilia      </td><td>Trapani      </td><td> 48          </td><td>             </td><td>             </td></tr>\n",
       "</tbody>\n",
       "</table>\n"
      ],
      "text/latex": [
       "\\begin{tabular}{r|lllllll}\n",
       "  & data & codice\\_regione & denominazione\\_regione & denominazione\\_provincia & totale\\_casi & note\\_it & note\\_en\\\\\n",
       "\\hline\n",
       "\t93 & 24/02         & 19            & Sicilia       & Agrigento     & 0             &               &              \\\\\n",
       "\t94 & 24/02         & 19            & Sicilia       & Caltanissetta & 0             &               &              \\\\\n",
       "\t95 & 24/02         & 19            & Sicilia       & Catania       & 0             &               &              \\\\\n",
       "\t96 & 24/02         & 19            & Sicilia       & Enna          & 0             &               &              \\\\\n",
       "\t97 & 24/02         & 19            & Sicilia       & Messina       & 0             &               &              \\\\\n",
       "\t98 & 24/02         & 19            & Sicilia       & Palermo       & 0             &               &              \\\\\n",
       "\t99 & 24/02         & 19            & Sicilia       & Ragusa        & 0             &               &              \\\\\n",
       "\t100 & 24/02         & 19            & Sicilia       & Siracusa      & 0             &               &              \\\\\n",
       "\t101 & 24/02         & 19            & Sicilia       & Trapani       & 0             &               &              \\\\\n",
       "\t221 & 25/02         & 19            & Sicilia       & Agrigento     & 0             &               &              \\\\\n",
       "\t222 & 25/02         & 19            & Sicilia       & Caltanissetta & 0             &               &              \\\\\n",
       "\t223 & 25/02         & 19            & Sicilia       & Catania       & 0             &               &              \\\\\n",
       "\t224 & 25/02         & 19            & Sicilia       & Enna          & 0             &               &              \\\\\n",
       "\t225 & 25/02         & 19            & Sicilia       & Messina       & 0             &               &              \\\\\n",
       "\t226 & 25/02         & 19            & Sicilia       & Palermo       & 3             &               &              \\\\\n",
       "\t227 & 25/02         & 19            & Sicilia       & Ragusa        & 0             &               &              \\\\\n",
       "\t228 & 25/02         & 19            & Sicilia       & Siracusa      & 0             &               &              \\\\\n",
       "\t229 & 25/02         & 19            & Sicilia       & Trapani       & 0             &               &              \\\\\n",
       "\t349 & 26/02         & 19            & Sicilia       & Agrigento     & 0             &               &              \\\\\n",
       "\t350 & 26/02         & 19            & Sicilia       & Caltanissetta & 0             &               &              \\\\\n",
       "\t351 & 26/02         & 19            & Sicilia       & Catania       & 0             &               &              \\\\\n",
       "\t352 & 26/02         & 19            & Sicilia       & Enna          & 0             &               &              \\\\\n",
       "\t353 & 26/02         & 19            & Sicilia       & Messina       & 0             &               &              \\\\\n",
       "\t354 & 26/02         & 19            & Sicilia       & Palermo       & 3             &               &              \\\\\n",
       "\t355 & 26/02         & 19            & Sicilia       & Ragusa        & 0             &               &              \\\\\n",
       "\t356 & 26/02         & 19            & Sicilia       & Siracusa      & 0             &               &              \\\\\n",
       "\t357 & 26/02         & 19            & Sicilia       & Trapani       & 0             &               &              \\\\\n",
       "\t477 & 27/02         & 19            & Sicilia       & Agrigento     & 0             &               &              \\\\\n",
       "\t478 & 27/02         & 19            & Sicilia       & Caltanissetta & 0             &               &              \\\\\n",
       "\t479 & 27/02         & 19            & Sicilia       & Catania       & 1             &               &              \\\\\n",
       "\t... & ... & ... & ... & ... & ... & ... & ...\\\\\n",
       "\t3555 & 22/03         & 19            & Sicilia       & Ragusa        &   9           &               &              \\\\\n",
       "\t3556 & 22/03         & 19            & Sicilia       & Siracusa      &  49           &               &              \\\\\n",
       "\t3557 & 22/03         & 19            & Sicilia       & Trapani       &  32           &               &              \\\\\n",
       "\t3677 & 23/03         & 19            & Sicilia       & Agrigento     &  45           &               &              \\\\\n",
       "\t3678 & 23/03         & 19            & Sicilia       & Caltanissetta &  29           &               &              \\\\\n",
       "\t3679 & 23/03         & 19            & Sicilia       & Catania       & 274           &               &              \\\\\n",
       "\t3680 & 23/03         & 19            & Sicilia       & Enna          &  44           &               &              \\\\\n",
       "\t3681 & 23/03         & 19            & Sicilia       & Messina       & 120           &               &              \\\\\n",
       "\t3682 & 23/03         & 19            & Sicilia       & Palermo       & 109           &               &              \\\\\n",
       "\t3683 & 23/03         & 19            & Sicilia       & Ragusa        &   9           &               &              \\\\\n",
       "\t3684 & 23/03         & 19            & Sicilia       & Siracusa      &  49           &               &              \\\\\n",
       "\t3685 & 23/03         & 19            & Sicilia       & Trapani       &  42           &               &              \\\\\n",
       "\t3805 & 24/03         & 19            & Sicilia       & Agrigento     &  47           &               &              \\\\\n",
       "\t3806 & 24/03         & 19            & Sicilia       & Caltanissetta &  40           &               &              \\\\\n",
       "\t3807 & 24/03         & 19            & Sicilia       & Catania       & 286           &               &              \\\\\n",
       "\t3808 & 24/03         & 19            & Sicilia       & Enna          &  63           &               &              \\\\\n",
       "\t3809 & 24/03         & 19            & Sicilia       & Messina       & 139           &               &              \\\\\n",
       "\t3810 & 24/03         & 19            & Sicilia       & Palermo       & 170           &               &              \\\\\n",
       "\t3811 & 24/03         & 19            & Sicilia       & Ragusa        &   9           &               &              \\\\\n",
       "\t3812 & 24/03         & 19            & Sicilia       & Siracusa      &  49           &               &              \\\\\n",
       "\t3813 & 24/03         & 19            & Sicilia       & Trapani       &  43           &               &              \\\\\n",
       "\t3933 & 25/03         & 19            & Sicilia       & Agrigento     &  50           &               &              \\\\\n",
       "\t3934 & 25/03         & 19            & Sicilia       & Caltanissetta &  45           &               &              \\\\\n",
       "\t3935 & 25/03         & 19            & Sicilia       & Catania       & 308           &               &              \\\\\n",
       "\t3936 & 25/03         & 19            & Sicilia       & Enna          &  90           &               &              \\\\\n",
       "\t3937 & 25/03         & 19            & Sicilia       & Messina       & 174           &               &              \\\\\n",
       "\t3938 & 25/03         & 19            & Sicilia       & Palermo       & 193           &               &              \\\\\n",
       "\t3939 & 25/03         & 19            & Sicilia       & Ragusa        &  22           &               &              \\\\\n",
       "\t3940 & 25/03         & 19            & Sicilia       & Siracusa      &  64           &               &              \\\\\n",
       "\t3941 & 25/03         & 19            & Sicilia       & Trapani       &  48           &               &              \\\\\n",
       "\\end{tabular}\n"
      ],
      "text/markdown": [
       "\n",
       "| <!--/--> | data | codice_regione | denominazione_regione | denominazione_provincia | totale_casi | note_it | note_en |\n",
       "|---|---|---|---|---|---|---|---|\n",
       "| 93 | 24/02         | 19            | Sicilia       | Agrigento     | 0             |               |               |\n",
       "| 94 | 24/02         | 19            | Sicilia       | Caltanissetta | 0             |               |               |\n",
       "| 95 | 24/02         | 19            | Sicilia       | Catania       | 0             |               |               |\n",
       "| 96 | 24/02         | 19            | Sicilia       | Enna          | 0             |               |               |\n",
       "| 97 | 24/02         | 19            | Sicilia       | Messina       | 0             |               |               |\n",
       "| 98 | 24/02         | 19            | Sicilia       | Palermo       | 0             |               |               |\n",
       "| 99 | 24/02         | 19            | Sicilia       | Ragusa        | 0             |               |               |\n",
       "| 100 | 24/02         | 19            | Sicilia       | Siracusa      | 0             |               |               |\n",
       "| 101 | 24/02         | 19            | Sicilia       | Trapani       | 0             |               |               |\n",
       "| 221 | 25/02         | 19            | Sicilia       | Agrigento     | 0             |               |               |\n",
       "| 222 | 25/02         | 19            | Sicilia       | Caltanissetta | 0             |               |               |\n",
       "| 223 | 25/02         | 19            | Sicilia       | Catania       | 0             |               |               |\n",
       "| 224 | 25/02         | 19            | Sicilia       | Enna          | 0             |               |               |\n",
       "| 225 | 25/02         | 19            | Sicilia       | Messina       | 0             |               |               |\n",
       "| 226 | 25/02         | 19            | Sicilia       | Palermo       | 3             |               |               |\n",
       "| 227 | 25/02         | 19            | Sicilia       | Ragusa        | 0             |               |               |\n",
       "| 228 | 25/02         | 19            | Sicilia       | Siracusa      | 0             |               |               |\n",
       "| 229 | 25/02         | 19            | Sicilia       | Trapani       | 0             |               |               |\n",
       "| 349 | 26/02         | 19            | Sicilia       | Agrigento     | 0             |               |               |\n",
       "| 350 | 26/02         | 19            | Sicilia       | Caltanissetta | 0             |               |               |\n",
       "| 351 | 26/02         | 19            | Sicilia       | Catania       | 0             |               |               |\n",
       "| 352 | 26/02         | 19            | Sicilia       | Enna          | 0             |               |               |\n",
       "| 353 | 26/02         | 19            | Sicilia       | Messina       | 0             |               |               |\n",
       "| 354 | 26/02         | 19            | Sicilia       | Palermo       | 3             |               |               |\n",
       "| 355 | 26/02         | 19            | Sicilia       | Ragusa        | 0             |               |               |\n",
       "| 356 | 26/02         | 19            | Sicilia       | Siracusa      | 0             |               |               |\n",
       "| 357 | 26/02         | 19            | Sicilia       | Trapani       | 0             |               |               |\n",
       "| 477 | 27/02         | 19            | Sicilia       | Agrigento     | 0             |               |               |\n",
       "| 478 | 27/02         | 19            | Sicilia       | Caltanissetta | 0             |               |               |\n",
       "| 479 | 27/02         | 19            | Sicilia       | Catania       | 1             |               |               |\n",
       "| ... | ... | ... | ... | ... | ... | ... | ... |\n",
       "| 3555 | 22/03         | 19            | Sicilia       | Ragusa        |   9           |               |               |\n",
       "| 3556 | 22/03         | 19            | Sicilia       | Siracusa      |  49           |               |               |\n",
       "| 3557 | 22/03         | 19            | Sicilia       | Trapani       |  32           |               |               |\n",
       "| 3677 | 23/03         | 19            | Sicilia       | Agrigento     |  45           |               |               |\n",
       "| 3678 | 23/03         | 19            | Sicilia       | Caltanissetta |  29           |               |               |\n",
       "| 3679 | 23/03         | 19            | Sicilia       | Catania       | 274           |               |               |\n",
       "| 3680 | 23/03         | 19            | Sicilia       | Enna          |  44           |               |               |\n",
       "| 3681 | 23/03         | 19            | Sicilia       | Messina       | 120           |               |               |\n",
       "| 3682 | 23/03         | 19            | Sicilia       | Palermo       | 109           |               |               |\n",
       "| 3683 | 23/03         | 19            | Sicilia       | Ragusa        |   9           |               |               |\n",
       "| 3684 | 23/03         | 19            | Sicilia       | Siracusa      |  49           |               |               |\n",
       "| 3685 | 23/03         | 19            | Sicilia       | Trapani       |  42           |               |               |\n",
       "| 3805 | 24/03         | 19            | Sicilia       | Agrigento     |  47           |               |               |\n",
       "| 3806 | 24/03         | 19            | Sicilia       | Caltanissetta |  40           |               |               |\n",
       "| 3807 | 24/03         | 19            | Sicilia       | Catania       | 286           |               |               |\n",
       "| 3808 | 24/03         | 19            | Sicilia       | Enna          |  63           |               |               |\n",
       "| 3809 | 24/03         | 19            | Sicilia       | Messina       | 139           |               |               |\n",
       "| 3810 | 24/03         | 19            | Sicilia       | Palermo       | 170           |               |               |\n",
       "| 3811 | 24/03         | 19            | Sicilia       | Ragusa        |   9           |               |               |\n",
       "| 3812 | 24/03         | 19            | Sicilia       | Siracusa      |  49           |               |               |\n",
       "| 3813 | 24/03         | 19            | Sicilia       | Trapani       |  43           |               |               |\n",
       "| 3933 | 25/03         | 19            | Sicilia       | Agrigento     |  50           |               |               |\n",
       "| 3934 | 25/03         | 19            | Sicilia       | Caltanissetta |  45           |               |               |\n",
       "| 3935 | 25/03         | 19            | Sicilia       | Catania       | 308           |               |               |\n",
       "| 3936 | 25/03         | 19            | Sicilia       | Enna          |  90           |               |               |\n",
       "| 3937 | 25/03         | 19            | Sicilia       | Messina       | 174           |               |               |\n",
       "| 3938 | 25/03         | 19            | Sicilia       | Palermo       | 193           |               |               |\n",
       "| 3939 | 25/03         | 19            | Sicilia       | Ragusa        |  22           |               |               |\n",
       "| 3940 | 25/03         | 19            | Sicilia       | Siracusa      |  64           |               |               |\n",
       "| 3941 | 25/03         | 19            | Sicilia       | Trapani       |  48           |               |               |\n",
       "\n"
      ],
      "text/plain": [
       "     data  codice_regione denominazione_regione denominazione_provincia\n",
       "93   24/02 19             Sicilia               Agrigento              \n",
       "94   24/02 19             Sicilia               Caltanissetta          \n",
       "95   24/02 19             Sicilia               Catania                \n",
       "96   24/02 19             Sicilia               Enna                   \n",
       "97   24/02 19             Sicilia               Messina                \n",
       "98   24/02 19             Sicilia               Palermo                \n",
       "99   24/02 19             Sicilia               Ragusa                 \n",
       "100  24/02 19             Sicilia               Siracusa               \n",
       "101  24/02 19             Sicilia               Trapani                \n",
       "221  25/02 19             Sicilia               Agrigento              \n",
       "222  25/02 19             Sicilia               Caltanissetta          \n",
       "223  25/02 19             Sicilia               Catania                \n",
       "224  25/02 19             Sicilia               Enna                   \n",
       "225  25/02 19             Sicilia               Messina                \n",
       "226  25/02 19             Sicilia               Palermo                \n",
       "227  25/02 19             Sicilia               Ragusa                 \n",
       "228  25/02 19             Sicilia               Siracusa               \n",
       "229  25/02 19             Sicilia               Trapani                \n",
       "349  26/02 19             Sicilia               Agrigento              \n",
       "350  26/02 19             Sicilia               Caltanissetta          \n",
       "351  26/02 19             Sicilia               Catania                \n",
       "352  26/02 19             Sicilia               Enna                   \n",
       "353  26/02 19             Sicilia               Messina                \n",
       "354  26/02 19             Sicilia               Palermo                \n",
       "355  26/02 19             Sicilia               Ragusa                 \n",
       "356  26/02 19             Sicilia               Siracusa               \n",
       "357  26/02 19             Sicilia               Trapani                \n",
       "477  27/02 19             Sicilia               Agrigento              \n",
       "478  27/02 19             Sicilia               Caltanissetta          \n",
       "479  27/02 19             Sicilia               Catania                \n",
       "...  ...   ...            ...                   ...                    \n",
       "3555 22/03 19             Sicilia               Ragusa                 \n",
       "3556 22/03 19             Sicilia               Siracusa               \n",
       "3557 22/03 19             Sicilia               Trapani                \n",
       "3677 23/03 19             Sicilia               Agrigento              \n",
       "3678 23/03 19             Sicilia               Caltanissetta          \n",
       "3679 23/03 19             Sicilia               Catania                \n",
       "3680 23/03 19             Sicilia               Enna                   \n",
       "3681 23/03 19             Sicilia               Messina                \n",
       "3682 23/03 19             Sicilia               Palermo                \n",
       "3683 23/03 19             Sicilia               Ragusa                 \n",
       "3684 23/03 19             Sicilia               Siracusa               \n",
       "3685 23/03 19             Sicilia               Trapani                \n",
       "3805 24/03 19             Sicilia               Agrigento              \n",
       "3806 24/03 19             Sicilia               Caltanissetta          \n",
       "3807 24/03 19             Sicilia               Catania                \n",
       "3808 24/03 19             Sicilia               Enna                   \n",
       "3809 24/03 19             Sicilia               Messina                \n",
       "3810 24/03 19             Sicilia               Palermo                \n",
       "3811 24/03 19             Sicilia               Ragusa                 \n",
       "3812 24/03 19             Sicilia               Siracusa               \n",
       "3813 24/03 19             Sicilia               Trapani                \n",
       "3933 25/03 19             Sicilia               Agrigento              \n",
       "3934 25/03 19             Sicilia               Caltanissetta          \n",
       "3935 25/03 19             Sicilia               Catania                \n",
       "3936 25/03 19             Sicilia               Enna                   \n",
       "3937 25/03 19             Sicilia               Messina                \n",
       "3938 25/03 19             Sicilia               Palermo                \n",
       "3939 25/03 19             Sicilia               Ragusa                 \n",
       "3940 25/03 19             Sicilia               Siracusa               \n",
       "3941 25/03 19             Sicilia               Trapani                \n",
       "     totale_casi note_it note_en\n",
       "93   0                          \n",
       "94   0                          \n",
       "95   0                          \n",
       "96   0                          \n",
       "97   0                          \n",
       "98   0                          \n",
       "99   0                          \n",
       "100  0                          \n",
       "101  0                          \n",
       "221  0                          \n",
       "222  0                          \n",
       "223  0                          \n",
       "224  0                          \n",
       "225  0                          \n",
       "226  3                          \n",
       "227  0                          \n",
       "228  0                          \n",
       "229  0                          \n",
       "349  0                          \n",
       "350  0                          \n",
       "351  0                          \n",
       "352  0                          \n",
       "353  0                          \n",
       "354  3                          \n",
       "355  0                          \n",
       "356  0                          \n",
       "357  0                          \n",
       "477  0                          \n",
       "478  0                          \n",
       "479  1                          \n",
       "...  ...         ...     ...    \n",
       "3555   9                        \n",
       "3556  49                        \n",
       "3557  32                        \n",
       "3677  45                        \n",
       "3678  29                        \n",
       "3679 274                        \n",
       "3680  44                        \n",
       "3681 120                        \n",
       "3682 109                        \n",
       "3683   9                        \n",
       "3684  49                        \n",
       "3685  42                        \n",
       "3805  47                        \n",
       "3806  40                        \n",
       "3807 286                        \n",
       "3808  63                        \n",
       "3809 139                        \n",
       "3810 170                        \n",
       "3811   9                        \n",
       "3812  49                        \n",
       "3813  43                        \n",
       "3933  50                        \n",
       "3934  45                        \n",
       "3935 308                        \n",
       "3936  90                        \n",
       "3937 174                        \n",
       "3938 193                        \n",
       "3939  22                        \n",
       "3940  64                        \n",
       "3941  48                        "
      ]
     },
     "metadata": {},
     "output_type": "display_data"
    }
   ],
   "source": [
    "yprov_datashort"
   ]
  },
  {
   "cell_type": "markdown",
   "metadata": {},
   "source": [
    "## Animazione totale casi in regione scelta"
   ]
  },
  {
   "cell_type": "code",
   "execution_count": 43,
   "metadata": {
    "scrolled": true
   },
   "outputs": [
    {
     "name": "stderr",
     "output_type": "stream",
     "text": [
      "Warning message in (nframes - 1) * (v - range[1])/full_length:\n",
      "\"longer object length is not a multiple of shorter object length\"Warning message in (nframes - 1) * (v - range[1])/full_length:\n",
      "\"longer object length is not a multiple of shorter object length\""
     ]
    }
   ],
   "source": [
    "## Sort by date\n",
    "yprov = yprov[order(as.Date(yprov$data), yprov$denominazione_provincia),]\n",
    "yprov = yprov[!yprov$denominazione_provincia == \"In fase di definizione/aggiornamento\", ]\n",
    "\n",
    "# libraries:\n",
    "library(ggplot2)\n",
    "library(gganimate)\n",
    "library(hrbrthemes)\n",
    "library(viridis)\n",
    "library(extrafont)\n",
    "\n",
    "# Plot\n",
    "plot <- yprov %>%\n",
    "  ggplot( aes(x=data, y=totale_casi, group=denominazione_provincia, color=denominazione_provincia)) +\n",
    "    geom_line() +\n",
    "    geom_point() +\n",
    "    scale_color_viridis(discrete = TRUE) +\n",
    "    ggtitle(paste(\"Totale casi nelle province della regione \", regione, sep = \"\")) +\n",
    "    theme_bw() +\n",
    "    ylab(\"Totale casi\") +\n",
    "    transition_reveal(data, range = seq(as.Date(\"2020-02-24\"), by = \"month\", length.out = 30))\n",
    "\n",
    "# Save at gif:\n",
    "animate(plot, height = 400, width =750, nframes = 300, fps = 30)\n",
    "anim_save(paste(paste(\"andamento contagiati in \", regione, sep = \"\"), \".gif\", sep = \"\"))"
   ]
  },
  {
   "cell_type": "markdown",
   "metadata": {},
   "source": [
    "# Studio nuovi contagiati"
   ]
  },
  {
   "cell_type": "markdown",
   "metadata": {},
   "source": [
    "## Livello nazionale"
   ]
  },
  {
   "cell_type": "code",
   "execution_count": 44,
   "metadata": {},
   "outputs": [
    {
     "data": {
      "text/html": [
       "<strong>png:</strong> 2"
      ],
      "text/latex": [
       "\\textbf{png:} 2"
      ],
      "text/markdown": [
       "**png:** 2"
      ],
      "text/plain": [
       "png \n",
       "  2 "
      ]
     },
     "metadata": {},
     "output_type": "display_data"
    }
   ],
   "source": [
    "# Select only data and nuovi_attualmente_positivi\n",
    "ynuovipos = subset(y, select=c(\"data\", \"nuovi_attualmente_positivi\"))\n",
    "\n",
    "# Group by data and sum on positivi\n",
    "ynuovipos_data = aggregate(nuovi_attualmente_positivi ~ data, ynuovipos, sum)\n",
    "\n",
    "# Plot the trend\n",
    "library(ggplot2)\n",
    "theme_set(theme_dark())\n",
    "\n",
    "png(file = \"nuovi_contagi_nazionale.png\", width = 1900, height = 800, res=250)\n",
    "\n",
    "# Allow Default X Axis Labels\n",
    "ggplot(ynuovipos_data, aes(x=data)) + \n",
    "  geom_line(aes(y=nuovi_attualmente_positivi)) + \n",
    "  labs(title=\"Andamento nuovi positivi in Italia\", \n",
    "       subtitle=\"Giorno per giorno i nuovi positivi\", \n",
    "       caption=\"Source: Protezione civile\", \n",
    "       y=\"Nuovi positivi\",\n",
    "       x=\"\")\n",
    "\n",
    "dev.off()"
   ]
  },
  {
   "cell_type": "markdown",
   "metadata": {},
   "source": [
    "## Livello regionale"
   ]
  },
  {
   "cell_type": "code",
   "execution_count": 47,
   "metadata": {},
   "outputs": [
    {
     "data": {
      "text/html": [
       "<strong>png:</strong> 2"
      ],
      "text/latex": [
       "\\textbf{png:} 2"
      ],
      "text/markdown": [
       "**png:** 2"
      ],
      "text/plain": [
       "png \n",
       "  2 "
      ]
     },
     "metadata": {},
     "output_type": "display_data"
    }
   ],
   "source": [
    "# Select only data and nuovi_attualmente_positivi\n",
    "regione = 'Puglia'\n",
    "ynuovipos_reg = subset(y[y$denominazione_regione == regione,], select=c(\"data\", \"nuovi_attualmente_positivi\"))\n",
    "\n",
    "# Plot the trend\n",
    "library(ggplot2)\n",
    "theme_set(theme_dark())\n",
    "\n",
    "png(file = paste(paste(\"nuovi_contagi_\", regione, sep=\"\"), \".png\", sep=\"\"), width = 1900, height = 800, res=300)\n",
    "\n",
    "# Allow Default X Axis Labels\n",
    "ggplot(ynuovipos_reg, aes(x=data)) + \n",
    "  geom_line(aes(y=nuovi_attualmente_positivi)) + \n",
    "  labs(title=paste(\"Andamento nuovi positivi in \", regione, sep=\"\"), \n",
    "       subtitle=\"Giorno per giorno i nuovi positivi\", \n",
    "       caption=\"Source: Protezione civile\", \n",
    "       y=\"Nuovi positivi\",\n",
    "       x=\"\")\n",
    "\n",
    "dev.off()"
   ]
  }
 ],
 "metadata": {
  "kernelspec": {
   "display_name": "R",
   "language": "R",
   "name": "ir"
  },
  "language_info": {
   "codemirror_mode": "r",
   "file_extension": ".r",
   "mimetype": "text/x-r-source",
   "name": "R",
   "pygments_lexer": "r",
   "version": "3.6.1"
  }
 },
 "nbformat": 4,
 "nbformat_minor": 4
}
